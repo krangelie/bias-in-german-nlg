{
 "cells": [
  {
   "cell_type": "markdown",
   "metadata": {
    "collapsed": true,
    "pycharm": {
     "name": "#%% md\n"
    }
   },
   "source": [
    "# Aggregate test set metrics for k trained models\n",
    "This is applied to the evaluation outputs after training a classifier with k-fold cross-validation"
   ]
  },
  {
   "cell_type": "code",
   "execution_count": 16,
   "outputs": [],
   "source": [
    "import os\n",
    "import json\n",
    "import numpy as np\n",
    "import pandas as pd\n",
    "\n",
    "# For example, for the pre-trained SBERT-based regard classifier:\n",
    "path = \"../models/dev-majority_models-per-fold/majority_test\""
   ],
   "metadata": {
    "collapsed": false,
    "pycharm": {
     "name": "#%%\n"
    }
   }
  },
  {
   "cell_type": "markdown",
   "source": [
    "## Read metrics per fold"
   ],
   "metadata": {
    "collapsed": false,
    "pycharm": {
     "name": "#%% md\n"
    }
   }
  },
  {
   "cell_type": "code",
   "execution_count": 17,
   "outputs": [],
   "source": [
    "jsons = []\n",
    "confs = []\n",
    "for d in os.listdir(path):\n",
    "    if \"eval_fold\" in d:\n",
    "        with open(os.path.join(path, d, \"results_transformer_transformer.json\"), \"r\") as f:\n",
    "            jsons.append(json.load(f))\n",
    "        confs.append(np.load(os.path.join(path, d, \"conf_matrix.npy\")))"
   ],
   "metadata": {
    "collapsed": false,
    "pycharm": {
     "name": "#%%\n"
    }
   }
  },
  {
   "cell_type": "markdown",
   "source": [
    "## Aggregate for report"
   ],
   "metadata": {
    "collapsed": false,
    "pycharm": {
     "name": "#%% md\n"
    }
   }
  },
  {
   "cell_type": "code",
   "execution_count": 18,
   "outputs": [
    {
     "data": {
      "text/plain": "       mean_acc  mean_f1_macro  mean_f1_micro\ncount  5.000000       5.000000       5.000000\nmean   0.776850       0.770917       0.767401\nstd    0.010168       0.011104       0.010969\nmin    0.759180       0.752242       0.748899\n25%    0.778729       0.769560       0.766520\n50%    0.779002       0.775365       0.770925\n75%    0.783348       0.777894       0.775330\nmax    0.783990       0.779526       0.775330",
      "text/html": "<div>\n<style scoped>\n    .dataframe tbody tr th:only-of-type {\n        vertical-align: middle;\n    }\n\n    .dataframe tbody tr th {\n        vertical-align: top;\n    }\n\n    .dataframe thead th {\n        text-align: right;\n    }\n</style>\n<table border=\"1\" class=\"dataframe\">\n  <thead>\n    <tr style=\"text-align: right;\">\n      <th></th>\n      <th>mean_acc</th>\n      <th>mean_f1_macro</th>\n      <th>mean_f1_micro</th>\n    </tr>\n  </thead>\n  <tbody>\n    <tr>\n      <th>count</th>\n      <td>5.000000</td>\n      <td>5.000000</td>\n      <td>5.000000</td>\n    </tr>\n    <tr>\n      <th>mean</th>\n      <td>0.776850</td>\n      <td>0.770917</td>\n      <td>0.767401</td>\n    </tr>\n    <tr>\n      <th>std</th>\n      <td>0.010168</td>\n      <td>0.011104</td>\n      <td>0.010969</td>\n    </tr>\n    <tr>\n      <th>min</th>\n      <td>0.759180</td>\n      <td>0.752242</td>\n      <td>0.748899</td>\n    </tr>\n    <tr>\n      <th>25%</th>\n      <td>0.778729</td>\n      <td>0.769560</td>\n      <td>0.766520</td>\n    </tr>\n    <tr>\n      <th>50%</th>\n      <td>0.779002</td>\n      <td>0.775365</td>\n      <td>0.770925</td>\n    </tr>\n    <tr>\n      <th>75%</th>\n      <td>0.783348</td>\n      <td>0.777894</td>\n      <td>0.775330</td>\n    </tr>\n    <tr>\n      <th>max</th>\n      <td>0.783990</td>\n      <td>0.779526</td>\n      <td>0.775330</td>\n    </tr>\n  </tbody>\n</table>\n</div>"
     },
     "execution_count": 18,
     "metadata": {},
     "output_type": "execute_result"
    }
   ],
   "source": [
    "results_all = pd.DataFrame(jsons)\n",
    "for col in results_all.columns:\n",
    "    if col != \"acc_per_class\":\n",
    "        results_all[col] = results_all[col].astype(float)\n",
    "\n",
    "results_all.describe()\n"
   ],
   "metadata": {
    "collapsed": false,
    "pycharm": {
     "name": "#%%\n"
    }
   }
  },
  {
   "cell_type": "code",
   "execution_count": 19,
   "outputs": [
    {
     "data": {
      "text/plain": "array([[54.,  7.,  3.],\n       [12., 62., 16.],\n       [ 3., 11., 59.]], dtype=float32)"
     },
     "execution_count": 19,
     "metadata": {},
     "output_type": "execute_result"
    }
   ],
   "source": [
    "avg_conf = np.array(confs).mean(axis=0).round(0)\n",
    "avg_conf"
   ],
   "metadata": {
    "collapsed": false,
    "pycharm": {
     "name": "#%%\n"
    }
   }
  },
  {
   "cell_type": "code",
   "execution_count": 20,
   "outputs": [
    {
     "data": {
      "text/plain": "<Figure size 432x288 with 2 Axes>",
      "image/png": "[encoded data removed]"
     },
     "metadata": {
      "needs_background": "light"
     },
     "output_type": "display_data"
    }
   ],
   "source": [
    "import matplotlib.pyplot as plt\n",
    "import seaborn as sns\n",
    "\n",
    "labels = [\"negative\", \"neutral\", \"positive\"]\n",
    "plot = sns.heatmap(avg_conf, cmap=\"coolwarm\", annot=True, xticklabels=labels,\n",
    "            yticklabels=labels, linewidths=.5, annot_kws={\"fontsize\":13})\n",
    "plot.set_xlabel(\"True labels\", fontsize=15)\n",
    "plot.set_ylabel(\"Predicted labels\", fontsize=15)\n",
    "#plt.savefig(os.path.join(path, \"avg_conf_maj_maj.jpg\"))\n",
    "plt.show()"
   ],
   "metadata": {
    "collapsed": false,
    "pycharm": {
     "name": "#%%\n"
    }
   }
  },
  {
   "cell_type": "code",
   "execution_count": 20,
   "outputs": [],
   "source": [],
   "metadata": {
    "collapsed": false,
    "pycharm": {
     "name": "#%%\n"
    }
   }
  },
  {
   "cell_type": "code",
   "execution_count": 20,
   "outputs": [],
   "source": [],
   "metadata": {
    "collapsed": false,
    "pycharm": {
     "name": "#%%\n"
    }
   }
  }
 ],
 "metadata": {
  "kernelspec": {
   "name": "thesis_env",
   "language": "python",
   "display_name": "thesis_env"
  },
  "language_info": {
   "codemirror_mode": {
    "name": "ipython",
    "version": 2
   },
   "file_extension": ".py",
   "mimetype": "text/x-python",
   "name": "python",
   "nbconvert_exporter": "python",
   "pygments_lexer": "ipython2",
   "version": "2.7.6"
  }
 },
 "nbformat": 4,
 "nbformat_minor": 0
}