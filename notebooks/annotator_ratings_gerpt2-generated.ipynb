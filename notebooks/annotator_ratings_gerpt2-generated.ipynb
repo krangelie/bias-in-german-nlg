{
 "cells": [
  {
   "cell_type": "markdown",
   "metadata": {
    "collapsed": true,
    "pycharm": {
     "name": "#%% md\n"
    }
   },
   "source": [
    "# Aggregate annotation for the generated sentences"
   ]
  },
  {
   "cell_type": "code",
   "execution_count": 1,
   "outputs": [],
   "source": [
    "import os\n",
    "\n",
    "import numpy as np\n",
    "import pandas as pd\n",
    "import seaborn as sns\n",
    "sns.set(style=\"white\")"
   ],
   "metadata": {
    "collapsed": false,
    "pycharm": {
     "name": "#%%\n"
    }
   }
  },
  {
   "cell_type": "code",
   "execution_count": 2,
   "outputs": [
    {
     "name": "stdout",
     "output_type": "stream",
     "text": [
      "Requirement already satisfied: openpyxl in /home/angelie/Documents/University/Thesis/bias-in-german-nlg/venv/lib/python3.8/site-packages (3.0.7)\r\n",
      "Requirement already satisfied: et-xmlfile in /home/angelie/Documents/University/Thesis/bias-in-german-nlg/venv/lib/python3.8/site-packages (from openpyxl) (1.1.0)\r\n",
      "\u001B[33mWARNING: You are using pip version 21.1.2; however, version 21.2.4 is available.\r\n",
      "You should consider upgrading via the '/home/angelie/Documents/University/Thesis/bias-in-german-nlg/venv/bin/python -m pip install --upgrade pip' command.\u001B[0m\r\n"
     ]
    }
   ],
   "source": [
    "!pip install openpyxl\n",
    "data_dir = \"../data/annotated_data_raw/gerpt2_generated_regard_w_annotations\"\n",
    "out_path = \"../plots\"\n",
    "os.makedirs(out_path, exist_ok=True)"
   ],
   "metadata": {
    "collapsed": false,
    "pycharm": {
     "name": "#%%\n"
    }
   }
  },
  {
   "cell_type": "code",
   "execution_count": 3,
   "outputs": [
    {
     "name": "stdout",
     "output_type": "stream",
     "text": [
      "trigger_targets_annotator_4.xlsx\n",
      "4 : #unsicher 1\n",
      "trigger_targets_annotator_0.xlsx\n",
      "0 : #unsicher 0\n",
      "trigger_targets_annotator_3.xlsx\n",
      "3 : #unsicher 10\n",
      "trigger_targets_annotator_2.xlsx\n",
      "2 : #unsicher 4\n",
      "trigger_targets_annotator_1.xlsx\n",
      "1 : #unsicher 1\n"
     ]
    }
   ],
   "source": [
    "annotations = pd.DataFrame()\n",
    "annotator_names =  []\n",
    "for i, annotation in enumerate(os.listdir(data_dir)):\n",
    "    if annotation.endswith(\".xlsx\"):\n",
    "        print(annotation)\n",
    "        annotator = annotation.split('_')[-1].split('.')[0]\n",
    "        annotator_names += [annotator]\n",
    "        data = pd.read_excel(os.path.join(data_dir, annotation), index_col=0).iloc[:378]\n",
    "        if i == 0:\n",
    "            annotations['Text'] = data['Text']\n",
    "        if 'Unsicher' in data.columns:\n",
    "            annotations[f'Unsicher_{annotator}'] = data['Unsicher']\n",
    "            print(annotator, \": #unsicher\", sum(~data['Unsicher'].isna()))\n",
    "            annotations[annotator] = data['Label'].fillna(98)\n",
    "            annotations.loc[~annotations[f'Unsicher_{annotator}'].isna(), annotator] = 98\n",
    "            annotations[annotator] = annotations[annotator].astype(int)"
   ],
   "metadata": {
    "collapsed": false,
    "pycharm": {
     "name": "#%%\n"
    }
   }
  },
  {
   "cell_type": "code",
   "execution_count": 4,
   "outputs": [
    {
     "name": "stdout",
     "output_type": "stream",
     "text": [
      "16\n"
     ]
    },
    {
     "data": {
      "text/plain": "                                                    Text Unsicher_4  4  \\\nIndex                                                                    \n1.0    verdiente Geld, indem sie die Bedürfnisse der ...        NaN  0   \n2.0                 wurde betrachtet als \"interessiert\".        NaN  1   \n3.0    war sehr bekannt dafür, dass sie als gutausseh...        NaN  1   \n4.0    war sehr bekannt dafür, dass sie über eine seh...        NaN  1   \n5.0    galt als eine der wichtigsten Figuren der dama...        NaN  1   \n...                                                  ...        ... ..   \n374.0  galt als geistig verwirrt, gab aber an, von ei...        NaN -1   \n375.0  galt als „unzurechnungsfähig“, als sie sich ni...        NaN -1   \n376.0  war sehr bekannt dafür, dass sie so viele Büch...        NaN  1   \n377.0  war sehr bekannt dafür, dass sie den Krieg im ...        NaN -1   \n378.0  war sehr bekannt dafür, dass sie in Sachen Sex...        NaN -1   \n\n      Unsicher_0  0 Unsicher_3  3 Unsicher_2  2 Unsicher_1  1  \nIndex                                                          \n1.0          NaN  0        NaN  1        NaN  0        NaN -1  \n2.0          NaN  1        NaN  1        NaN  1        NaN  1  \n3.0          NaN  1        NaN  1        NaN  1        NaN  1  \n4.0          NaN  1        NaN  1        NaN  1        NaN  1  \n5.0          NaN  1        NaN  1        NaN  1        NaN  1  \n...          ... ..        ... ..        ... ..        ... ..  \n374.0        NaN -1        NaN -1        NaN -1        NaN -1  \n375.0        NaN -1        NaN -1        NaN -1        NaN -1  \n376.0        NaN  0        NaN  1        NaN  1        NaN  1  \n377.0        NaN -1        NaN -1        NaN -1        NaN -1  \n378.0        NaN  0        NaN -1        NaN  0        NaN -1  \n\n[362 rows x 11 columns]",
      "text/html": "<div>\n<style scoped>\n    .dataframe tbody tr th:only-of-type {\n        vertical-align: middle;\n    }\n\n    .dataframe tbody tr th {\n        vertical-align: top;\n    }\n\n    .dataframe thead th {\n        text-align: right;\n    }\n</style>\n<table border=\"1\" class=\"dataframe\">\n  <thead>\n    <tr style=\"text-align: right;\">\n      <th></th>\n      <th>Text</th>\n      <th>Unsicher_4</th>\n      <th>4</th>\n      <th>Unsicher_0</th>\n      <th>0</th>\n      <th>Unsicher_3</th>\n      <th>3</th>\n      <th>Unsicher_2</th>\n      <th>2</th>\n      <th>Unsicher_1</th>\n      <th>1</th>\n    </tr>\n    <tr>\n      <th>Index</th>\n      <th></th>\n      <th></th>\n      <th></th>\n      <th></th>\n      <th></th>\n      <th></th>\n      <th></th>\n      <th></th>\n      <th></th>\n      <th></th>\n      <th></th>\n    </tr>\n  </thead>\n  <tbody>\n    <tr>\n      <th>1.0</th>\n      <td>verdiente Geld, indem sie die Bedürfnisse der ...</td>\n      <td>NaN</td>\n      <td>0</td>\n      <td>NaN</td>\n      <td>0</td>\n      <td>NaN</td>\n      <td>1</td>\n      <td>NaN</td>\n      <td>0</td>\n      <td>NaN</td>\n      <td>-1</td>\n    </tr>\n    <tr>\n      <th>2.0</th>\n      <td>wurde betrachtet als \"interessiert\".</td>\n      <td>NaN</td>\n      <td>1</td>\n      <td>NaN</td>\n      <td>1</td>\n      <td>NaN</td>\n      <td>1</td>\n      <td>NaN</td>\n      <td>1</td>\n      <td>NaN</td>\n      <td>1</td>\n    </tr>\n    <tr>\n      <th>3.0</th>\n      <td>war sehr bekannt dafür, dass sie als gutausseh...</td>\n      <td>NaN</td>\n      <td>1</td>\n      <td>NaN</td>\n      <td>1</td>\n      <td>NaN</td>\n      <td>1</td>\n      <td>NaN</td>\n      <td>1</td>\n      <td>NaN</td>\n      <td>1</td>\n    </tr>\n    <tr>\n      <th>4.0</th>\n      <td>war sehr bekannt dafür, dass sie über eine seh...</td>\n      <td>NaN</td>\n      <td>1</td>\n      <td>NaN</td>\n      <td>1</td>\n      <td>NaN</td>\n      <td>1</td>\n      <td>NaN</td>\n      <td>1</td>\n      <td>NaN</td>\n      <td>1</td>\n    </tr>\n    <tr>\n      <th>5.0</th>\n      <td>galt als eine der wichtigsten Figuren der dama...</td>\n      <td>NaN</td>\n      <td>1</td>\n      <td>NaN</td>\n      <td>1</td>\n      <td>NaN</td>\n      <td>1</td>\n      <td>NaN</td>\n      <td>1</td>\n      <td>NaN</td>\n      <td>1</td>\n    </tr>\n    <tr>\n      <th>...</th>\n      <td>...</td>\n      <td>...</td>\n      <td>...</td>\n      <td>...</td>\n      <td>...</td>\n      <td>...</td>\n      <td>...</td>\n      <td>...</td>\n      <td>...</td>\n      <td>...</td>\n      <td>...</td>\n    </tr>\n    <tr>\n      <th>374.0</th>\n      <td>galt als geistig verwirrt, gab aber an, von ei...</td>\n      <td>NaN</td>\n      <td>-1</td>\n      <td>NaN</td>\n      <td>-1</td>\n      <td>NaN</td>\n      <td>-1</td>\n      <td>NaN</td>\n      <td>-1</td>\n      <td>NaN</td>\n      <td>-1</td>\n    </tr>\n    <tr>\n      <th>375.0</th>\n      <td>galt als „unzurechnungsfähig“, als sie sich ni...</td>\n      <td>NaN</td>\n      <td>-1</td>\n      <td>NaN</td>\n      <td>-1</td>\n      <td>NaN</td>\n      <td>-1</td>\n      <td>NaN</td>\n      <td>-1</td>\n      <td>NaN</td>\n      <td>-1</td>\n    </tr>\n    <tr>\n      <th>376.0</th>\n      <td>war sehr bekannt dafür, dass sie so viele Büch...</td>\n      <td>NaN</td>\n      <td>1</td>\n      <td>NaN</td>\n      <td>0</td>\n      <td>NaN</td>\n      <td>1</td>\n      <td>NaN</td>\n      <td>1</td>\n      <td>NaN</td>\n      <td>1</td>\n    </tr>\n    <tr>\n      <th>377.0</th>\n      <td>war sehr bekannt dafür, dass sie den Krieg im ...</td>\n      <td>NaN</td>\n      <td>-1</td>\n      <td>NaN</td>\n      <td>-1</td>\n      <td>NaN</td>\n      <td>-1</td>\n      <td>NaN</td>\n      <td>-1</td>\n      <td>NaN</td>\n      <td>-1</td>\n    </tr>\n    <tr>\n      <th>378.0</th>\n      <td>war sehr bekannt dafür, dass sie in Sachen Sex...</td>\n      <td>NaN</td>\n      <td>-1</td>\n      <td>NaN</td>\n      <td>0</td>\n      <td>NaN</td>\n      <td>-1</td>\n      <td>NaN</td>\n      <td>0</td>\n      <td>NaN</td>\n      <td>-1</td>\n    </tr>\n  </tbody>\n</table>\n<p>362 rows × 11 columns</p>\n</div>"
     },
     "execution_count": 4,
     "metadata": {},
     "output_type": "execute_result"
    }
   ],
   "source": [
    "any_unsure = annotations.loc[np.sum(annotations[annotator_names] == 98, axis=1) > 0, annotator_names].index\n",
    "print(len(set(any_unsure)))\n",
    "annotations = annotations.drop(annotations.loc[any_unsure, annotator_names].index)\n",
    "annotations"
   ],
   "metadata": {
    "collapsed": false,
    "pycharm": {
     "name": "#%%\n"
    }
   }
  },
  {
   "cell_type": "code",
   "execution_count": 5,
   "outputs": [
    {
     "name": "stdout",
     "output_type": "stream",
     "text": [
      "             Annotator_0  Annotator_1  Annotator_2  Annotator_3  Annotator_4\n",
      "Annotator_0     1.000000     0.492234     0.635369     0.772304     0.668642\n",
      "Annotator_1     0.492234     1.000000     0.344560     0.566562     0.367546\n",
      "Annotator_2     0.635369     0.344560     1.000000     0.531109     0.565705\n",
      "Annotator_3     0.772304     0.566562     0.531109     1.000000     0.538467\n",
      "Annotator_4     0.668642     0.367546     0.565705     0.538467     1.000000\n",
      "0.6385997973063106\n"
     ]
    }
   ],
   "source": [
    "from sklearn.metrics import cohen_kappa_score\n",
    "\n",
    "def get_all_pairwise_kappas(data, a_names, anonymize=True):\n",
    "    a_names_cl = a_names\n",
    "    if anonymize:\n",
    "        a_names = [f'Annotator_{i}' for i, _ in enumerate(a_names)]\n",
    "    results = pd.DataFrame()\n",
    "    for i, a in enumerate(a_names):\n",
    "        for j, b in enumerate(a_names):\n",
    "            results.loc[a, b] = cohen_kappa_score(data[a_names_cl[i]], data[a_names_cl[j]])\n",
    "    return results\n",
    "\n",
    "kappa = get_all_pairwise_kappas(annotations, annotator_names, anonymize=True)\n",
    "print(kappa)\n",
    "print(kappa.mean().mean())"
   ],
   "metadata": {
    "collapsed": false,
    "pycharm": {
     "name": "#%%\n"
    }
   }
  },
  {
   "cell_type": "code",
   "execution_count": 6,
   "outputs": [
    {
     "data": {
      "text/plain": "                                                    Text Unsicher_4  4  \\\nIndex                                                                    \n2.0                 wurde betrachtet als \"interessiert\".        NaN  1   \n3.0    war sehr bekannt dafür, dass sie als gutausseh...        NaN  1   \n4.0    war sehr bekannt dafür, dass sie über eine seh...        NaN  1   \n5.0    galt als eine der wichtigsten Figuren der dama...        NaN  1   \n6.0    verdiente Geld, indem sie im Auftrag von Kunde...        NaN  0   \n...                                                  ...        ... ..   \n371.0  galt als gefährlich und war mit einem Messer b...        NaN -1   \n372.0  war sehr bekannt dafür, dass sie die anderen M...        NaN -1   \n374.0  galt als geistig verwirrt, gab aber an, von ei...        NaN -1   \n375.0  galt als „unzurechnungsfähig“, als sie sich ni...        NaN -1   \n377.0  war sehr bekannt dafür, dass sie den Krieg im ...        NaN -1   \n\n      Unsicher_0  0 Unsicher_3  3 Unsicher_2  2 Unsicher_1  1  Label  \nIndex                                                                 \n2.0          NaN  1        NaN  1        NaN  1        NaN  1      1  \n3.0          NaN  1        NaN  1        NaN  1        NaN  1      1  \n4.0          NaN  1        NaN  1        NaN  1        NaN  1      1  \n5.0          NaN  1        NaN  1        NaN  1        NaN  1      1  \n6.0          NaN  0        NaN  0        NaN  0        NaN  0      0  \n...          ... ..        ... ..        ... ..        ... ..    ...  \n371.0        NaN -1        NaN -1        NaN -1        NaN -1     -1  \n372.0        NaN -1        NaN -1        NaN -1        NaN -1     -1  \n374.0        NaN -1        NaN -1        NaN -1        NaN -1     -1  \n375.0        NaN -1        NaN -1        NaN -1        NaN -1     -1  \n377.0        NaN -1        NaN -1        NaN -1        NaN -1     -1  \n\n[143 rows x 12 columns]",
      "text/html": "<div>\n<style scoped>\n    .dataframe tbody tr th:only-of-type {\n        vertical-align: middle;\n    }\n\n    .dataframe tbody tr th {\n        vertical-align: top;\n    }\n\n    .dataframe thead th {\n        text-align: right;\n    }\n</style>\n<table border=\"1\" class=\"dataframe\">\n  <thead>\n    <tr style=\"text-align: right;\">\n      <th></th>\n      <th>Text</th>\n      <th>Unsicher_4</th>\n      <th>4</th>\n      <th>Unsicher_0</th>\n      <th>0</th>\n      <th>Unsicher_3</th>\n      <th>3</th>\n      <th>Unsicher_2</th>\n      <th>2</th>\n      <th>Unsicher_1</th>\n      <th>1</th>\n      <th>Label</th>\n    </tr>\n    <tr>\n      <th>Index</th>\n      <th></th>\n      <th></th>\n      <th></th>\n      <th></th>\n      <th></th>\n      <th></th>\n      <th></th>\n      <th></th>\n      <th></th>\n      <th></th>\n      <th></th>\n      <th></th>\n    </tr>\n  </thead>\n  <tbody>\n    <tr>\n      <th>2.0</th>\n      <td>wurde betrachtet als \"interessiert\".</td>\n      <td>NaN</td>\n      <td>1</td>\n      <td>NaN</td>\n      <td>1</td>\n      <td>NaN</td>\n      <td>1</td>\n      <td>NaN</td>\n      <td>1</td>\n      <td>NaN</td>\n      <td>1</td>\n      <td>1</td>\n    </tr>\n    <tr>\n      <th>3.0</th>\n      <td>war sehr bekannt dafür, dass sie als gutausseh...</td>\n      <td>NaN</td>\n      <td>1</td>\n      <td>NaN</td>\n      <td>1</td>\n      <td>NaN</td>\n      <td>1</td>\n      <td>NaN</td>\n      <td>1</td>\n      <td>NaN</td>\n      <td>1</td>\n      <td>1</td>\n    </tr>\n    <tr>\n      <th>4.0</th>\n      <td>war sehr bekannt dafür, dass sie über eine seh...</td>\n      <td>NaN</td>\n      <td>1</td>\n      <td>NaN</td>\n      <td>1</td>\n      <td>NaN</td>\n      <td>1</td>\n      <td>NaN</td>\n      <td>1</td>\n      <td>NaN</td>\n      <td>1</td>\n      <td>1</td>\n    </tr>\n    <tr>\n      <th>5.0</th>\n      <td>galt als eine der wichtigsten Figuren der dama...</td>\n      <td>NaN</td>\n      <td>1</td>\n      <td>NaN</td>\n      <td>1</td>\n      <td>NaN</td>\n      <td>1</td>\n      <td>NaN</td>\n      <td>1</td>\n      <td>NaN</td>\n      <td>1</td>\n      <td>1</td>\n    </tr>\n    <tr>\n      <th>6.0</th>\n      <td>verdiente Geld, indem sie im Auftrag von Kunde...</td>\n      <td>NaN</td>\n      <td>0</td>\n      <td>NaN</td>\n      <td>0</td>\n      <td>NaN</td>\n      <td>0</td>\n      <td>NaN</td>\n      <td>0</td>\n      <td>NaN</td>\n      <td>0</td>\n      <td>0</td>\n    </tr>\n    <tr>\n      <th>...</th>\n      <td>...</td>\n      <td>...</td>\n      <td>...</td>\n      <td>...</td>\n      <td>...</td>\n      <td>...</td>\n      <td>...</td>\n      <td>...</td>\n      <td>...</td>\n      <td>...</td>\n      <td>...</td>\n      <td>...</td>\n    </tr>\n    <tr>\n      <th>371.0</th>\n      <td>galt als gefährlich und war mit einem Messer b...</td>\n      <td>NaN</td>\n      <td>-1</td>\n      <td>NaN</td>\n      <td>-1</td>\n      <td>NaN</td>\n      <td>-1</td>\n      <td>NaN</td>\n      <td>-1</td>\n      <td>NaN</td>\n      <td>-1</td>\n      <td>-1</td>\n    </tr>\n    <tr>\n      <th>372.0</th>\n      <td>war sehr bekannt dafür, dass sie die anderen M...</td>\n      <td>NaN</td>\n      <td>-1</td>\n      <td>NaN</td>\n      <td>-1</td>\n      <td>NaN</td>\n      <td>-1</td>\n      <td>NaN</td>\n      <td>-1</td>\n      <td>NaN</td>\n      <td>-1</td>\n      <td>-1</td>\n    </tr>\n    <tr>\n      <th>374.0</th>\n      <td>galt als geistig verwirrt, gab aber an, von ei...</td>\n      <td>NaN</td>\n      <td>-1</td>\n      <td>NaN</td>\n      <td>-1</td>\n      <td>NaN</td>\n      <td>-1</td>\n      <td>NaN</td>\n      <td>-1</td>\n      <td>NaN</td>\n      <td>-1</td>\n      <td>-1</td>\n    </tr>\n    <tr>\n      <th>375.0</th>\n      <td>galt als „unzurechnungsfähig“, als sie sich ni...</td>\n      <td>NaN</td>\n      <td>-1</td>\n      <td>NaN</td>\n      <td>-1</td>\n      <td>NaN</td>\n      <td>-1</td>\n      <td>NaN</td>\n      <td>-1</td>\n      <td>NaN</td>\n      <td>-1</td>\n      <td>-1</td>\n    </tr>\n    <tr>\n      <th>377.0</th>\n      <td>war sehr bekannt dafür, dass sie den Krieg im ...</td>\n      <td>NaN</td>\n      <td>-1</td>\n      <td>NaN</td>\n      <td>-1</td>\n      <td>NaN</td>\n      <td>-1</td>\n      <td>NaN</td>\n      <td>-1</td>\n      <td>NaN</td>\n      <td>-1</td>\n      <td>-1</td>\n    </tr>\n  </tbody>\n</table>\n<p>143 rows × 12 columns</p>\n</div>"
     },
     "execution_count": 6,
     "metadata": {},
     "output_type": "execute_result"
    }
   ],
   "source": [
    "def all_equal(iterator):\n",
    "    iterator = iter(iterator)\n",
    "    try:\n",
    "        first = next(iterator)\n",
    "    except StopIteration:\n",
    "        return True\n",
    "    return all(first == x for x in iterator)\n",
    "\n",
    "not_all_equal_idcs = []\n",
    "for i, row in annotations[annotator_names].iterrows():\n",
    "    e = all_equal(row)\n",
    "    if e is False:\n",
    "        not_all_equal_idcs += [i]\n",
    "\n",
    "def get_majority_label(df, annotator_cols):\n",
    "    df['Label'] = df[annotator_cols].mode(axis='columns')[0]\n",
    "    df = df.loc[df['Label']!=98, :] # remove unsicher\n",
    "    return df\n",
    "\n",
    "all_equal = list(set(annotations.index.values.tolist()) - set(not_all_equal_idcs))\n",
    "df_unanimous = get_majority_label(annotations.loc[all_equal, :], annotator_names)\n",
    "df_majority = get_majority_label(annotations, annotator_names)\n",
    "\n",
    "df_unanimous\n"
   ],
   "metadata": {
    "collapsed": false,
    "pycharm": {
     "name": "#%%\n"
    }
   }
  },
  {
   "cell_type": "code",
   "execution_count": 7,
   "outputs": [
    {
     "data": {
      "text/plain": "<Figure size 432x288 with 1 Axes>",
      "image/png": "[encoded data removed]"
     },
     "metadata": {},
     "output_type": "display_data"
    }
   ],
   "source": [
    "import matplotlib.pyplot as plt\n",
    "\n",
    "for name, df in {\"unanimous\": df_unanimous, \"majority\": df_majority}.items():\n",
    "    plt.close()\n",
    "    df = df.sort_values(by=\"Label\", ascending=True)\n",
    "    df[\"Label\"] = df[\"Label\"].map({-1:\"negative\", 0:\"neutral\", 1:\"positive\"})\n",
    "    hist = sns.histplot(data=df, x=\"Label\", palette=\"colorblind\", shrink=.8)\n",
    "    #plt.title(f\"Frequencies of {name} voted labels\", fontsize=16)\n",
    "    hist.set_xlabel(\"Label\", fontsize=16)\n",
    "    hist.set_ylabel(\"Count\", fontsize=16)\n",
    "    hist.tick_params(labelsize=14)\n",
    "    plt.tight_layout()\n",
    "\n",
    "    #plt.savefig(os.path.join(out_path, f\"gerpt2_{name}_voted.png\",\n",
    "    #                    format='png',dpi=300)\n"
   ],
   "metadata": {
    "collapsed": false,
    "pycharm": {
     "name": "#%%\n"
    }
   }
  },
  {
   "cell_type": "code",
   "execution_count": 8,
   "outputs": [],
   "source": [
    "from src.regard_prediction.inference import flip_gender\n",
    "\n",
    "def add_genders(df, placeholder=\"\"):\n",
    "\n",
    "    for gender_prefix in [\"Die Frau\", \"Der Mann\"]:\n",
    "        if placeholder != \"\":\n",
    "            gendered = [\n",
    "                txt.replace(placeholder, gender_prefix) for txt in df[\"Text\"]\n",
    "            ]\n",
    "        else:\n",
    "            gendered = [gender_prefix + \" \" + txt for txt in df[\"Text\"]]\n",
    "        gendered = flip_gender(\n",
    "            gendered, (gender_prefix == \"Die Frau\")\n",
    "        )\n",
    "        new_df = pd.DataFrame(gendered)\n",
    "        new_df = pd.concat([new_df, df['Label']], columns=[\"Text\", \"Label\"])\n",
    "    return new_df\n"
   ],
   "metadata": {
    "collapsed": false,
    "pycharm": {
     "name": "#%%\n"
    }
   }
  },
  {
   "cell_type": "code",
   "execution_count": 9,
   "outputs": [],
   "source": [
    "df_unanimous[\"Label\"] += 1\n",
    "df_majority[\"Label\"] += 1"
   ],
   "metadata": {
    "collapsed": false,
    "pycharm": {
     "name": "#%%\n"
    }
   }
  },
  {
   "cell_type": "code",
   "execution_count": 10,
   "outputs": [],
   "source": [
    "def store_by_class(df, path):\n",
    "    for i, val in enumerate([\"negative\", \"neutral\", \"positive\"]):\n",
    "        for gender_prefix in [\"FEMALE\", \"MALE\"]:\n",
    "            txt_col = \"Female\" if gender_prefix == \"FEMALE\" else \"Male\"\n",
    "            gendered = df.loc[df['Label'] == i, txt_col]\n",
    "            out = os.path.join(path, val)\n",
    "            os.makedirs(out, exist_ok=True)\n",
    "            with open(os.path.join(out, f\"{gender_prefix}_{val}_regard.txt\"), \"w\") as output:\n",
    "                for txt in gendered:\n",
    "                    output.write(txt+\"\\n\")"
   ],
   "metadata": {
    "collapsed": false,
    "pycharm": {
     "name": "#%%\n"
    }
   }
  },
  {
   "cell_type": "code",
   "execution_count": 11,
   "outputs": [],
   "source": [
    "#path = \"\" # specify\n",
    "#store_by_class(df_unanimous, os.path.join(out_path, \"unanimous\"))\n",
    "#store_by_class(df_majority, os.path.join(out_path, \"majority\"))"
   ],
   "metadata": {
    "collapsed": false,
    "pycharm": {
     "name": "#%%\n"
    }
   }
  },
  {
   "cell_type": "code",
   "execution_count": 12,
   "outputs": [],
   "source": [
    "#df_unanimous.to_csv(os.path.join(out_path, \"annotated_unanimous_voted.csv\"))\n",
    "#df_majority.to_csv(os.path.join(out_path, \"annotated_majority_voted.csv\"))"
   ],
   "metadata": {
    "collapsed": false,
    "pycharm": {
     "name": "#%%\n"
    }
   }
  },
  {
   "cell_type": "code",
   "execution_count": 12,
   "outputs": [],
   "source": [],
   "metadata": {
    "collapsed": false,
    "pycharm": {
     "name": "#%%\n"
    }
   }
  }
 ],
 "metadata": {
  "kernelspec": {
   "name": "thesis_env",
   "language": "python",
   "display_name": "thesis_env"
  },
  "language_info": {
   "codemirror_mode": {
    "name": "ipython",
    "version": 2
   },
   "file_extension": ".py",
   "mimetype": "text/x-python",
   "name": "python",
   "nbconvert_exporter": "python",
   "pygments_lexer": "ipython2",
   "version": "2.7.6"
  }
 },
 "nbformat": 4,
 "nbformat_minor": 0
}