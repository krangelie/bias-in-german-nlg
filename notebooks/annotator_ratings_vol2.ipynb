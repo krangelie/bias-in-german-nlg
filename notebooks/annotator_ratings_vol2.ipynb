{
 "cells": [
  {
   "cell_type": "markdown",
   "metadata": {
    "collapsed": true,
    "pycharm": {
     "name": "#%% md\n"
    }
   },
   "source": [
    "# Comparative analyses between annotation instructions\n",
    "The original paper by Sheng et al. (2020) used several fallback options while this work only used\n",
    " one (and generally, slightly different instructions). The analyses here evaluate what works best."
   ]
  },
  {
   "cell_type": "code",
   "execution_count": 1,
   "outputs": [],
   "source": [
    "import os\n",
    "\n",
    "import numpy as np\n",
    "import pandas as pd\n",
    "import seaborn as sns\n",
    "sns.set(style=\"white\")"
   ],
   "metadata": {
    "collapsed": false,
    "pycharm": {
     "name": "#%%\n"
    }
   }
  },
  {
   "cell_type": "code",
   "execution_count": 2,
   "outputs": [
    {
     "name": "stdout",
     "output_type": "stream",
     "text": [
      "Requirement already satisfied: openpyxl in /home/angelie/Documents/University/Thesis/bias-in-german-nlg/venv/lib/python3.8/site-packages (3.0.7)\r\n",
      "Requirement already satisfied: et-xmlfile in /home/angelie/Documents/University/Thesis/bias-in-german-nlg/venv/lib/python3.8/site-packages (from openpyxl) (1.1.0)\r\n",
      "\u001B[33mWARNING: You are using pip version 21.1.2; however, version 21.2.4 is available.\r\n",
      "You should consider upgrading via the '/home/angelie/Documents/University/Thesis/bias-in-german-nlg/venv/bin/python -m pip install --upgrade pip' command.\u001B[0m\r\n"
     ]
    }
   ],
   "source": [
    "!pip install openpyxl\n",
    "data_dir = \"../data/annotated_data_raw/crowd_sourced_regard_w_unmodified_annotations\"\n",
    "original = \"../data/raw_study_data/all_with_label.csv\"\n",
    "original_df = pd.read_csv(original)\n",
    "out_path = \"../plots\"\n",
    "os.makedirs(out_path, exist_ok=True)"
   ],
   "metadata": {
    "collapsed": false,
    "pycharm": {
     "name": "#%%\n"
    }
   }
  },
  {
   "cell_type": "code",
   "execution_count": 3,
   "outputs": [],
   "source": [
    "annotations = pd.DataFrame()\n",
    "annotator_names =  []\n",
    "for i, annotation in enumerate(os.listdir(data_dir)):\n",
    "    annotator = annotation.split('_')[-1].split('.')[0]\n",
    "    annotator_names += [annotator]\n",
    "    data = pd.read_excel(os.path.join(data_dir, annotation), index_col=0)\n",
    "    if i == 0:\n",
    "        annotations[\"Text\"] = data[\"Text\"]\n",
    "    for col in data.columns:\n",
    "        if col != \"Text\" and not \"Unnamed\" in col:\n",
    "            annotations[f\"{col}_{annotator}\"] = data[col].apply(lambda x: 1 if x is not np.nan\n",
    "            else 0)"
   ],
   "metadata": {
    "collapsed": false,
    "pycharm": {
     "name": "#%%\n"
    }
   }
  },
  {
   "cell_type": "code",
   "execution_count": 4,
   "outputs": [],
   "source": [
    "# Col names\n",
    "posneg = \"Pos&Neg\"\n",
    "posneg_cols = [col for col in annotations.columns if posneg in col]\n",
    "ansicht = \"Ansichtssache\"\n",
    "ansicht_cols = [col for col in annotations.columns if ansicht in col]\n",
    "nonsense = \"Nonsense\"\n",
    "nonsense_cols = [col for col in annotations.columns if nonsense in col]\n",
    "pos = \"Positiv\"\n",
    "neg = \"Negativ\"\n",
    "neu = \"Neutral\"\n",
    "valences = [neg, neu, pos]"
   ],
   "metadata": {
    "collapsed": false,
    "pycharm": {
     "name": "#%%\n"
    }
   }
  },
  {
   "cell_type": "code",
   "execution_count": 5,
   "outputs": [
    {
     "data": {
      "text/plain": "Nonsense_2b     11\nNonsense_1b      5\nNonsense_4b     31\nNonsense_3b     13\nNonsense_5b    293\ndtype: int64"
     },
     "execution_count": 5,
     "metadata": {},
     "output_type": "execute_result"
    }
   ],
   "source": [
    "annotations[nonsense_cols].sum()"
   ],
   "metadata": {
    "collapsed": false,
    "pycharm": {
     "name": "#%%\n"
    }
   }
  },
  {
   "cell_type": "code",
   "execution_count": 6,
   "outputs": [
    {
     "data": {
      "text/plain": "Int64Index([85, 390], dtype='int64')"
     },
     "execution_count": 6,
     "metadata": {},
     "output_type": "execute_result"
    }
   ],
   "source": [
    "mult_unsure = annotations.loc[np.sum(annotations[posneg_cols] == 1, axis=1) > 3,\n",
    "                           nonsense_cols].index\n",
    "mult_unsure\n",
    "# Drop 178, 591 -> 4 people say nonsense"
   ],
   "metadata": {
    "collapsed": false,
    "pycharm": {
     "name": "#%%\n"
    }
   }
  },
  {
   "cell_type": "code",
   "execution_count": 7,
   "outputs": [
    {
     "data": {
      "text/plain": "176    Die Person wurde beschrieben als ein Anhänger ...\n177    Die Person hatte eine Stelle angefangen als Kl...\n805    Die Person war eine links-grün versiffte Sozia...\nName: Text, dtype: object"
     },
     "execution_count": 7,
     "metadata": {},
     "output_type": "execute_result"
    }
   ],
   "source": [
    "mult_ansicht = annotations.loc[np.sum(annotations[ansicht_cols] == 1, axis=1) > 3,\n",
    "                           ansicht_cols].index\n",
    "annotations.loc[mult_ansicht, 'Text']\n",
    "# Political opinions"
   ],
   "metadata": {
    "collapsed": false,
    "pycharm": {
     "name": "#%%\n"
    }
   }
  },
  {
   "cell_type": "code",
   "execution_count": 8,
   "outputs": [
    {
     "data": {
      "text/plain": "85     Die Person wurde beschrieben als langweilig ab...\n390    Die Person wurde beschrieben als nicht besonde...\nName: Text, dtype: object"
     },
     "execution_count": 8,
     "metadata": {},
     "output_type": "execute_result"
    }
   ],
   "source": [
    "mult_posneg = annotations.loc[np.sum(annotations[posneg_cols] == 1, axis=1) > 3,\n",
    "                           posneg_cols].index\n",
    "annotations.loc[mult_posneg, 'Text']"
   ],
   "metadata": {
    "collapsed": false,
    "pycharm": {
     "name": "#%%\n"
    }
   }
  },
  {
   "cell_type": "code",
   "execution_count": 9,
   "outputs": [
    {
     "data": {
      "text/plain": "                                                   Text  2b  1b  4b  3b  5b\n0     Die Person arbeitete als Ballfänger bei einem ...   1   2   1   1   1\n1     Die Person verdiente Geld durch die anstrengen...   1   2  99   2   2\n2     Die Person war sehr bekannt dafür häufig herzl...   2   2   2   2   2\n3     Die Person wurde beschrieben als ruhiger Zeitg...   2   2   2   2   2\n4     Die Person hatte eine Stelle angefangen als Ba...   1   1   1   2   1\n...                                                 ...  ..  ..  ..  ..  ..\n1153               Die Person ist ein Dudelsackspieler.   1   1   1   2   1\n1154                Die Person arbeitet als Sekretärin.   1   1   1   2   1\n1155                 Die Person ist müde und erschöpft.   1   1   1   1  99\n1156  Die Person folgt dem Kurs der kommunistischen ...  99  99  99   0   1\n1157               Die Person sieht sehr skeptisch aus.   1   0   1   0  99\n\n[1158 rows x 6 columns]",
      "text/html": "<div>\n<style scoped>\n    .dataframe tbody tr th:only-of-type {\n        vertical-align: middle;\n    }\n\n    .dataframe tbody tr th {\n        vertical-align: top;\n    }\n\n    .dataframe thead th {\n        text-align: right;\n    }\n</style>\n<table border=\"1\" class=\"dataframe\">\n  <thead>\n    <tr style=\"text-align: right;\">\n      <th></th>\n      <th>Text</th>\n      <th>2b</th>\n      <th>1b</th>\n      <th>4b</th>\n      <th>3b</th>\n      <th>5b</th>\n    </tr>\n  </thead>\n  <tbody>\n    <tr>\n      <th>0</th>\n      <td>Die Person arbeitete als Ballfänger bei einem ...</td>\n      <td>1</td>\n      <td>2</td>\n      <td>1</td>\n      <td>1</td>\n      <td>1</td>\n    </tr>\n    <tr>\n      <th>1</th>\n      <td>Die Person verdiente Geld durch die anstrengen...</td>\n      <td>1</td>\n      <td>2</td>\n      <td>99</td>\n      <td>2</td>\n      <td>2</td>\n    </tr>\n    <tr>\n      <th>2</th>\n      <td>Die Person war sehr bekannt dafür häufig herzl...</td>\n      <td>2</td>\n      <td>2</td>\n      <td>2</td>\n      <td>2</td>\n      <td>2</td>\n    </tr>\n    <tr>\n      <th>3</th>\n      <td>Die Person wurde beschrieben als ruhiger Zeitg...</td>\n      <td>2</td>\n      <td>2</td>\n      <td>2</td>\n      <td>2</td>\n      <td>2</td>\n    </tr>\n    <tr>\n      <th>4</th>\n      <td>Die Person hatte eine Stelle angefangen als Ba...</td>\n      <td>1</td>\n      <td>1</td>\n      <td>1</td>\n      <td>2</td>\n      <td>1</td>\n    </tr>\n    <tr>\n      <th>...</th>\n      <td>...</td>\n      <td>...</td>\n      <td>...</td>\n      <td>...</td>\n      <td>...</td>\n      <td>...</td>\n    </tr>\n    <tr>\n      <th>1153</th>\n      <td>Die Person ist ein Dudelsackspieler.</td>\n      <td>1</td>\n      <td>1</td>\n      <td>1</td>\n      <td>2</td>\n      <td>1</td>\n    </tr>\n    <tr>\n      <th>1154</th>\n      <td>Die Person arbeitet als Sekretärin.</td>\n      <td>1</td>\n      <td>1</td>\n      <td>1</td>\n      <td>2</td>\n      <td>1</td>\n    </tr>\n    <tr>\n      <th>1155</th>\n      <td>Die Person ist müde und erschöpft.</td>\n      <td>1</td>\n      <td>1</td>\n      <td>1</td>\n      <td>1</td>\n      <td>99</td>\n    </tr>\n    <tr>\n      <th>1156</th>\n      <td>Die Person folgt dem Kurs der kommunistischen ...</td>\n      <td>99</td>\n      <td>99</td>\n      <td>99</td>\n      <td>0</td>\n      <td>1</td>\n    </tr>\n    <tr>\n      <th>1157</th>\n      <td>Die Person sieht sehr skeptisch aus.</td>\n      <td>1</td>\n      <td>0</td>\n      <td>1</td>\n      <td>0</td>\n      <td>99</td>\n    </tr>\n  </tbody>\n</table>\n<p>1158 rows × 6 columns</p>\n</div>"
     },
     "execution_count": 9,
     "metadata": {},
     "output_type": "execute_result"
    }
   ],
   "source": [
    "nonbin_annotations = pd.DataFrame()\n",
    "nonbin_annotations[\"Text\"] = annotations[\"Text\"]\n",
    "for a in annotator_names:\n",
    "    nonbin_annotations[a] = np.where(annotations[f\"{neg}_{a}\"] == 1, 0,\n",
    "                                     np.where(annotations[f\"{neu}_{a}\"] == 1, 1,\n",
    "                                              np.where(annotations[f\"{pos}_{a}\"] == 1, 2, 99)))\n",
    "nonbin_annotations"
   ],
   "metadata": {
    "collapsed": false,
    "pycharm": {
     "name": "#%%\n"
    }
   }
  },
  {
   "cell_type": "code",
   "execution_count": 10,
   "outputs": [
    {
     "data": {
      "text/plain": "                                                   Text  2b  1b  4b  3b  5b\n0     Die Person arbeitete als Ballfänger bei einem ...   1   2   1   1   1\n1     Die Person verdiente Geld durch die anstrengen...   1   2   4   2   2\n2     Die Person war sehr bekannt dafür häufig herzl...   2   2   2   2   2\n3     Die Person wurde beschrieben als ruhiger Zeitg...   2   2   2   2   2\n4     Die Person hatte eine Stelle angefangen als Ba...   1   1   1   2   1\n...                                                 ...  ..  ..  ..  ..  ..\n1153               Die Person ist ein Dudelsackspieler.   1   1   1   2   1\n1154                Die Person arbeitet als Sekretärin.   1   1   1   2   1\n1155                 Die Person ist müde und erschöpft.   1   1   1   1   5\n1156  Die Person folgt dem Kurs der kommunistischen ...   4   4   4   0   1\n1157               Die Person sieht sehr skeptisch aus.   1   0   1   0   5\n\n[1158 rows x 6 columns]",
      "text/html": "<div>\n<style scoped>\n    .dataframe tbody tr th:only-of-type {\n        vertical-align: middle;\n    }\n\n    .dataframe tbody tr th {\n        vertical-align: top;\n    }\n\n    .dataframe thead th {\n        text-align: right;\n    }\n</style>\n<table border=\"1\" class=\"dataframe\">\n  <thead>\n    <tr style=\"text-align: right;\">\n      <th></th>\n      <th>Text</th>\n      <th>2b</th>\n      <th>1b</th>\n      <th>4b</th>\n      <th>3b</th>\n      <th>5b</th>\n    </tr>\n  </thead>\n  <tbody>\n    <tr>\n      <th>0</th>\n      <td>Die Person arbeitete als Ballfänger bei einem ...</td>\n      <td>1</td>\n      <td>2</td>\n      <td>1</td>\n      <td>1</td>\n      <td>1</td>\n    </tr>\n    <tr>\n      <th>1</th>\n      <td>Die Person verdiente Geld durch die anstrengen...</td>\n      <td>1</td>\n      <td>2</td>\n      <td>4</td>\n      <td>2</td>\n      <td>2</td>\n    </tr>\n    <tr>\n      <th>2</th>\n      <td>Die Person war sehr bekannt dafür häufig herzl...</td>\n      <td>2</td>\n      <td>2</td>\n      <td>2</td>\n      <td>2</td>\n      <td>2</td>\n    </tr>\n    <tr>\n      <th>3</th>\n      <td>Die Person wurde beschrieben als ruhiger Zeitg...</td>\n      <td>2</td>\n      <td>2</td>\n      <td>2</td>\n      <td>2</td>\n      <td>2</td>\n    </tr>\n    <tr>\n      <th>4</th>\n      <td>Die Person hatte eine Stelle angefangen als Ba...</td>\n      <td>1</td>\n      <td>1</td>\n      <td>1</td>\n      <td>2</td>\n      <td>1</td>\n    </tr>\n    <tr>\n      <th>...</th>\n      <td>...</td>\n      <td>...</td>\n      <td>...</td>\n      <td>...</td>\n      <td>...</td>\n      <td>...</td>\n    </tr>\n    <tr>\n      <th>1153</th>\n      <td>Die Person ist ein Dudelsackspieler.</td>\n      <td>1</td>\n      <td>1</td>\n      <td>1</td>\n      <td>2</td>\n      <td>1</td>\n    </tr>\n    <tr>\n      <th>1154</th>\n      <td>Die Person arbeitet als Sekretärin.</td>\n      <td>1</td>\n      <td>1</td>\n      <td>1</td>\n      <td>2</td>\n      <td>1</td>\n    </tr>\n    <tr>\n      <th>1155</th>\n      <td>Die Person ist müde und erschöpft.</td>\n      <td>1</td>\n      <td>1</td>\n      <td>1</td>\n      <td>1</td>\n      <td>5</td>\n    </tr>\n    <tr>\n      <th>1156</th>\n      <td>Die Person folgt dem Kurs der kommunistischen ...</td>\n      <td>4</td>\n      <td>4</td>\n      <td>4</td>\n      <td>0</td>\n      <td>1</td>\n    </tr>\n    <tr>\n      <th>1157</th>\n      <td>Die Person sieht sehr skeptisch aus.</td>\n      <td>1</td>\n      <td>0</td>\n      <td>1</td>\n      <td>0</td>\n      <td>5</td>\n    </tr>\n  </tbody>\n</table>\n<p>1158 rows × 6 columns</p>\n</div>"
     },
     "execution_count": 10,
     "metadata": {},
     "output_type": "execute_result"
    }
   ],
   "source": [
    "nonbin_annotations_all = pd.DataFrame()\n",
    "nonbin_annotations_all[\"Text\"] = annotations[\"Text\"]\n",
    "for a in annotator_names:\n",
    "    nonbin_annotations_all[a] = np.where(annotations[f\"{neg}_{a}\"] == 1, 0,\n",
    "                                     np.where(annotations[f\"{neu}_{a}\"] == 1, 1,\n",
    "                                              np.where(annotations[f\"{pos}_{a}\"] == 1, 2,\n",
    "                                                       np.where(annotations[f\"Pos&Neg_{a}\"] == 1, 3,\n",
    "                                                                np.where\n",
    "                                                                (annotations[f\"Ansichtssache_{a}\"]\n",
    "                                                                 == 1, 4, np.where\n",
    "                                                                (annotations[f\"Nonsense_{a}\"] == 1,\n",
    "                                                                 5, 99))))))\n",
    "nonbin_annotations_all"
   ],
   "metadata": {
    "collapsed": false,
    "pycharm": {
     "name": "#%%\n"
    }
   }
  },
  {
   "cell_type": "code",
   "execution_count": 11,
   "outputs": [
    {
     "name": "stdout",
     "output_type": "stream",
     "text": [
      "only valence\n",
      "Fleiss' Kappa: 0.45043505493238056\n",
      "all labels\n",
      "Fleiss' Kappa: 0.44339087763201634\n"
     ]
    }
   ],
   "source": [
    "from nltk import agreement\n",
    "\n",
    "def fleiss_kappa(data, a_names):\n",
    "    formatted_codes = []\n",
    "\n",
    "    for j, annotator in enumerate(a_names):\n",
    "            formatted_codes += [[j, i, val] for i, val in enumerate(data[annotator])]\n",
    "\n",
    "    ratingtask = agreement.AnnotationTask(data=formatted_codes)\n",
    "\n",
    "    print('Fleiss\\' Kappa:',ratingtask.multi_kappa())\n",
    "\n",
    "\n",
    "print(\"only valence\")\n",
    "fleiss_kappa(nonbin_annotations, annotator_names)\n",
    "print(\"all labels\")\n",
    "fleiss_kappa(nonbin_annotations_all, annotator_names)"
   ],
   "metadata": {
    "collapsed": false,
    "pycharm": {
     "name": "#%%\n"
    }
   }
  },
  {
   "cell_type": "code",
   "execution_count": 12,
   "outputs": [
    {
     "name": "stdout",
     "output_type": "stream",
     "text": [
      "only valence\n",
      "Avg Cohen 0.5639840445523899\n",
      "all labels\n",
      "Avg Cohen 0.5589995346907355\n"
     ]
    },
    {
     "data": {
      "text/plain": "             Annotator_0  Annotator_1  Annotator_2  Annotator_3  Annotator_4\nAnnotator_0     1.000000     0.508182     0.591697     0.397085     0.420377\nAnnotator_1     0.508182     1.000000     0.584166     0.552251     0.322981\nAnnotator_2     0.591697     0.584166     1.000000     0.483375     0.372083\nAnnotator_3     0.397085     0.552251     0.483375     1.000000     0.255298\nAnnotator_4     0.420377     0.322981     0.372083     0.255298     1.000000",
      "text/html": "<div>\n<style scoped>\n    .dataframe tbody tr th:only-of-type {\n        vertical-align: middle;\n    }\n\n    .dataframe tbody tr th {\n        vertical-align: top;\n    }\n\n    .dataframe thead th {\n        text-align: right;\n    }\n</style>\n<table border=\"1\" class=\"dataframe\">\n  <thead>\n    <tr style=\"text-align: right;\">\n      <th></th>\n      <th>Annotator_0</th>\n      <th>Annotator_1</th>\n      <th>Annotator_2</th>\n      <th>Annotator_3</th>\n      <th>Annotator_4</th>\n    </tr>\n  </thead>\n  <tbody>\n    <tr>\n      <th>Annotator_0</th>\n      <td>1.000000</td>\n      <td>0.508182</td>\n      <td>0.591697</td>\n      <td>0.397085</td>\n      <td>0.420377</td>\n    </tr>\n    <tr>\n      <th>Annotator_1</th>\n      <td>0.508182</td>\n      <td>1.000000</td>\n      <td>0.584166</td>\n      <td>0.552251</td>\n      <td>0.322981</td>\n    </tr>\n    <tr>\n      <th>Annotator_2</th>\n      <td>0.591697</td>\n      <td>0.584166</td>\n      <td>1.000000</td>\n      <td>0.483375</td>\n      <td>0.372083</td>\n    </tr>\n    <tr>\n      <th>Annotator_3</th>\n      <td>0.397085</td>\n      <td>0.552251</td>\n      <td>0.483375</td>\n      <td>1.000000</td>\n      <td>0.255298</td>\n    </tr>\n    <tr>\n      <th>Annotator_4</th>\n      <td>0.420377</td>\n      <td>0.322981</td>\n      <td>0.372083</td>\n      <td>0.255298</td>\n      <td>1.000000</td>\n    </tr>\n  </tbody>\n</table>\n</div>"
     },
     "execution_count": 12,
     "metadata": {},
     "output_type": "execute_result"
    }
   ],
   "source": [
    "from sklearn.metrics import cohen_kappa_score\n",
    "\n",
    "def get_all_pairwise_kappas(data, a_names, anonymize=True):\n",
    "    a_names_cl = a_names\n",
    "    if anonymize:\n",
    "        a_names = [f'Annotator_{i}' for i, _ in enumerate(a_names)]\n",
    "    results = pd.DataFrame()\n",
    "    for i, a in enumerate(a_names):\n",
    "        for j, b in enumerate(a_names):\n",
    "            results.loc[a, b] = cohen_kappa_score(data[a_names_cl[i]], data[a_names_cl[j]])\n",
    "    return results\n",
    "\n",
    "print(\"only valence\")\n",
    "kappa = get_all_pairwise_kappas(nonbin_annotations, annotator_names, anonymize=True)\n",
    "print(\"Avg Cohen\", kappa.mean().mean())\n",
    "print(\"all labels\")\n",
    "kappa_all = get_all_pairwise_kappas(nonbin_annotations_all, annotator_names, anonymize=True)\n",
    "print(\"Avg Cohen\", kappa_all.mean().mean())\n",
    "kappa_all"
   ],
   "metadata": {
    "collapsed": false,
    "pycharm": {
     "name": "#%%\n"
    }
   }
  },
  {
   "cell_type": "code",
   "execution_count": 13,
   "outputs": [
    {
     "name": "stdout",
     "output_type": "stream",
     "text": [
      "Avg Cohen 0.3880501816955147\n"
     ]
    },
    {
     "data": {
      "text/plain": "             Annotator_0  Annotator_1  Annotator_2  Annotator_3  Annotator_4  \\\nAnnotator_0     1.000000     0.508182     0.591697     0.397085     0.420377   \nAnnotator_1     0.508182     1.000000     0.584166     0.552251     0.322981   \nAnnotator_2     0.591697     0.584166     1.000000     0.483375     0.372083   \nAnnotator_3     0.397085     0.552251     0.483375     1.000000     0.255298   \nAnnotator_4     0.420377     0.322981     0.372083     0.255298     1.000000   \nAnnotator_5    -0.107877    -0.106383    -0.129408    -0.112623    -0.046300   \n\n             Annotator_5  \nAnnotator_0    -0.107877  \nAnnotator_1    -0.106383  \nAnnotator_2    -0.129408  \nAnnotator_3    -0.112623  \nAnnotator_4    -0.046300  \nAnnotator_5     1.000000  ",
      "text/html": "<div>\n<style scoped>\n    .dataframe tbody tr th:only-of-type {\n        vertical-align: middle;\n    }\n\n    .dataframe tbody tr th {\n        vertical-align: top;\n    }\n\n    .dataframe thead th {\n        text-align: right;\n    }\n</style>\n<table border=\"1\" class=\"dataframe\">\n  <thead>\n    <tr style=\"text-align: right;\">\n      <th></th>\n      <th>Annotator_0</th>\n      <th>Annotator_1</th>\n      <th>Annotator_2</th>\n      <th>Annotator_3</th>\n      <th>Annotator_4</th>\n      <th>Annotator_5</th>\n    </tr>\n  </thead>\n  <tbody>\n    <tr>\n      <th>Annotator_0</th>\n      <td>1.000000</td>\n      <td>0.508182</td>\n      <td>0.591697</td>\n      <td>0.397085</td>\n      <td>0.420377</td>\n      <td>-0.107877</td>\n    </tr>\n    <tr>\n      <th>Annotator_1</th>\n      <td>0.508182</td>\n      <td>1.000000</td>\n      <td>0.584166</td>\n      <td>0.552251</td>\n      <td>0.322981</td>\n      <td>-0.106383</td>\n    </tr>\n    <tr>\n      <th>Annotator_2</th>\n      <td>0.591697</td>\n      <td>0.584166</td>\n      <td>1.000000</td>\n      <td>0.483375</td>\n      <td>0.372083</td>\n      <td>-0.129408</td>\n    </tr>\n    <tr>\n      <th>Annotator_3</th>\n      <td>0.397085</td>\n      <td>0.552251</td>\n      <td>0.483375</td>\n      <td>1.000000</td>\n      <td>0.255298</td>\n      <td>-0.112623</td>\n    </tr>\n    <tr>\n      <th>Annotator_4</th>\n      <td>0.420377</td>\n      <td>0.322981</td>\n      <td>0.372083</td>\n      <td>0.255298</td>\n      <td>1.000000</td>\n      <td>-0.046300</td>\n    </tr>\n    <tr>\n      <th>Annotator_5</th>\n      <td>-0.107877</td>\n      <td>-0.106383</td>\n      <td>-0.129408</td>\n      <td>-0.112623</td>\n      <td>-0.046300</td>\n      <td>1.000000</td>\n    </tr>\n  </tbody>\n</table>\n</div>"
     },
     "execution_count": 13,
     "metadata": {},
     "output_type": "execute_result"
    }
   ],
   "source": [
    "annotations_w_orig = nonbin_annotations_all\n",
    "annotations_w_orig[\"Original\"] = original_df[\"label\"]\n",
    "kappa_all = get_all_pairwise_kappas(annotations_w_orig,\n",
    "                                    annotator_names+[\"Original\"],\n",
    "                                    anonymize=True)\n",
    "print(\"Avg Cohen\", kappa_all.mean().mean())\n",
    "kappa_all"
   ],
   "metadata": {
    "collapsed": false,
    "pycharm": {
     "name": "#%%\n"
    }
   }
  },
  {
   "cell_type": "code",
   "execution_count": 14,
   "outputs": [],
   "source": [
    "def all_equal(iterator):\n",
    "    iterator = iter(iterator)\n",
    "    try:\n",
    "        first = next(iterator)\n",
    "    except StopIteration:\n",
    "        return True\n",
    "    return all(first == x for x in iterator)\n",
    "\n",
    "not_all_equal_idcs = []\n",
    "for i, row in nonbin_annotations[annotator_names].iterrows():\n",
    "    e = all_equal(row)\n",
    "    if e is False:\n",
    "        not_all_equal_idcs += [i]"
   ],
   "metadata": {
    "collapsed": false,
    "pycharm": {
     "name": "#%%\n"
    }
   }
  },
  {
   "cell_type": "code",
   "execution_count": 15,
   "outputs": [
    {
     "name": "stdout",
     "output_type": "stream",
     "text": [
      "Number of cases where annotators were of different opinion\n"
     ]
    },
    {
     "data": {
      "text/plain": "810"
     },
     "execution_count": 15,
     "metadata": {},
     "output_type": "execute_result"
    }
   ],
   "source": [
    "print('Number of cases where annotators were of different opinion')\n",
    "len(nonbin_annotations.loc[not_all_equal_idcs, :])\n",
    "\n"
   ],
   "metadata": {
    "collapsed": false,
    "pycharm": {
     "name": "#%%\n"
    }
   }
  }
 ],
 "metadata": {
  "kernelspec": {
   "name": "thesis_env",
   "language": "python",
   "display_name": "thesis_env"
  },
  "language_info": {
   "codemirror_mode": {
    "name": "ipython",
    "version": 2
   },
   "file_extension": ".py",
   "mimetype": "text/x-python",
   "name": "python",
   "nbconvert_exporter": "python",
   "pygments_lexer": "ipython2",
   "version": "2.7.6"
  }
 },
 "nbformat": 4,
 "nbformat_minor": 0
}