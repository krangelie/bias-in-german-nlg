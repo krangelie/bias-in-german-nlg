{
 "cells": [
  {
   "cell_type": "code",
   "execution_count": 1,
   "metadata": {
    "collapsed": true
   },
   "outputs": [],
   "source": [
    "\n",
    "import os\n",
    "\n",
    "import numpy as np\n",
    "import pandas as pd\n",
    "import seaborn as sns\n",
    "sns.set(style=\"white\")"
   ]
  },
  {
   "cell_type": "code",
   "execution_count": 21,
   "outputs": [
    {
     "name": "stdout",
     "output_type": "stream",
     "text": [
      "Requirement already satisfied: openpyxl in /home/angelie/Documents/University/Thesis/1_THESIS/thesis_repo/thesis-bias-in-nlp/thesis_env/lib/python3.8/site-packages (3.0.7)\r\n",
      "Requirement already satisfied: et-xmlfile in /home/angelie/Documents/University/Thesis/1_THESIS/thesis_repo/thesis-bias-in-nlp/thesis_env/lib/python3.8/site-packages (from openpyxl) (1.1.0)\r\n"
     ]
    }
   ],
   "source": [
    "!pip install openpyxl\n",
    "data_dir = \"/media/angelie/Samsung_T5/thesis_data/annotated_vol2\"\n",
    "original = \"/home/angelie/Documents/University/Thesis/1_THESIS/thesis_repo/thesis-bias-in-nlp/data/study/for_annotation/all_with_label.csv\"\n",
    "original_df = pd.read_csv(original)\n",
    "\n",
    "\n",
    "annotations = pd.DataFrame()\n",
    "annotator_names =  []\n",
    "for i, annotation in enumerate(os.listdir(data_dir)):\n",
    "    annotator = annotation.split('_')[-1].split('.')[0]\n",
    "    annotator_names += [annotator]\n",
    "    data = pd.read_excel(os.path.join(data_dir, annotation), index_col=0)\n",
    "    if i == 0:\n",
    "        annotations[\"Text\"] = data[\"Text\"]\n",
    "    for col in data.columns:\n",
    "        if col != \"Text\" and not \"Unnamed\" in col:\n",
    "            annotations[f\"{col}_{annotator}\"] = data[col].apply(lambda x: 1 if x is not np.nan\n",
    "            else 0)"
   ],
   "metadata": {
    "collapsed": false,
    "pycharm": {
     "name": "#%%\n"
    }
   }
  },
  {
   "cell_type": "code",
   "execution_count": 3,
   "outputs": [
    {
     "data": {
      "text/plain": "Index(['Text', 'Positiv_Jannik', 'Negativ_Jannik', 'Neutral_Jannik',\n       'Pos&Neg_Jannik', 'Ansichtssache_Jannik', 'Nonsense_Jannik',\n       'Positiv_Marius', 'Negativ_Marius', 'Neutral_Marius', 'Pos&Neg_Marius',\n       'Ansichtssache_Marius', 'Nonsense_Marius', 'Positiv_Malin',\n       'Negativ_Malin', 'Neutral_Malin', 'Pos&Neg_Malin',\n       'Ansichtssache_Malin', 'Nonsense_Malin', 'Positiv_Aaron',\n       'Negativ_Aaron', 'Neutral_Aaron', 'Pos&Neg_Aaron',\n       'Ansichtssache_Aaron', 'Nonsense_Aaron', 'Positiv_Dahni',\n       'Negativ_Dahni', 'Neutral_Dahni', 'Pos&Neg_Dahni',\n       'Ansichtssache_Dahni', 'Nonsense_Dahni'],\n      dtype='object')"
     },
     "execution_count": 3,
     "metadata": {},
     "output_type": "execute_result"
    }
   ],
   "source": [
    "annotations.columns"
   ],
   "metadata": {
    "collapsed": false,
    "pycharm": {
     "name": "#%%\n"
    }
   }
  },
  {
   "cell_type": "code",
   "execution_count": 22,
   "outputs": [
    {
     "data": {
      "text/plain": "      Unnamed: 0  index  case  label  \\\n0              0      0   212      0   \n1              1      1   212      0   \n2              2      2   212      0   \n3              3      3   212      0   \n4              4      4   212      0   \n...          ...    ...   ...    ...   \n1153        1153    521   428      0   \n1154        1154    522   428      0   \n1155        1155    523   428      0   \n1156        1156    524   428      0   \n1157        1157    525   428      0   \n\n                                                   text  \n0     XYZ arbeitete als Ballfänger bei einem Tennist...  \n1     XYZ verdiente Geld indem die anstrengende Arbe...  \n2     XYZ war sehr bekannt dafür häufig herzlich zu ...  \n3     XYZ wurde beschrieben als ruhiger Zeitgenosse ...  \n4     XYZ hatte eine Stelle angefangen als Ballettle...  \n...                                                 ...  \n1153                      XYZ ist ein Dudelsackspieler.  \n1154                       XYZ arbeitet als Sekretärin.  \n1155                        XYZ ist müde und erschöpft.  \n1156     XYZ folgt dem Kurs der kommunistischen Partei.  \n1157                      XYZ sieht sehr skeptisch aus.  \n\n[1158 rows x 5 columns]",
      "text/html": "<div>\n<style scoped>\n    .dataframe tbody tr th:only-of-type {\n        vertical-align: middle;\n    }\n\n    .dataframe tbody tr th {\n        vertical-align: top;\n    }\n\n    .dataframe thead th {\n        text-align: right;\n    }\n</style>\n<table border=\"1\" class=\"dataframe\">\n  <thead>\n    <tr style=\"text-align: right;\">\n      <th></th>\n      <th>Unnamed: 0</th>\n      <th>index</th>\n      <th>case</th>\n      <th>label</th>\n      <th>text</th>\n    </tr>\n  </thead>\n  <tbody>\n    <tr>\n      <th>0</th>\n      <td>0</td>\n      <td>0</td>\n      <td>212</td>\n      <td>0</td>\n      <td>XYZ arbeitete als Ballfänger bei einem Tennist...</td>\n    </tr>\n    <tr>\n      <th>1</th>\n      <td>1</td>\n      <td>1</td>\n      <td>212</td>\n      <td>0</td>\n      <td>XYZ verdiente Geld indem die anstrengende Arbe...</td>\n    </tr>\n    <tr>\n      <th>2</th>\n      <td>2</td>\n      <td>2</td>\n      <td>212</td>\n      <td>0</td>\n      <td>XYZ war sehr bekannt dafür häufig herzlich zu ...</td>\n    </tr>\n    <tr>\n      <th>3</th>\n      <td>3</td>\n      <td>3</td>\n      <td>212</td>\n      <td>0</td>\n      <td>XYZ wurde beschrieben als ruhiger Zeitgenosse ...</td>\n    </tr>\n    <tr>\n      <th>4</th>\n      <td>4</td>\n      <td>4</td>\n      <td>212</td>\n      <td>0</td>\n      <td>XYZ hatte eine Stelle angefangen als Ballettle...</td>\n    </tr>\n    <tr>\n      <th>...</th>\n      <td>...</td>\n      <td>...</td>\n      <td>...</td>\n      <td>...</td>\n      <td>...</td>\n    </tr>\n    <tr>\n      <th>1153</th>\n      <td>1153</td>\n      <td>521</td>\n      <td>428</td>\n      <td>0</td>\n      <td>XYZ ist ein Dudelsackspieler.</td>\n    </tr>\n    <tr>\n      <th>1154</th>\n      <td>1154</td>\n      <td>522</td>\n      <td>428</td>\n      <td>0</td>\n      <td>XYZ arbeitet als Sekretärin.</td>\n    </tr>\n    <tr>\n      <th>1155</th>\n      <td>1155</td>\n      <td>523</td>\n      <td>428</td>\n      <td>0</td>\n      <td>XYZ ist müde und erschöpft.</td>\n    </tr>\n    <tr>\n      <th>1156</th>\n      <td>1156</td>\n      <td>524</td>\n      <td>428</td>\n      <td>0</td>\n      <td>XYZ folgt dem Kurs der kommunistischen Partei.</td>\n    </tr>\n    <tr>\n      <th>1157</th>\n      <td>1157</td>\n      <td>525</td>\n      <td>428</td>\n      <td>0</td>\n      <td>XYZ sieht sehr skeptisch aus.</td>\n    </tr>\n  </tbody>\n</table>\n<p>1158 rows × 5 columns</p>\n</div>"
     },
     "execution_count": 22,
     "metadata": {},
     "output_type": "execute_result"
    }
   ],
   "source": [
    "original_df"
   ],
   "metadata": {
    "collapsed": false,
    "pycharm": {
     "name": "#%%\n"
    }
   }
  },
  {
   "cell_type": "code",
   "execution_count": 4,
   "outputs": [],
   "source": [
    "# Col names\n",
    "posneg = \"Pos&Neg\"\n",
    "posneg_cols = [col for col in annotations.columns if posneg in col]\n",
    "ansicht = \"Ansichtssache\"\n",
    "ansicht_cols = [col for col in annotations.columns if ansicht in col]\n",
    "nonsense = \"Nonsense\"\n",
    "nonsense_cols = [col for col in annotations.columns if nonsense in col]\n",
    "pos = \"Positiv\"\n",
    "neg = \"Negativ\"\n",
    "neu = \"Neutral\"\n",
    "valences = [neg, neu, pos]\n"
   ],
   "metadata": {
    "collapsed": false,
    "pycharm": {
     "name": "#%%\n"
    }
   }
  },
  {
   "cell_type": "code",
   "execution_count": 5,
   "outputs": [
    {
     "data": {
      "text/plain": "<Figure size 432x288 with 1 Axes>",
      "image/png": "[encoded data removed]"
     },
     "metadata": {},
     "output_type": "display_data"
    }
   ],
   "source": [
    "for col in annotations.columns:\n",
    "    if nonsense in col:\n",
    "        annotations[col].hist()"
   ],
   "metadata": {
    "collapsed": false,
    "pycharm": {
     "name": "#%%\n"
    }
   }
  },
  {
   "cell_type": "code",
   "execution_count": 6,
   "outputs": [
    {
     "data": {
      "text/plain": "Nonsense_Jannik     13\nNonsense_Marius    293\nNonsense_Malin      31\nNonsense_Aaron       5\nNonsense_Dahni      11\ndtype: int64"
     },
     "execution_count": 6,
     "metadata": {},
     "output_type": "execute_result"
    }
   ],
   "source": [
    "annotations[nonsense_cols].sum()"
   ],
   "metadata": {
    "collapsed": false,
    "pycharm": {
     "name": "#%%\n"
    }
   }
  },
  {
   "cell_type": "code",
   "execution_count": 7,
   "outputs": [
    {
     "data": {
      "text/plain": "'Die Person war sehr bekannt dafür Drogen zu nehmen und auf allen wichtigen Events aufzutauchen.'"
     },
     "execution_count": 7,
     "metadata": {},
     "output_type": "execute_result"
    }
   ],
   "source": [
    "mult_unsure = annotations.loc[np.sum(annotations[posneg_cols] == 1, axis=1) > 3,\n",
    "                           nonsense_cols].index\n",
    "mult_unsure\n",
    "annotations.loc[22, 'Text']\n",
    "\n",
    "# Drop 178, 591 -> 4 people say nonsense"
   ],
   "metadata": {
    "collapsed": false,
    "pycharm": {
     "name": "#%%\n"
    }
   }
  },
  {
   "cell_type": "code",
   "execution_count": 8,
   "outputs": [
    {
     "data": {
      "text/plain": "176    Die Person wurde beschrieben als ein Anhänger ...\n177    Die Person hatte eine Stelle angefangen als Kl...\n805    Die Person war eine links-grün versiffte Sozia...\nName: Text, dtype: object"
     },
     "execution_count": 8,
     "metadata": {},
     "output_type": "execute_result"
    }
   ],
   "source": [
    "mult_ansicht = annotations.loc[np.sum(annotations[ansicht_cols] == 1, axis=1) > 3,\n",
    "                           ansicht_cols].index\n",
    "annotations.loc[mult_ansicht, 'Text']\n",
    "# Political opinions"
   ],
   "metadata": {
    "collapsed": false,
    "pycharm": {
     "name": "#%%\n"
    }
   }
  },
  {
   "cell_type": "code",
   "execution_count": 9,
   "outputs": [
    {
     "data": {
      "text/plain": "85     Die Person wurde beschrieben als langweilig ab...\n390    Die Person wurde beschrieben als nicht besonde...\nName: Text, dtype: object"
     },
     "execution_count": 9,
     "metadata": {},
     "output_type": "execute_result"
    }
   ],
   "source": [
    "mult_posneg = annotations.loc[np.sum(annotations[posneg_cols] == 1, axis=1) > 3,\n",
    "                           posneg_cols].index\n",
    "annotations.loc[mult_posneg, 'Text']"
   ],
   "metadata": {
    "collapsed": false,
    "pycharm": {
     "name": "#%%\n"
    }
   }
  },
  {
   "cell_type": "code",
   "execution_count": 10,
   "outputs": [
    {
     "data": {
      "text/plain": "                                                   Text  Jannik  Marius  \\\n0     Die Person arbeitete als Ballfänger bei einem ...       1       1   \n1     Die Person verdiente Geld durch die anstrengen...       2       2   \n2     Die Person war sehr bekannt dafür häufig herzl...       2       2   \n3     Die Person wurde beschrieben als ruhiger Zeitg...       2       2   \n4     Die Person hatte eine Stelle angefangen als Ba...       2       1   \n...                                                 ...     ...     ...   \n1153               Die Person ist ein Dudelsackspieler.       2       1   \n1154                Die Person arbeitet als Sekretärin.       2       1   \n1155                 Die Person ist müde und erschöpft.       1      99   \n1156  Die Person folgt dem Kurs der kommunistischen ...       0       1   \n1157               Die Person sieht sehr skeptisch aus.       0      99   \n\n      Malin  Aaron  Dahni  \n0         1      2      1  \n1        99      2      1  \n2         2      2      2  \n3         2      2      2  \n4         1      1      1  \n...     ...    ...    ...  \n1153      1      1      1  \n1154      1      1      1  \n1155      1      1      1  \n1156     99     99     99  \n1157      1      0      1  \n\n[1158 rows x 6 columns]",
      "text/html": "<div>\n<style scoped>\n    .dataframe tbody tr th:only-of-type {\n        vertical-align: middle;\n    }\n\n    .dataframe tbody tr th {\n        vertical-align: top;\n    }\n\n    .dataframe thead th {\n        text-align: right;\n    }\n</style>\n<table border=\"1\" class=\"dataframe\">\n  <thead>\n    <tr style=\"text-align: right;\">\n      <th></th>\n      <th>Text</th>\n      <th>Jannik</th>\n      <th>Marius</th>\n      <th>Malin</th>\n      <th>Aaron</th>\n      <th>Dahni</th>\n    </tr>\n  </thead>\n  <tbody>\n    <tr>\n      <th>0</th>\n      <td>Die Person arbeitete als Ballfänger bei einem ...</td>\n      <td>1</td>\n      <td>1</td>\n      <td>1</td>\n      <td>2</td>\n      <td>1</td>\n    </tr>\n    <tr>\n      <th>1</th>\n      <td>Die Person verdiente Geld durch die anstrengen...</td>\n      <td>2</td>\n      <td>2</td>\n      <td>99</td>\n      <td>2</td>\n      <td>1</td>\n    </tr>\n    <tr>\n      <th>2</th>\n      <td>Die Person war sehr bekannt dafür häufig herzl...</td>\n      <td>2</td>\n      <td>2</td>\n      <td>2</td>\n      <td>2</td>\n      <td>2</td>\n    </tr>\n    <tr>\n      <th>3</th>\n      <td>Die Person wurde beschrieben als ruhiger Zeitg...</td>\n      <td>2</td>\n      <td>2</td>\n      <td>2</td>\n      <td>2</td>\n      <td>2</td>\n    </tr>\n    <tr>\n      <th>4</th>\n      <td>Die Person hatte eine Stelle angefangen als Ba...</td>\n      <td>2</td>\n      <td>1</td>\n      <td>1</td>\n      <td>1</td>\n      <td>1</td>\n    </tr>\n    <tr>\n      <th>...</th>\n      <td>...</td>\n      <td>...</td>\n      <td>...</td>\n      <td>...</td>\n      <td>...</td>\n      <td>...</td>\n    </tr>\n    <tr>\n      <th>1153</th>\n      <td>Die Person ist ein Dudelsackspieler.</td>\n      <td>2</td>\n      <td>1</td>\n      <td>1</td>\n      <td>1</td>\n      <td>1</td>\n    </tr>\n    <tr>\n      <th>1154</th>\n      <td>Die Person arbeitet als Sekretärin.</td>\n      <td>2</td>\n      <td>1</td>\n      <td>1</td>\n      <td>1</td>\n      <td>1</td>\n    </tr>\n    <tr>\n      <th>1155</th>\n      <td>Die Person ist müde und erschöpft.</td>\n      <td>1</td>\n      <td>99</td>\n      <td>1</td>\n      <td>1</td>\n      <td>1</td>\n    </tr>\n    <tr>\n      <th>1156</th>\n      <td>Die Person folgt dem Kurs der kommunistischen ...</td>\n      <td>0</td>\n      <td>1</td>\n      <td>99</td>\n      <td>99</td>\n      <td>99</td>\n    </tr>\n    <tr>\n      <th>1157</th>\n      <td>Die Person sieht sehr skeptisch aus.</td>\n      <td>0</td>\n      <td>99</td>\n      <td>1</td>\n      <td>0</td>\n      <td>1</td>\n    </tr>\n  </tbody>\n</table>\n<p>1158 rows × 6 columns</p>\n</div>"
     },
     "execution_count": 10,
     "metadata": {},
     "output_type": "execute_result"
    }
   ],
   "source": [
    "nonbin_annotations = pd.DataFrame()\n",
    "nonbin_annotations[\"Text\"] = annotations[\"Text\"]\n",
    "for a in annotator_names:\n",
    "    nonbin_annotations[a] = np.where(annotations[f\"{neg}_{a}\"] == 1, 0,\n",
    "                                     np.where(annotations[f\"{neu}_{a}\"] == 1, 1,\n",
    "                                              np.where(annotations[f\"{pos}_{a}\"] == 1, 2, 99)))\n",
    "nonbin_annotations"
   ],
   "metadata": {
    "collapsed": false,
    "pycharm": {
     "name": "#%%\n"
    }
   }
  },
  {
   "cell_type": "code",
   "execution_count": 15,
   "outputs": [
    {
     "data": {
      "text/plain": "                                                   Text  Jannik  Marius  \\\n0     Die Person arbeitete als Ballfänger bei einem ...       1       1   \n1     Die Person verdiente Geld durch die anstrengen...       2       2   \n2     Die Person war sehr bekannt dafür häufig herzl...       2       2   \n3     Die Person wurde beschrieben als ruhiger Zeitg...       2       2   \n4     Die Person hatte eine Stelle angefangen als Ba...       2       1   \n...                                                 ...     ...     ...   \n1153               Die Person ist ein Dudelsackspieler.       2       1   \n1154                Die Person arbeitet als Sekretärin.       2       1   \n1155                 Die Person ist müde und erschöpft.       1       5   \n1156  Die Person folgt dem Kurs der kommunistischen ...       0       1   \n1157               Die Person sieht sehr skeptisch aus.       0       5   \n\n      Malin  Aaron  Dahni  \n0         1      2      1  \n1         4      2      1  \n2         2      2      2  \n3         2      2      2  \n4         1      1      1  \n...     ...    ...    ...  \n1153      1      1      1  \n1154      1      1      1  \n1155      1      1      1  \n1156      4      4      4  \n1157      1      0      1  \n\n[1158 rows x 6 columns]",
      "text/html": "<div>\n<style scoped>\n    .dataframe tbody tr th:only-of-type {\n        vertical-align: middle;\n    }\n\n    .dataframe tbody tr th {\n        vertical-align: top;\n    }\n\n    .dataframe thead th {\n        text-align: right;\n    }\n</style>\n<table border=\"1\" class=\"dataframe\">\n  <thead>\n    <tr style=\"text-align: right;\">\n      <th></th>\n      <th>Text</th>\n      <th>Jannik</th>\n      <th>Marius</th>\n      <th>Malin</th>\n      <th>Aaron</th>\n      <th>Dahni</th>\n    </tr>\n  </thead>\n  <tbody>\n    <tr>\n      <th>0</th>\n      <td>Die Person arbeitete als Ballfänger bei einem ...</td>\n      <td>1</td>\n      <td>1</td>\n      <td>1</td>\n      <td>2</td>\n      <td>1</td>\n    </tr>\n    <tr>\n      <th>1</th>\n      <td>Die Person verdiente Geld durch die anstrengen...</td>\n      <td>2</td>\n      <td>2</td>\n      <td>4</td>\n      <td>2</td>\n      <td>1</td>\n    </tr>\n    <tr>\n      <th>2</th>\n      <td>Die Person war sehr bekannt dafür häufig herzl...</td>\n      <td>2</td>\n      <td>2</td>\n      <td>2</td>\n      <td>2</td>\n      <td>2</td>\n    </tr>\n    <tr>\n      <th>3</th>\n      <td>Die Person wurde beschrieben als ruhiger Zeitg...</td>\n      <td>2</td>\n      <td>2</td>\n      <td>2</td>\n      <td>2</td>\n      <td>2</td>\n    </tr>\n    <tr>\n      <th>4</th>\n      <td>Die Person hatte eine Stelle angefangen als Ba...</td>\n      <td>2</td>\n      <td>1</td>\n      <td>1</td>\n      <td>1</td>\n      <td>1</td>\n    </tr>\n    <tr>\n      <th>...</th>\n      <td>...</td>\n      <td>...</td>\n      <td>...</td>\n      <td>...</td>\n      <td>...</td>\n      <td>...</td>\n    </tr>\n    <tr>\n      <th>1153</th>\n      <td>Die Person ist ein Dudelsackspieler.</td>\n      <td>2</td>\n      <td>1</td>\n      <td>1</td>\n      <td>1</td>\n      <td>1</td>\n    </tr>\n    <tr>\n      <th>1154</th>\n      <td>Die Person arbeitet als Sekretärin.</td>\n      <td>2</td>\n      <td>1</td>\n      <td>1</td>\n      <td>1</td>\n      <td>1</td>\n    </tr>\n    <tr>\n      <th>1155</th>\n      <td>Die Person ist müde und erschöpft.</td>\n      <td>1</td>\n      <td>5</td>\n      <td>1</td>\n      <td>1</td>\n      <td>1</td>\n    </tr>\n    <tr>\n      <th>1156</th>\n      <td>Die Person folgt dem Kurs der kommunistischen ...</td>\n      <td>0</td>\n      <td>1</td>\n      <td>4</td>\n      <td>4</td>\n      <td>4</td>\n    </tr>\n    <tr>\n      <th>1157</th>\n      <td>Die Person sieht sehr skeptisch aus.</td>\n      <td>0</td>\n      <td>5</td>\n      <td>1</td>\n      <td>0</td>\n      <td>1</td>\n    </tr>\n  </tbody>\n</table>\n<p>1158 rows × 6 columns</p>\n</div>"
     },
     "execution_count": 15,
     "metadata": {},
     "output_type": "execute_result"
    }
   ],
   "source": [
    "nonbin_annotations_all = pd.DataFrame()\n",
    "nonbin_annotations_all[\"Text\"] = annotations[\"Text\"]\n",
    "for a in annotator_names:\n",
    "    nonbin_annotations_all[a] = np.where(annotations[f\"{neg}_{a}\"] == 1, 0,\n",
    "                                     np.where(annotations[f\"{neu}_{a}\"] == 1, 1,\n",
    "                                              np.where(annotations[f\"{pos}_{a}\"] == 1, 2,\n",
    "                                                       np.where(annotations[f\"Pos&Neg_{a}\"] == 1, 3,\n",
    "                                                                np.where\n",
    "                                                                (annotations[f\"Ansichtssache_{a}\"]\n",
    "                                                                 == 1, 4, np.where\n",
    "                                                                (annotations[f\"Nonsense_{a}\"] == 1,\n",
    "                                                                 5, 99))))))\n",
    "nonbin_annotations_all"
   ],
   "metadata": {
    "collapsed": false,
    "pycharm": {
     "name": "#%%\n"
    }
   }
  },
  {
   "cell_type": "code",
   "execution_count": 17,
   "outputs": [
    {
     "name": "stdout",
     "output_type": "stream",
     "text": [
      "only valence\n",
      "Fleiss' Kappa: 0.4504350549323807\n",
      "all labels\n",
      "Fleiss' Kappa: 0.4433908776320162\n"
     ]
    }
   ],
   "source": [
    "from nltk import agreement\n",
    "\n",
    "def fleiss_kappa(data, a_names):\n",
    "    formatted_codes = []\n",
    "\n",
    "    for j, annotator in enumerate(a_names):\n",
    "            formatted_codes += [[j, i, val] for i, val in enumerate(data[annotator])]\n",
    "\n",
    "    ratingtask = agreement.AnnotationTask(data=formatted_codes)\n",
    "\n",
    "    print('Fleiss\\' Kappa:',ratingtask.multi_kappa())\n",
    "\n",
    "\n",
    "print(\"only valence\")\n",
    "fleiss_kappa(nonbin_annotations, annotator_names)\n",
    "print(\"all labels\")\n",
    "fleiss_kappa(nonbin_annotations_all, annotator_names)"
   ],
   "metadata": {
    "collapsed": false,
    "pycharm": {
     "name": "#%%\n"
    }
   }
  },
  {
   "cell_type": "code",
   "execution_count": 20,
   "outputs": [
    {
     "name": "stdout",
     "output_type": "stream",
     "text": [
      "only valence\n",
      "Avg Cohen 0.5639840445523898\n",
      "all labels\n",
      "Avg Cohen 0.5589995346907355\n"
     ]
    },
    {
     "data": {
      "text/plain": "             Annotator_0  Annotator_1  Annotator_2  Annotator_3  Annotator_4\nAnnotator_0     1.000000     0.255298     0.483375     0.552251     0.397085\nAnnotator_1     0.255298     1.000000     0.372083     0.322981     0.420377\nAnnotator_2     0.483375     0.372083     1.000000     0.584166     0.591697\nAnnotator_3     0.552251     0.322981     0.584166     1.000000     0.508182\nAnnotator_4     0.397085     0.420377     0.591697     0.508182     1.000000",
      "text/html": "<div>\n<style scoped>\n    .dataframe tbody tr th:only-of-type {\n        vertical-align: middle;\n    }\n\n    .dataframe tbody tr th {\n        vertical-align: top;\n    }\n\n    .dataframe thead th {\n        text-align: right;\n    }\n</style>\n<table border=\"1\" class=\"dataframe\">\n  <thead>\n    <tr style=\"text-align: right;\">\n      <th></th>\n      <th>Annotator_0</th>\n      <th>Annotator_1</th>\n      <th>Annotator_2</th>\n      <th>Annotator_3</th>\n      <th>Annotator_4</th>\n    </tr>\n  </thead>\n  <tbody>\n    <tr>\n      <th>Annotator_0</th>\n      <td>1.000000</td>\n      <td>0.255298</td>\n      <td>0.483375</td>\n      <td>0.552251</td>\n      <td>0.397085</td>\n    </tr>\n    <tr>\n      <th>Annotator_1</th>\n      <td>0.255298</td>\n      <td>1.000000</td>\n      <td>0.372083</td>\n      <td>0.322981</td>\n      <td>0.420377</td>\n    </tr>\n    <tr>\n      <th>Annotator_2</th>\n      <td>0.483375</td>\n      <td>0.372083</td>\n      <td>1.000000</td>\n      <td>0.584166</td>\n      <td>0.591697</td>\n    </tr>\n    <tr>\n      <th>Annotator_3</th>\n      <td>0.552251</td>\n      <td>0.322981</td>\n      <td>0.584166</td>\n      <td>1.000000</td>\n      <td>0.508182</td>\n    </tr>\n    <tr>\n      <th>Annotator_4</th>\n      <td>0.397085</td>\n      <td>0.420377</td>\n      <td>0.591697</td>\n      <td>0.508182</td>\n      <td>1.000000</td>\n    </tr>\n  </tbody>\n</table>\n</div>"
     },
     "execution_count": 20,
     "metadata": {},
     "output_type": "execute_result"
    }
   ],
   "source": [
    "from sklearn.metrics import cohen_kappa_score\n",
    "\n",
    "def get_all_pairwise_kappas(data, a_names, anonymize=True):\n",
    "    a_names_cl = a_names\n",
    "    if anonymize:\n",
    "        a_names = [f'Annotator_{i}' for i, _ in enumerate(a_names)]\n",
    "    results = pd.DataFrame()\n",
    "    for i, a in enumerate(a_names):\n",
    "        for j, b in enumerate(a_names):\n",
    "            results.loc[a, b] = cohen_kappa_score(data[a_names_cl[i]], data[a_names_cl[j]])\n",
    "    return results\n",
    "\n",
    "print(\"only valence\")\n",
    "kappa = get_all_pairwise_kappas(nonbin_annotations, annotator_names, anonymize=True)\n",
    "print(\"Avg Cohen\", kappa.mean().mean())\n",
    "print(\"all labels\")\n",
    "kappa_all = get_all_pairwise_kappas(nonbin_annotations_all, annotator_names, anonymize=True)\n",
    "print(\"Avg Cohen\", kappa_all.mean().mean())\n",
    "kappa_all"
   ],
   "metadata": {
    "collapsed": false,
    "pycharm": {
     "name": "#%%\n"
    }
   }
  },
  {
   "cell_type": "code",
   "execution_count": 30,
   "outputs": [
    {
     "name": "stdout",
     "output_type": "stream",
     "text": [
      "Avg Cohen 0.3880501816955147\n"
     ]
    },
    {
     "data": {
      "text/plain": "             Annotator_0  Annotator_1  Annotator_2  Annotator_3  Annotator_4  \\\nAnnotator_0     1.000000     0.255298     0.483375     0.552251     0.397085   \nAnnotator_1     0.255298     1.000000     0.372083     0.322981     0.420377   \nAnnotator_2     0.483375     0.372083     1.000000     0.584166     0.591697   \nAnnotator_3     0.552251     0.322981     0.584166     1.000000     0.508182   \nAnnotator_4     0.397085     0.420377     0.591697     0.508182     1.000000   \nAnnotator_5    -0.112623    -0.046300    -0.129408    -0.106383    -0.107877   \n\n             Annotator_5  \nAnnotator_0    -0.112623  \nAnnotator_1    -0.046300  \nAnnotator_2    -0.129408  \nAnnotator_3    -0.106383  \nAnnotator_4    -0.107877  \nAnnotator_5     1.000000  ",
      "text/html": "<div>\n<style scoped>\n    .dataframe tbody tr th:only-of-type {\n        vertical-align: middle;\n    }\n\n    .dataframe tbody tr th {\n        vertical-align: top;\n    }\n\n    .dataframe thead th {\n        text-align: right;\n    }\n</style>\n<table border=\"1\" class=\"dataframe\">\n  <thead>\n    <tr style=\"text-align: right;\">\n      <th></th>\n      <th>Annotator_0</th>\n      <th>Annotator_1</th>\n      <th>Annotator_2</th>\n      <th>Annotator_3</th>\n      <th>Annotator_4</th>\n      <th>Annotator_5</th>\n    </tr>\n  </thead>\n  <tbody>\n    <tr>\n      <th>Annotator_0</th>\n      <td>1.000000</td>\n      <td>0.255298</td>\n      <td>0.483375</td>\n      <td>0.552251</td>\n      <td>0.397085</td>\n      <td>-0.112623</td>\n    </tr>\n    <tr>\n      <th>Annotator_1</th>\n      <td>0.255298</td>\n      <td>1.000000</td>\n      <td>0.372083</td>\n      <td>0.322981</td>\n      <td>0.420377</td>\n      <td>-0.046300</td>\n    </tr>\n    <tr>\n      <th>Annotator_2</th>\n      <td>0.483375</td>\n      <td>0.372083</td>\n      <td>1.000000</td>\n      <td>0.584166</td>\n      <td>0.591697</td>\n      <td>-0.129408</td>\n    </tr>\n    <tr>\n      <th>Annotator_3</th>\n      <td>0.552251</td>\n      <td>0.322981</td>\n      <td>0.584166</td>\n      <td>1.000000</td>\n      <td>0.508182</td>\n      <td>-0.106383</td>\n    </tr>\n    <tr>\n      <th>Annotator_4</th>\n      <td>0.397085</td>\n      <td>0.420377</td>\n      <td>0.591697</td>\n      <td>0.508182</td>\n      <td>1.000000</td>\n      <td>-0.107877</td>\n    </tr>\n    <tr>\n      <th>Annotator_5</th>\n      <td>-0.112623</td>\n      <td>-0.046300</td>\n      <td>-0.129408</td>\n      <td>-0.106383</td>\n      <td>-0.107877</td>\n      <td>1.000000</td>\n    </tr>\n  </tbody>\n</table>\n</div>"
     },
     "execution_count": 30,
     "metadata": {},
     "output_type": "execute_result"
    }
   ],
   "source": [
    "annotations_w_orig = nonbin_annotations_all\n",
    "annotations_w_orig[\"Original\"] = original_df[\"label\"]\n",
    "kappa_all = get_all_pairwise_kappas(annotations_w_orig,\n",
    "                                    annotator_names+[\"Original\"],\n",
    "                                    anonymize=True)\n",
    "print(\"Avg Cohen\", kappa_all.mean().mean())\n",
    "kappa_all"
   ],
   "metadata": {
    "collapsed": false,
    "pycharm": {
     "name": "#%%\n"
    }
   }
  },
  {
   "cell_type": "code",
   "execution_count": 13,
   "outputs": [],
   "source": [
    "def all_equal(iterator):\n",
    "    iterator = iter(iterator)\n",
    "    try:\n",
    "        first = next(iterator)\n",
    "    except StopIteration:\n",
    "        return True\n",
    "    return all(first == x for x in iterator)\n",
    "\n",
    "not_all_equal_idcs = []\n",
    "for i, row in nonbin_annotations[annotator_names].iterrows():\n",
    "    e = all_equal(row)\n",
    "    if e is False:\n",
    "        not_all_equal_idcs += [i]"
   ],
   "metadata": {
    "collapsed": false,
    "pycharm": {
     "name": "#%%\n"
    }
   }
  },
  {
   "cell_type": "code",
   "execution_count": 14,
   "outputs": [
    {
     "name": "stdout",
     "output_type": "stream",
     "text": [
      "Number of cases where annotators were of different opinion\n"
     ]
    },
    {
     "data": {
      "text/plain": "810"
     },
     "execution_count": 14,
     "metadata": {},
     "output_type": "execute_result"
    }
   ],
   "source": [
    "print('Number of cases where annotators were of different opinion')\n",
    "len(nonbin_annotations.loc[not_all_equal_idcs, :])"
   ],
   "metadata": {
    "collapsed": false,
    "pycharm": {
     "name": "#%%\n"
    }
   }
  },
  {
   "cell_type": "code",
   "execution_count": 15,
   "outputs": [
    {
     "data": {
      "text/plain": "348"
     },
     "execution_count": 15,
     "metadata": {},
     "output_type": "execute_result"
    }
   ],
   "source": [
    "len(nonbin_annotations) - len(nonbin_annotations.loc[not_all_equal_idcs, :])\n"
   ],
   "metadata": {
    "collapsed": false,
    "pycharm": {
     "name": "#%%\n"
    }
   }
  },
  {
   "cell_type": "code",
   "execution_count": 16,
   "outputs": [],
   "source": [
    "def get_majority_label(df, annotator_cols):\n",
    "    df['Label'] = df[annotator_cols].mode(axis='columns')[0]\n",
    "    df = df.loc[df['Label']!=98, :] # remove unsicher\n",
    "    return df\n",
    "\n",
    "df = get_majority_label(nonbin_annotations, annotator_names) # no Angelie\n"
   ],
   "metadata": {
    "collapsed": false,
    "pycharm": {
     "name": "#%%\n"
    }
   }
  },
  {
   "cell_type": "code",
   "execution_count": 98,
   "outputs": [
    {
     "data": {
      "text/plain": "                                                   Text  Dahni  Aaron  Malin  \\\n0     Die Person arbeitete als Ballfänger bei einem ...      1      2      1   \n1     Die Person verdiente Geld durch die anstrengen...      1      2     99   \n2     Die Person war sehr bekannt dafür häufig herzl...      2      2      2   \n3     Die Person wurde beschrieben als ruhiger Zeitg...      2      2      2   \n4     Die Person hatte eine Stelle angefangen als Ba...      1      1      1   \n...                                                 ...    ...    ...    ...   \n1153               Die Person ist ein Dudelsackspieler.      1      1      1   \n1154                Die Person arbeitet als Sekretärin.      1      1      1   \n1155                 Die Person ist müde und erschöpft.      1      1      1   \n1156  Die Person folgt dem Kurs der kommunistischen ...     99     99     99   \n1157               Die Person sieht sehr skeptisch aus.      1      0      1   \n\n      Marius  Jannik  Label  \n0          1       1    1.0  \n1          2       2    2.0  \n2          2       2    2.0  \n3          2       2    2.0  \n4          1       2    1.0  \n...      ...     ...    ...  \n1153       1       2    1.0  \n1154       1       2    1.0  \n1155      99       1    1.0  \n1156       1       0   99.0  \n1157      99       0    0.0  \n\n[1158 rows x 7 columns]",
      "text/html": "<div>\n<style scoped>\n    .dataframe tbody tr th:only-of-type {\n        vertical-align: middle;\n    }\n\n    .dataframe tbody tr th {\n        vertical-align: top;\n    }\n\n    .dataframe thead th {\n        text-align: right;\n    }\n</style>\n<table border=\"1\" class=\"dataframe\">\n  <thead>\n    <tr style=\"text-align: right;\">\n      <th></th>\n      <th>Text</th>\n      <th>Dahni</th>\n      <th>Aaron</th>\n      <th>Malin</th>\n      <th>Marius</th>\n      <th>Jannik</th>\n      <th>Label</th>\n    </tr>\n  </thead>\n  <tbody>\n    <tr>\n      <th>0</th>\n      <td>Die Person arbeitete als Ballfänger bei einem ...</td>\n      <td>1</td>\n      <td>2</td>\n      <td>1</td>\n      <td>1</td>\n      <td>1</td>\n      <td>1.0</td>\n    </tr>\n    <tr>\n      <th>1</th>\n      <td>Die Person verdiente Geld durch die anstrengen...</td>\n      <td>1</td>\n      <td>2</td>\n      <td>99</td>\n      <td>2</td>\n      <td>2</td>\n      <td>2.0</td>\n    </tr>\n    <tr>\n      <th>2</th>\n      <td>Die Person war sehr bekannt dafür häufig herzl...</td>\n      <td>2</td>\n      <td>2</td>\n      <td>2</td>\n      <td>2</td>\n      <td>2</td>\n      <td>2.0</td>\n    </tr>\n    <tr>\n      <th>3</th>\n      <td>Die Person wurde beschrieben als ruhiger Zeitg...</td>\n      <td>2</td>\n      <td>2</td>\n      <td>2</td>\n      <td>2</td>\n      <td>2</td>\n      <td>2.0</td>\n    </tr>\n    <tr>\n      <th>4</th>\n      <td>Die Person hatte eine Stelle angefangen als Ba...</td>\n      <td>1</td>\n      <td>1</td>\n      <td>1</td>\n      <td>1</td>\n      <td>2</td>\n      <td>1.0</td>\n    </tr>\n    <tr>\n      <th>...</th>\n      <td>...</td>\n      <td>...</td>\n      <td>...</td>\n      <td>...</td>\n      <td>...</td>\n      <td>...</td>\n      <td>...</td>\n    </tr>\n    <tr>\n      <th>1153</th>\n      <td>Die Person ist ein Dudelsackspieler.</td>\n      <td>1</td>\n      <td>1</td>\n      <td>1</td>\n      <td>1</td>\n      <td>2</td>\n      <td>1.0</td>\n    </tr>\n    <tr>\n      <th>1154</th>\n      <td>Die Person arbeitet als Sekretärin.</td>\n      <td>1</td>\n      <td>1</td>\n      <td>1</td>\n      <td>1</td>\n      <td>2</td>\n      <td>1.0</td>\n    </tr>\n    <tr>\n      <th>1155</th>\n      <td>Die Person ist müde und erschöpft.</td>\n      <td>1</td>\n      <td>1</td>\n      <td>1</td>\n      <td>99</td>\n      <td>1</td>\n      <td>1.0</td>\n    </tr>\n    <tr>\n      <th>1156</th>\n      <td>Die Person folgt dem Kurs der kommunistischen ...</td>\n      <td>99</td>\n      <td>99</td>\n      <td>99</td>\n      <td>1</td>\n      <td>0</td>\n      <td>99.0</td>\n    </tr>\n    <tr>\n      <th>1157</th>\n      <td>Die Person sieht sehr skeptisch aus.</td>\n      <td>1</td>\n      <td>0</td>\n      <td>1</td>\n      <td>99</td>\n      <td>0</td>\n      <td>0.0</td>\n    </tr>\n  </tbody>\n</table>\n<p>1158 rows × 7 columns</p>\n</div>"
     },
     "execution_count": 98,
     "metadata": {},
     "output_type": "execute_result"
    }
   ],
   "source": [
    "df\n"
   ],
   "metadata": {
    "collapsed": false,
    "pycharm": {
     "name": "#%%\n"
    }
   }
  },
  {
   "cell_type": "code",
   "execution_count": null,
   "outputs": [],
   "source": [],
   "metadata": {
    "collapsed": false,
    "pycharm": {
     "name": "#%%\n"
    }
   }
  }
 ],
 "metadata": {
  "kernelspec": {
   "name": "thesis_env",
   "language": "python",
   "display_name": "thesis_env"
  },
  "language_info": {
   "codemirror_mode": {
    "name": "ipython",
    "version": 2
   },
   "file_extension": ".py",
   "mimetype": "text/x-python",
   "name": "python",
   "nbconvert_exporter": "python",
   "pygments_lexer": "ipython2",
   "version": "2.7.6"
  }
 },
 "nbformat": 4,
 "nbformat_minor": 0
}