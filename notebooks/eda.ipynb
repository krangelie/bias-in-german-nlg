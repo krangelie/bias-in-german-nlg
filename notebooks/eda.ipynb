{
 "metadata": {
  "language_info": {
   "codemirror_mode": {
    "name": "ipython",
    "version": 3
   },
   "file_extension": ".py",
   "mimetype": "text/x-python",
   "name": "python",
   "nbconvert_exporter": "python",
   "pygments_lexer": "ipython3",
   "version": "3.8.5-final"
  },
  "orig_nbformat": 2,
  "kernelspec": {
   "name": "thesis_env",
   "language": "python",
   "display_name": "thesis_env"
  }
 },
 "nbformat": 4,
 "nbformat_minor": 2,
 "cells": [
  {
   "cell_type": "markdown",
   "source": [
    "# EDA on raw survey data"
   ],
   "metadata": {
    "collapsed": false,
    "pycharm": {
     "name": "#%% md\n"
    }
   }
  },
  {
   "cell_type": "code",
   "execution_count": 170,
   "outputs": [],
   "source": [
    "import os\n",
    "import sys\n",
    "\n",
    "sys.path.insert(1, '../src')\n",
    "\n",
    "\n",
    "import pandas as pd\n",
    "import seaborn as sns\n",
    "import matplotlib.pyplot as plt\n",
    "from nltk.corpus import stopwords\n"
   ],
   "metadata": {
    "collapsed": false,
    "pycharm": {
     "name": "#%%\n"
    }
   }
  },
  {
   "cell_type": "code",
   "execution_count": 171,
   "outputs": [
    {
     "data": {
      "text/plain": "['aber',\n 'alle',\n 'allem',\n 'allen',\n 'aller',\n 'alles',\n 'als',\n 'also',\n 'am',\n 'an',\n 'ander',\n 'andere',\n 'anderem',\n 'anderen',\n 'anderer',\n 'anderes',\n 'anderm',\n 'andern',\n 'anderr',\n 'anders']"
     },
     "execution_count": 171,
     "metadata": {},
     "output_type": "execute_result"
    }
   ],
   "source": [
    "german_stop_words = stopwords.words('german')\n",
    "german_stop_words[:20]"
   ],
   "metadata": {
    "collapsed": false,
    "pycharm": {
     "name": "#%%\n"
    }
   }
  },
  {
   "cell_type": "code",
   "execution_count": 172,
   "metadata": {},
   "outputs": [],
   "source": [
    "data_path = data_path = \"../data/raw_study_data\"\n",
    "study_timestamp = \"2021-03-18_08-40\"\n",
    "study_data = f\"data_regard_{study_timestamp}.csv\""
   ]
  },
  {
   "cell_type": "code",
   "execution_count": 173,
   "metadata": {},
   "outputs": [
    {
     "name": "stdout",
     "output_type": "stream",
     "text": [
      "      SERIAL  REF    QUESTNNR       MODE              STARTED          SC01  \\\n",
      "CASE                                                                          \n",
      "198      NaN  NaN          RG  interview  2021-03-03 09:14:28           NaN   \n",
      "200      NaN  NaN  person_img  interview  2021-03-03 09:14:52  Not answered   \n",
      "202      NaN  NaN  person_img  interview  2021-03-03 09:16:02            Ja   \n",
      "209      NaN  NaN  person_img  interview  2021-03-03 09:48:26  Not answered   \n",
      "212      NaN  NaN  person_img  interview  2021-03-03 09:50:00            Ja   \n",
      "\n",
      "     SC08_01                                               GE02  RN01_CP  \\\n",
      "CASE                                                                       \n",
      "198      NaN                                                NaN      0.0   \n",
      "200      NaN                                                NaN      NaN   \n",
      "202      NaN  Ja ich spreche Deutsch auf muttersprachlichem ...      NaN   \n",
      "209      NaN                                                NaN      NaN   \n",
      "212      NaN  Ja ich spreche Deutsch auf muttersprachlichem ...      NaN   \n",
      "\n",
      "        RN01  ...  MAILSENT             LASTDATA  FINISHED  Q_VIEWER  \\\n",
      "CASE          ...                                                      \n",
      "198   female  ...       NaN  2021-03-03 09:14:28         0         0   \n",
      "200      NaN  ...       NaN  2021-03-03 09:14:56         0         0   \n",
      "202      NaN  ...       NaN  2021-03-03 09:17:20         0         0   \n",
      "209      NaN  ...       NaN  2021-03-03 09:48:32         0         0   \n",
      "212      NaN  ...       NaN  2021-03-03 10:10:20         1         0   \n",
      "\n",
      "      LASTPAGE  MAXPAGE  MISSING  MISSREL  TIME_RSI  DEG_TIME  \n",
      "CASE                                                           \n",
      "198          0        0      NaN      NaN       NaN       100  \n",
      "200          2        2    100.0    100.0      3.00       263  \n",
      "202          9       10     75.0     73.0      2.44       315  \n",
      "209          2        2    100.0    100.0      3.00       144  \n",
      "212         26       26      4.0      1.0      0.61         1  \n",
      "\n",
      "[5 rows x 106 columns]\n",
      "116\n"
     ]
    }
   ],
   "source": [
    "data = pd.read_csv(os.path.join(data_path, study_data), index_col=0, encoding='iso-8859-1')\n",
    "print(data.head())\n",
    "print(len(data))"
   ]
  },
  {
   "cell_type": "code",
   "execution_count": 174,
   "metadata": {},
   "outputs": [],
   "source": [
    "# Get original item texts\n",
    "variable_table = f\"variables_regard_{study_timestamp}.csv\"\n",
    "variables = pd.read_csv(os.path.join(data_path, variable_table), index_col=0, encoding='iso-8859-1')"
   ]
  },
  {
   "cell_type": "code",
   "execution_count": 175,
   "outputs": [],
   "source": [
    "nan = ['NaN', -9, -1]"
   ],
   "metadata": {
    "collapsed": false,
    "pycharm": {
     "name": "#%%\n"
    }
   }
  },
  {
   "source": [
    "## Filter out invalid cases"
   ],
   "cell_type": "markdown",
   "metadata": {}
  },
  {
   "cell_type": "code",
   "execution_count": 176,
   "metadata": {},
   "outputs": [],
   "source": [
    "def filter_valid(df):\n",
    "    df = df[df['SC01'] == 'Ja']  # SC01 = Consent\n",
    "    df = df[df['GE02'].str.startswith('Ja')]  # GE02 = German skills\n",
    "    df = df.loc[df.loc[:,'PR01_01' : 'NP10_01'].isnull().sum(1) < 20, :]  # at least one sentence\n",
    "    df = df.drop(['MAILSENT', 'Q_VIEWER', 'MISSING', 'MISSREL', 'TIME_RSI', 'DEG_TIME', 'SERIAL', 'REF'], axis=1)\n",
    "    df = df[df['MODE'] != 'admin']\n",
    "    print(len(df), \"cases remain\")\n",
    "    return df"
   ]
  },
  {
   "cell_type": "code",
   "execution_count": 177,
   "outputs": [
    {
     "name": "stdout",
     "output_type": "stream",
     "text": [
      "No consent 14\n",
      "No German skills 3\n"
     ]
    }
   ],
   "source": [
    "data = data[data['MODE'] != 'admin']\n",
    "print(\"No consent\", (data['SC01'] != 'Ja').sum())\n",
    "print(\"No German skills\", len(data[(data['SC01'] == 'Ja') & (data['GE02'].str.startswith('Nein'))]))"
   ],
   "metadata": {
    "collapsed": false,
    "pycharm": {
     "name": "#%%\n"
    }
   }
  },
  {
   "cell_type": "code",
   "execution_count": 178,
   "outputs": [
    {
     "name": "stdout",
     "output_type": "stream",
     "text": [
      "75 cases remain\n"
     ]
    }
   ],
   "source": [
    "data = filter_valid(data)"
   ],
   "metadata": {
    "collapsed": false,
    "pycharm": {
     "name": "#%%\n"
    }
   }
  },
  {
   "source": [
    "## Get text columns (with context versus without)"
   ],
   "cell_type": "markdown",
   "metadata": {}
  },
  {
   "cell_type": "code",
   "execution_count": 179,
   "metadata": {},
   "outputs": [],
   "source": [
    "# \"Die Person\"\n",
    "noprompt_cols = data.loc[:, 'NP01_01' : 'NP10_01'].columns\n",
    "# e.g., \"Die Person war bekannt dafür\"\n",
    "prompt_cols =  data.loc[:, 'PR01_01' : 'PR02_01'].columns\n",
    "text_cols = prompt_cols.append(noprompt_cols)"
   ]
  },
  {
   "source": [
    "## Map prompts\n",
    "### Create dict of code to Prompt & replace \"Die Person\" with mask \"XYZ\""
   ],
   "cell_type": "markdown",
   "metadata": {}
  },
  {
   "cell_type": "code",
   "execution_count": 180,
   "metadata": {},
   "outputs": [],
   "source": [
    "def prepare_prompt_dict(variables, cols):\n",
    "    prompt_list = [p.split(': ')[1].replace('Die Person', 'XYZ') for p in variables.loc[cols, 'LABEL']]\n",
    "    prompt_dict = dict(zip(cols, prompt_list))\n",
    "    return prompt_dict"
   ]
  },
  {
   "source": [
    "# Go through all sentences in dataset and replace BOS"
   ],
   "cell_type": "markdown",
   "metadata": {}
  },
  {
   "cell_type": "code",
   "execution_count": 181,
   "metadata": {},
   "outputs": [],
   "source": [
    "def remove_prompt_duplicate(text, prompt_dict=None):\n",
    "    # Some participants copied the prompt text into their response\n",
    "    if prompt_dict is None:\n",
    "        if 'Die Person' or 'XYZ' in text:\n",
    "            text = text.replace('Die Person', '')\n",
    "            text = text.replace('XYZ', '')\n",
    "    else:\n",
    "        for val in prompt_dict.values():\n",
    "            if text.startswith('XYZ') and not val.startswith('XYZ'):\n",
    "                val = val.replace('XYZ', 'Die Person')\n",
    "            if val in text:\n",
    "                text = text.replace(val, '')  \n",
    "    return text\n",
    "\n",
    "\n",
    "def get_label_col(df):\n",
    "    # Rename study condition (synonymous to original regard label)\n",
    "    label_dict = {'neutral' : 0, 'positive' : 1, 'negative' : -1}\n",
    "    return df['FA04'].apply(lambda label : label_dict[label])\n",
    "\n",
    "\n",
    "def add_BOS_to_reponse(df, cols, prompt_dict=None):\n",
    "    # Prepend prompt to response text for complete sentences\n",
    "    texts = pd.DataFrame(columns=cols)\n",
    "    for col in cols:\n",
    "        if prompt_dict is None:\n",
    "            texts[col] = data[col].apply(lambda text :  'XYZ ' + remove_prompt_duplicate(str(text), prompt_dict) if str(text) != 'nan' else None)\n",
    "        else:\n",
    "            \n",
    "            texts[col] = df[col].apply(lambda text : prompt_dict[col] + ' ' + remove_prompt_duplicate(str(text), prompt_dict) if str(text) != 'nan' else None)\n",
    "\n",
    "    \n",
    "    texts['label'] = get_label_col(df)\n",
    "    return texts\n"
   ]
  },
  {
   "cell_type": "code",
   "execution_count": 182,
   "metadata": {},
   "outputs": [],
   "source": [
    "prompt_dict = prepare_prompt_dict(variables, prompt_cols)\n",
    "prompted_texts = add_BOS_to_reponse(data, prompt_cols, prompt_dict)\n",
    "unprompted_texts = add_BOS_to_reponse(data, noprompt_cols)"
   ]
  },
  {
   "cell_type": "code",
   "execution_count": 183,
   "outputs": [
    {
     "name": "stderr",
     "output_type": "stream",
     "text": [
      "/home/angelie/Documents/University/Thesis/1_THESIS/thesis_repo/thesis-bias-in-nlp/thesis_env/lib/python3.8/site-packages/pandas/core/frame.py:3607: SettingWithCopyWarning: \n",
      "A value is trying to be set on a copy of a slice from a DataFrame.\n",
      "Try using .loc[row_indexer,col_indexer] = value instead\n",
      "\n",
      "See the caveats in the documentation: https://pandas.pydata.org/pandas-docs/stable/user_guide/indexing.html#returning-a-view-versus-a-copy\n",
      "  self._set_item(key, value)\n"
     ]
    }
   ],
   "source": [
    "def csv_ready(completed_texts):\n",
    "    # Prepare output file\n",
    "    texts = []\n",
    "    labels = []\n",
    "    for _, row in completed_texts.iterrows():\n",
    "        texts += row[~row.isnull()].tolist()[:-1]\n",
    "        labels += [row['label']] * (sum(~row.isnull()) - 1)\n",
    "\n",
    "    csv_ready = pd.DataFrame(zip(labels, texts))\n",
    "    return csv_ready\n",
    "\n",
    "csv_ready_prompt = csv_ready(prompted_texts)\n",
    "csv_ready_noprompt = csv_ready(unprompted_texts)\n",
    "csv_ready_prompt.columns = [\"Label\", \"Text\"]\n",
    "labels = get_label_col(data)\n",
    "no_BOS_prompt = data[prompt_cols]\n",
    "no_BOS_prompt['label'] = labels\n",
    "no_BOS_noprompt = data[noprompt_cols]\n",
    "no_BOS_noprompt['label'] = labels\n",
    "\n",
    "no_BOS_prompt = csv_ready(no_BOS_prompt)\n",
    "no_BOS_noprompt = csv_ready(no_BOS_noprompt)\n",
    "\n",
    "no_BOS_all = pd.concat([no_BOS_prompt, no_BOS_noprompt])"
   ],
   "metadata": {
    "collapsed": false,
    "pycharm": {
     "name": "#%%\n"
    }
   }
  },
  {
   "cell_type": "markdown",
   "source": [
    "# Basic exploration"
   ],
   "metadata": {
    "collapsed": false
   }
  },
  {
   "cell_type": "markdown",
   "source": [
    "## Separate by bias context"
   ],
   "metadata": {
    "collapsed": false,
    "pycharm": {
     "name": "#%% md\n"
    }
   }
  },
  {
   "cell_type": "code",
   "execution_count": 184,
   "outputs": [],
   "source": [
    "from src.constants import OCCUPATION_LIST, RESPECT_LIST\n",
    "from src.utils import has_context\n",
    "\n",
    "csv_ready_prompt[\"is_occ\"] = csv_ready_prompt[\"Text\"].apply(has_context,\n",
    "                                                          context_list=OCCUPATION_LIST)\n",
    "resp_df = csv_ready_prompt.loc[csv_ready_prompt[\"Text\"].apply(has_context,\n",
    "                                                           context_list=RESPECT_LIST), :]\n",
    "occ_df = csv_ready_prompt.loc[csv_ready_prompt[\"Text\"].apply(has_context,\n",
    "                                                           context_list=OCCUPATION_LIST), :]"
   ],
   "metadata": {
    "collapsed": false,
    "pycharm": {
     "name": "#%%\n"
    }
   }
  },
  {
   "cell_type": "code",
   "execution_count": 185,
   "outputs": [
    {
     "name": "stdout",
     "output_type": "stream",
     "text": [
      "Occupation context\n"
     ]
    },
    {
     "data": {
      "text/plain": "<AxesSubplot:xlabel='Label', ylabel='Frequency'>"
     },
     "execution_count": 185,
     "metadata": {},
     "output_type": "execute_result"
    },
    {
     "data": {
      "text/plain": "<Figure size 432x288 with 1 Axes>",
      "image/png": "[encoded data removed]"
     },
     "metadata": {
      "needs_background": "light"
     },
     "output_type": "display_data"
    }
   ],
   "source": [
    "print(\"Occupation context\")\n",
    "sns.histplot(data=occ_df, x=\"Label\", multiple=\"dodge\", stat=\"frequency\")"
   ],
   "metadata": {
    "collapsed": false,
    "pycharm": {
     "name": "#%%\n"
    }
   }
  },
  {
   "cell_type": "code",
   "execution_count": 135,
   "outputs": [
    {
     "name": "stdout",
     "output_type": "stream",
     "text": [
      "Respect context\n"
     ]
    },
    {
     "data": {
      "text/plain": "<AxesSubplot:xlabel='Label', ylabel='Frequency'>"
     },
     "execution_count": 135,
     "metadata": {},
     "output_type": "execute_result"
    },
    {
     "data": {
      "text/plain": "<Figure size 432x288 with 1 Axes>",
      "image/png": "[encoded data removed]"
     },
     "metadata": {
      "needs_background": "light"
     },
     "output_type": "display_data"
    }
   ],
   "source": [
    "print(\"Respect context\")\n",
    "sns.histplot(data=resp_df, x=\"Label\", multiple=\"dodge\", stat=\"frequency\")\n",
    "\n"
   ],
   "metadata": {
    "collapsed": false,
    "pycharm": {
     "name": "#%%\n"
    }
   }
  },
  {
   "cell_type": "markdown",
   "source": [
    "## Response rates"
   ],
   "metadata": {
    "collapsed": false,
    "pycharm": {
     "name": "#%% md\n"
    }
   }
  },
  {
   "cell_type": "code",
   "execution_count": 136,
   "outputs": [
    {
     "name": "stdout",
     "output_type": "stream",
     "text": [
      "Only one response\n",
      "1\n",
      "\n",
      "All responses\n",
      "23\n"
     ]
    }
   ],
   "source": [
    "print(\"Only one response\")\n",
    "print(len(data.loc[data.loc[:,'PR01_01' : 'NP10_01'].isnull().sum(1) == 19 , 'PR01_01' :\n",
    "                                                                             'NP10_01']))\n",
    "print(\"\\nAll responses\")\n",
    "print(len(data.loc[data.loc[:,'PR01_01' : 'NP10_01'].isnull().sum(1) == 0 , 'PR01_01' :\n",
    "                                                                             'NP10_01']))"
   ],
   "metadata": {
    "collapsed": false,
    "pycharm": {
     "name": "#%%\n"
    }
   }
  },
  {
   "cell_type": "code",
   "execution_count": 137,
   "outputs": [
    {
     "data": {
      "text/plain": "Text(0.5, 1.0, 'Number of sentences per valence')"
     },
     "execution_count": 137,
     "metadata": {},
     "output_type": "execute_result"
    },
    {
     "data": {
      "text/plain": "<Figure size 432x288 with 1 Axes>",
      "image/png": "[encoded data removed]"
     },
     "metadata": {
      "needs_background": "light"
     },
     "output_type": "display_data"
    }
   ],
   "source": [
    "plt.hist(no_BOS_prompt[0], align='left', label=f'prompted ({len(no_BOS_prompt)} total)')\n",
    "plt.hist(no_BOS_noprompt[0], align='right', label=f'unprompted ({len(no_BOS_noprompt)} total)')\n",
    "plt.xticks([-1, 0, 1], labels=['negative', 'neutral', 'positive'])\n",
    "plt.legend()\n",
    "plt.title('Number of sentences per valence')"
   ],
   "metadata": {
    "collapsed": false,
    "pycharm": {
     "name": "#%%\n"
    }
   }
  },
  {
   "cell_type": "markdown",
   "source": [
    "## Time spent"
   ],
   "metadata": {
    "collapsed": false,
    "pycharm": {
     "name": "#%% md\n"
    }
   }
  },
  {
   "cell_type": "code",
   "execution_count": 138,
   "outputs": [
    {
     "name": "stdout",
     "output_type": "stream",
     "text": [
      "count    32.000000\n",
      "mean     10.969271\n",
      "std       4.896290\n",
      "min       1.400000\n",
      "25%       8.000000\n",
      "50%      10.916667\n",
      "75%      14.600000\n",
      "max      19.350000\n",
      "Name: TIME_SUM, dtype: float64\n"
     ]
    },
    {
     "data": {
      "text/plain": "<AxesSubplot:>"
     },
     "execution_count": 138,
     "metadata": {},
     "output_type": "execute_result"
    },
    {
     "data": {
      "text/plain": "<Figure size 432x288 with 1 Axes>",
      "image/png": "[encoded data removed]"
     },
     "metadata": {
      "needs_background": "light"
     },
     "output_type": "display_data"
    }
   ],
   "source": [
    "times = data['TIME_SUM'] / 60\n",
    "print(times.describe())\n",
    "times.hist()"
   ],
   "metadata": {
    "collapsed": false,
    "pycharm": {
     "name": "#%%\n"
    }
   }
  },
  {
   "cell_type": "markdown",
   "source": [
    "## Sentence statistics"
   ],
   "metadata": {
    "collapsed": false
   }
  },
  {
   "cell_type": "code",
   "execution_count": 139,
   "outputs": [],
   "source": [
    "import re, string\n",
    "# Remove punctuation\n",
    "no_BOS_all[1] = no_BOS_all[1].apply(lambda x: re.sub('[%s]' % re.escape(string.punctuation), '', x))"
   ],
   "metadata": {
    "collapsed": false,
    "pycharm": {
     "name": "#%%\n"
    }
   }
  },
  {
   "cell_type": "code",
   "execution_count": 140,
   "outputs": [
    {
     "name": "stdout",
     "output_type": "stream",
     "text": [
      "Num characters\n"
     ]
    },
    {
     "data": {
      "text/plain": "count    534.000000\nmean      41.580524\nstd       26.480126\nmin        4.000000\n25%       22.000000\n50%       36.000000\n75%       56.750000\nmax      185.000000\nName: 1, dtype: float64"
     },
     "execution_count": 140,
     "metadata": {},
     "output_type": "execute_result"
    },
    {
     "data": {
      "text/plain": "<Figure size 432x288 with 1 Axes>",
      "image/png": "[encoded data removed]"
     },
     "metadata": {
      "needs_background": "light"
     },
     "output_type": "display_data"
    }
   ],
   "source": [
    "print(\"Num characters\")\n",
    "no_BOS_all[1].str.len().hist()\n",
    "no_BOS_all[1].str.len().describe()\n",
    "\n",
    "#no_BOS_all.loc[no_BOS_all[1].str.len() == 2, 1]"
   ],
   "metadata": {
    "collapsed": false,
    "pycharm": {
     "name": "#%%\n"
    }
   }
  },
  {
   "cell_type": "code",
   "execution_count": 141,
   "outputs": [
    {
     "name": "stdout",
     "output_type": "stream",
     "text": [
      "Num words\n"
     ]
    },
    {
     "data": {
      "text/plain": "count    534.000000\nmean       5.943820\nstd        4.128861\nmin        1.000000\n25%        3.000000\n50%        5.000000\n75%        8.000000\nmax       34.000000\nName: 1, dtype: float64"
     },
     "execution_count": 141,
     "metadata": {},
     "output_type": "execute_result"
    },
    {
     "data": {
      "text/plain": "<Figure size 432x288 with 1 Axes>",
      "image/png": "[encoded data removed]"
     },
     "metadata": {
      "needs_background": "light"
     },
     "output_type": "display_data"
    }
   ],
   "source": [
    "print(\"Num words\")\n",
    "no_BOS_all[1].str.split().\\\n",
    "    map(lambda x: len(x)).\\\n",
    "    hist()\n",
    "no_BOS_all[1].str.split().\\\n",
    "    map(lambda x: len(x)).describe()"
   ],
   "metadata": {
    "collapsed": false,
    "pycharm": {
     "name": "#%%\n"
    }
   }
  },
  {
   "cell_type": "code",
   "execution_count": 142,
   "outputs": [
    {
     "data": {
      "text/plain": "Text(0.5, 0, '# Chars')"
     },
     "execution_count": 142,
     "metadata": {},
     "output_type": "execute_result"
    },
    {
     "data": {
      "text/plain": "<Figure size 432x288 with 1 Axes>",
      "image/png": "[encoded data removed]"
     },
     "metadata": {
      "needs_background": "light"
     },
     "output_type": "display_data"
    }
   ],
   "source": [
    "names = ['prompted', 'unprompted']\n",
    "for i, df in enumerate([no_BOS_prompt, no_BOS_noprompt]):\n",
    "    df[1].str.len().hist(label=names[i])\n",
    "plt.legend()\n",
    "plt.title('Number of characters in each sentence')\n",
    "plt.xlabel('# Chars')"
   ],
   "metadata": {
    "collapsed": false,
    "pycharm": {
     "name": "#%%\n"
    }
   }
  },
  {
   "cell_type": "code",
   "execution_count": 143,
   "outputs": [
    {
     "data": {
      "text/plain": "Text(0.5, 0, '# Words')"
     },
     "execution_count": 143,
     "metadata": {},
     "output_type": "execute_result"
    },
    {
     "data": {
      "text/plain": "<Figure size 432x288 with 1 Axes>",
      "image/png": "[encoded data removed]"
     },
     "metadata": {
      "needs_background": "light"
     },
     "output_type": "display_data"
    }
   ],
   "source": [
    "for i, df in enumerate([no_BOS_prompt, no_BOS_noprompt]):\n",
    "    df[1].str.split().\\\n",
    "    map(lambda x: len(x)).\\\n",
    "    hist(label=names[i])\n",
    "plt.legend()\n",
    "plt.title('Number of words in each sentence')\n",
    "plt.xlabel('# Words')"
   ],
   "metadata": {
    "collapsed": false,
    "pycharm": {
     "name": "#%%\n"
    }
   }
  },
  {
   "cell_type": "code",
   "execution_count": 144,
   "outputs": [
    {
     "name": "stderr",
     "output_type": "stream",
     "text": [
      "[nltk_data] Downloading package stopwords to\n",
      "[nltk_data]     /home/angelie/nltk_data...\n",
      "[nltk_data]   Package stopwords is already up-to-date!\n"
     ]
    }
   ],
   "source": [
    "# Non-Stopwords Barchart\n",
    "from collections import Counter\n",
    "import nltk\n",
    "import numpy as np\n",
    "nltk.download('stopwords')\n",
    "\n",
    "def plot_top_stopwords_barchart(text):\n",
    "    stop=set(stopwords.words('german'))\n",
    "\n",
    "    new= text.str.split()\n",
    "    new=new.values.tolist()\n",
    "    corpus=[word for i in new for word in i]\n",
    "    from collections import defaultdict\n",
    "    dic=defaultdict(int)\n",
    "    for word in corpus:\n",
    "        if word in stop:\n",
    "            dic[word]+=1\n",
    "\n",
    "    top=sorted(dic.items(), key=lambda x:x[1],reverse=True)[:10]\n",
    "    x,y=zip(*top)\n",
    "    plt.bar(x,y)\n",
    "\n",
    "def plot_top_non_stopwords_barchart(text, top_k_to_plot=None, describe_only=False):\n",
    "    stop=set(stopwords.words('german'))\n",
    "\n",
    "    new= text.str.split()\n",
    "    new=new.values.tolist()\n",
    "    corpus=[word for i in new for word in i]\n",
    "\n",
    "    counter=Counter(corpus)\n",
    "    most=counter.most_common()\n",
    "    x, y=[], []\n",
    "    slice = most if top_k_to_plot is None else most[:top_k_to_plot]\n",
    "    for word,count in slice:\n",
    "        if (word not in stop):\n",
    "            x.append(word)\n",
    "            y.append(count)\n",
    "\n",
    "    print(\"Distribution of non-stopwords\")\n",
    "    print(\"SD\", np.std(y), \"M\", np.mean(y), \"Median\", np.median(y), \"range\", f\"[{min(y)},{max(y)}]\")\n",
    "    if not describe_only:\n",
    "        sns.barplot(x=y,y=x)"
   ],
   "metadata": {
    "collapsed": false,
    "pycharm": {
     "name": "#%%\n"
    }
   }
  },
  {
   "cell_type": "code",
   "execution_count": 145,
   "outputs": [
    {
     "data": {
      "text/plain": "Text(0.5, 1.0, 'Most common stopwords')"
     },
     "execution_count": 145,
     "metadata": {},
     "output_type": "execute_result"
    },
    {
     "data": {
      "text/plain": "<Figure size 432x288 with 1 Axes>",
      "image/png": "[encoded data removed]"
     },
     "metadata": {
      "needs_background": "light"
     },
     "output_type": "display_data"
    }
   ],
   "source": [
    "plot_top_stopwords_barchart(no_BOS_all[1])\n",
    "plt.title(\"Most common stopwords\")"
   ],
   "metadata": {
    "collapsed": false,
    "pycharm": {
     "name": "#%%\n"
    }
   }
  },
  {
   "cell_type": "code",
   "execution_count": 146,
   "outputs": [
    {
     "name": "stdout",
     "output_type": "stream",
     "text": [
      "Distribution of non-stopwords\n",
      "SD 1.008201693093869 M 1.2650936849410133 Median 1.0 range [1,16]\n"
     ]
    }
   ],
   "source": [
    "plot_top_non_stopwords_barchart(no_BOS_all[1], top_k_to_plot=None, describe_only=True)"
   ],
   "metadata": {
    "collapsed": false,
    "pycharm": {
     "name": "#%%\n"
    }
   }
  },
  {
   "cell_type": "code",
   "execution_count": 147,
   "outputs": [],
   "source": [
    "from sklearn.feature_extraction.text import CountVectorizer\n",
    "\n",
    "def plot_top_ngrams_barchart(text, n=1):\n",
    "    stop=set(stopwords.words('german'))\n",
    "\n",
    "    new= text.str.split()\n",
    "    new=new.values.tolist()\n",
    "    corpus=[word for i in new for word in i if word not in stop]\n",
    "\n",
    "    def _get_top_ngram(corpus, n):\n",
    "        vec = CountVectorizer(ngram_range=(n, n)).fit(corpus)\n",
    "        bag_of_words = vec.transform(corpus)\n",
    "        sum_words = bag_of_words.sum(axis=0)\n",
    "\n",
    "        words_freq = [(word, sum_words[0, idx])\n",
    "                      for word, idx in vec.vocabulary_.items()]\n",
    "        words_freq =sorted(words_freq, key = lambda x: x[1], reverse=True)\n",
    "        print(\"Num n-grams\", len(words_freq))\n",
    "        return words_freq[:10]\n",
    "\n",
    "    top_n_bigrams=_get_top_ngram(corpus,n)[:10]\n",
    "    x,y=map(list,zip(*top_n_bigrams))\n",
    "    sns.barplot(x=y,y=x)"
   ],
   "metadata": {
    "collapsed": false,
    "pycharm": {
     "name": "#%%\n"
    }
   }
  },
  {
   "cell_type": "markdown",
   "source": [
    "# Most frequent words"
   ],
   "metadata": {
    "collapsed": false,
    "pycharm": {
     "name": "#%% md\n"
    }
   }
  },
  {
   "cell_type": "code",
   "execution_count": 186,
   "outputs": [
    {
     "name": "stdout",
     "output_type": "stream",
     "text": [
      "Requirement already satisfied: spacy in /home/angelie/Documents/University/Thesis/1_THESIS/thesis_repo/thesis-bias-in-nlp/thesis_env/lib/python3.8/site-packages (3.0.3)\r\n",
      "Requirement already satisfied: murmurhash<1.1.0,>=0.28.0 in /home/angelie/Documents/University/Thesis/1_THESIS/thesis_repo/thesis-bias-in-nlp/thesis_env/lib/python3.8/site-packages (from spacy) (1.0.5)\r\n",
      "Requirement already satisfied: thinc<8.1.0,>=8.0.0 in /home/angelie/Documents/University/Thesis/1_THESIS/thesis_repo/thesis-bias-in-nlp/thesis_env/lib/python3.8/site-packages (from spacy) (8.0.1)\r\n",
      "Requirement already satisfied: wasabi<1.1.0,>=0.8.1 in /home/angelie/Documents/University/Thesis/1_THESIS/thesis_repo/thesis-bias-in-nlp/thesis_env/lib/python3.8/site-packages (from spacy) (0.8.2)\r\n",
      "Requirement already satisfied: numpy>=1.15.0 in /home/angelie/Documents/University/Thesis/1_THESIS/thesis_repo/thesis-bias-in-nlp/thesis_env/lib/python3.8/site-packages (from spacy) (1.20.1)\r\n",
      "Requirement already satisfied: packaging>=20.0 in /home/angelie/Documents/University/Thesis/1_THESIS/thesis_repo/thesis-bias-in-nlp/thesis_env/lib/python3.8/site-packages (from spacy) (20.9)\r\n",
      "Requirement already satisfied: spacy-legacy<3.1.0,>=3.0.0 in /home/angelie/Documents/University/Thesis/1_THESIS/thesis_repo/thesis-bias-in-nlp/thesis_env/lib/python3.8/site-packages (from spacy) (3.0.1)\r\n",
      "Requirement already satisfied: typer<0.4.0,>=0.3.0 in /home/angelie/Documents/University/Thesis/1_THESIS/thesis_repo/thesis-bias-in-nlp/thesis_env/lib/python3.8/site-packages (from spacy) (0.3.2)\r\n",
      "Requirement already satisfied: pathy in /home/angelie/Documents/University/Thesis/1_THESIS/thesis_repo/thesis-bias-in-nlp/thesis_env/lib/python3.8/site-packages (from spacy) (0.4.0)\r\n",
      "Requirement already satisfied: tqdm<5.0.0,>=4.38.0 in /home/angelie/Documents/University/Thesis/1_THESIS/thesis_repo/thesis-bias-in-nlp/thesis_env/lib/python3.8/site-packages (from spacy) (4.57.0)\r\n",
      "Requirement already satisfied: catalogue<2.1.0,>=2.0.1 in /home/angelie/Documents/University/Thesis/1_THESIS/thesis_repo/thesis-bias-in-nlp/thesis_env/lib/python3.8/site-packages (from spacy) (2.0.1)\r\n",
      "Requirement already satisfied: pydantic<1.8.0,>=1.7.1 in /home/angelie/Documents/University/Thesis/1_THESIS/thesis_repo/thesis-bias-in-nlp/thesis_env/lib/python3.8/site-packages (from spacy) (1.7.3)\r\n",
      "Requirement already satisfied: jinja2 in /home/angelie/Documents/University/Thesis/1_THESIS/thesis_repo/thesis-bias-in-nlp/thesis_env/lib/python3.8/site-packages (from spacy) (2.11.3)\r\n",
      "Requirement already satisfied: preshed<3.1.0,>=3.0.2 in /home/angelie/Documents/University/Thesis/1_THESIS/thesis_repo/thesis-bias-in-nlp/thesis_env/lib/python3.8/site-packages (from spacy) (3.0.5)\r\n",
      "Requirement already satisfied: requests<3.0.0,>=2.13.0 in /home/angelie/Documents/University/Thesis/1_THESIS/thesis_repo/thesis-bias-in-nlp/thesis_env/lib/python3.8/site-packages (from spacy) (2.25.1)\r\n",
      "Requirement already satisfied: cymem<2.1.0,>=2.0.2 in /home/angelie/Documents/University/Thesis/1_THESIS/thesis_repo/thesis-bias-in-nlp/thesis_env/lib/python3.8/site-packages (from spacy) (2.0.5)\r\n",
      "Requirement already satisfied: srsly<3.0.0,>=2.4.0 in /home/angelie/Documents/University/Thesis/1_THESIS/thesis_repo/thesis-bias-in-nlp/thesis_env/lib/python3.8/site-packages (from spacy) (2.4.0)\r\n",
      "Requirement already satisfied: blis<0.8.0,>=0.4.0 in /home/angelie/Documents/University/Thesis/1_THESIS/thesis_repo/thesis-bias-in-nlp/thesis_env/lib/python3.8/site-packages (from spacy) (0.7.4)\r\n",
      "Requirement already satisfied: setuptools in /home/angelie/Documents/University/Thesis/1_THESIS/thesis_repo/thesis-bias-in-nlp/thesis_env/lib/python3.8/site-packages (from spacy) (44.0.0)\r\n",
      "Requirement already satisfied: pyparsing>=2.0.2 in /home/angelie/Documents/University/Thesis/1_THESIS/thesis_repo/thesis-bias-in-nlp/thesis_env/lib/python3.8/site-packages (from packaging>=20.0->spacy) (2.4.7)\r\n",
      "Requirement already satisfied: click<7.2.0,>=7.1.1 in /home/angelie/Documents/University/Thesis/1_THESIS/thesis_repo/thesis-bias-in-nlp/thesis_env/lib/python3.8/site-packages (from typer<0.4.0,>=0.3.0->spacy) (7.1.2)\r\n",
      "Requirement already satisfied: smart-open<4.0.0,>=2.2.0 in /home/angelie/Documents/University/Thesis/1_THESIS/thesis_repo/thesis-bias-in-nlp/thesis_env/lib/python3.8/site-packages (from pathy->spacy) (3.0.0)\r\n",
      "Requirement already satisfied: MarkupSafe>=0.23 in /home/angelie/Documents/University/Thesis/1_THESIS/thesis_repo/thesis-bias-in-nlp/thesis_env/lib/python3.8/site-packages (from jinja2->spacy) (1.1.1)\r\n",
      "Requirement already satisfied: urllib3<1.27,>=1.21.1 in /home/angelie/Documents/University/Thesis/1_THESIS/thesis_repo/thesis-bias-in-nlp/thesis_env/lib/python3.8/site-packages (from requests<3.0.0,>=2.13.0->spacy) (1.26.3)\r\n",
      "Requirement already satisfied: idna<3,>=2.5 in /home/angelie/Documents/University/Thesis/1_THESIS/thesis_repo/thesis-bias-in-nlp/thesis_env/lib/python3.8/site-packages (from requests<3.0.0,>=2.13.0->spacy) (2.10)\r\n",
      "Requirement already satisfied: chardet<5,>=3.0.2 in /home/angelie/Documents/University/Thesis/1_THESIS/thesis_repo/thesis-bias-in-nlp/thesis_env/lib/python3.8/site-packages (from requests<3.0.0,>=2.13.0->spacy) (4.0.0)\r\n",
      "Requirement already satisfied: certifi>=2017.4.17 in /home/angelie/Documents/University/Thesis/1_THESIS/thesis_repo/thesis-bias-in-nlp/thesis_env/lib/python3.8/site-packages (from requests<3.0.0,>=2.13.0->spacy) (2020.12.5)\r\n",
      "Requirement already satisfied: de-core-news-sm==3.0.0 from https://github.com/explosion/spacy-models/releases/download/de_core_news_sm-3.0.0/de_core_news_sm-3.0.0-py3-none-any.whl#egg=de_core_news_sm==3.0.0 in /home/angelie/Documents/University/Thesis/1_THESIS/thesis_repo/thesis-bias-in-nlp/thesis_env/lib/python3.8/site-packages (3.0.0)\r\n",
      "Requirement already satisfied: spacy<3.1.0,>=3.0.0 in /home/angelie/Documents/University/Thesis/1_THESIS/thesis_repo/thesis-bias-in-nlp/thesis_env/lib/python3.8/site-packages (from de-core-news-sm==3.0.0) (3.0.3)\r\n",
      "Requirement already satisfied: murmurhash<1.1.0,>=0.28.0 in /home/angelie/Documents/University/Thesis/1_THESIS/thesis_repo/thesis-bias-in-nlp/thesis_env/lib/python3.8/site-packages (from spacy<3.1.0,>=3.0.0->de-core-news-sm==3.0.0) (1.0.5)\r\n",
      "Requirement already satisfied: srsly<3.0.0,>=2.4.0 in /home/angelie/Documents/University/Thesis/1_THESIS/thesis_repo/thesis-bias-in-nlp/thesis_env/lib/python3.8/site-packages (from spacy<3.1.0,>=3.0.0->de-core-news-sm==3.0.0) (2.4.0)\r\n",
      "Requirement already satisfied: packaging>=20.0 in /home/angelie/Documents/University/Thesis/1_THESIS/thesis_repo/thesis-bias-in-nlp/thesis_env/lib/python3.8/site-packages (from spacy<3.1.0,>=3.0.0->de-core-news-sm==3.0.0) (20.9)\r\n",
      "Requirement already satisfied: pydantic<1.8.0,>=1.7.1 in /home/angelie/Documents/University/Thesis/1_THESIS/thesis_repo/thesis-bias-in-nlp/thesis_env/lib/python3.8/site-packages (from spacy<3.1.0,>=3.0.0->de-core-news-sm==3.0.0) (1.7.3)\r\n",
      "Requirement already satisfied: pathy in /home/angelie/Documents/University/Thesis/1_THESIS/thesis_repo/thesis-bias-in-nlp/thesis_env/lib/python3.8/site-packages (from spacy<3.1.0,>=3.0.0->de-core-news-sm==3.0.0) (0.4.0)\r\n",
      "Requirement already satisfied: preshed<3.1.0,>=3.0.2 in /home/angelie/Documents/University/Thesis/1_THESIS/thesis_repo/thesis-bias-in-nlp/thesis_env/lib/python3.8/site-packages (from spacy<3.1.0,>=3.0.0->de-core-news-sm==3.0.0) (3.0.5)\r\n",
      "Requirement already satisfied: requests<3.0.0,>=2.13.0 in /home/angelie/Documents/University/Thesis/1_THESIS/thesis_repo/thesis-bias-in-nlp/thesis_env/lib/python3.8/site-packages (from spacy<3.1.0,>=3.0.0->de-core-news-sm==3.0.0) (2.25.1)\r\n",
      "Requirement already satisfied: numpy>=1.15.0 in /home/angelie/Documents/University/Thesis/1_THESIS/thesis_repo/thesis-bias-in-nlp/thesis_env/lib/python3.8/site-packages (from spacy<3.1.0,>=3.0.0->de-core-news-sm==3.0.0) (1.20.1)\r\n",
      "Requirement already satisfied: jinja2 in /home/angelie/Documents/University/Thesis/1_THESIS/thesis_repo/thesis-bias-in-nlp/thesis_env/lib/python3.8/site-packages (from spacy<3.1.0,>=3.0.0->de-core-news-sm==3.0.0) (2.11.3)\r\n",
      "Requirement already satisfied: spacy-legacy<3.1.0,>=3.0.0 in /home/angelie/Documents/University/Thesis/1_THESIS/thesis_repo/thesis-bias-in-nlp/thesis_env/lib/python3.8/site-packages (from spacy<3.1.0,>=3.0.0->de-core-news-sm==3.0.0) (3.0.1)\r\n",
      "Requirement already satisfied: wasabi<1.1.0,>=0.8.1 in /home/angelie/Documents/University/Thesis/1_THESIS/thesis_repo/thesis-bias-in-nlp/thesis_env/lib/python3.8/site-packages (from spacy<3.1.0,>=3.0.0->de-core-news-sm==3.0.0) (0.8.2)\r\n",
      "Requirement already satisfied: setuptools in /home/angelie/Documents/University/Thesis/1_THESIS/thesis_repo/thesis-bias-in-nlp/thesis_env/lib/python3.8/site-packages (from spacy<3.1.0,>=3.0.0->de-core-news-sm==3.0.0) (44.0.0)\r\n",
      "Requirement already satisfied: catalogue<2.1.0,>=2.0.1 in /home/angelie/Documents/University/Thesis/1_THESIS/thesis_repo/thesis-bias-in-nlp/thesis_env/lib/python3.8/site-packages (from spacy<3.1.0,>=3.0.0->de-core-news-sm==3.0.0) (2.0.1)\r\n",
      "Requirement already satisfied: thinc<8.1.0,>=8.0.0 in /home/angelie/Documents/University/Thesis/1_THESIS/thesis_repo/thesis-bias-in-nlp/thesis_env/lib/python3.8/site-packages (from spacy<3.1.0,>=3.0.0->de-core-news-sm==3.0.0) (8.0.1)\r\n",
      "Requirement already satisfied: blis<0.8.0,>=0.4.0 in /home/angelie/Documents/University/Thesis/1_THESIS/thesis_repo/thesis-bias-in-nlp/thesis_env/lib/python3.8/site-packages (from spacy<3.1.0,>=3.0.0->de-core-news-sm==3.0.0) (0.7.4)\r\n",
      "Requirement already satisfied: typer<0.4.0,>=0.3.0 in /home/angelie/Documents/University/Thesis/1_THESIS/thesis_repo/thesis-bias-in-nlp/thesis_env/lib/python3.8/site-packages (from spacy<3.1.0,>=3.0.0->de-core-news-sm==3.0.0) (0.3.2)\r\n",
      "Requirement already satisfied: cymem<2.1.0,>=2.0.2 in /home/angelie/Documents/University/Thesis/1_THESIS/thesis_repo/thesis-bias-in-nlp/thesis_env/lib/python3.8/site-packages (from spacy<3.1.0,>=3.0.0->de-core-news-sm==3.0.0) (2.0.5)\r\n",
      "Requirement already satisfied: tqdm<5.0.0,>=4.38.0 in /home/angelie/Documents/University/Thesis/1_THESIS/thesis_repo/thesis-bias-in-nlp/thesis_env/lib/python3.8/site-packages (from spacy<3.1.0,>=3.0.0->de-core-news-sm==3.0.0) (4.57.0)\r\n",
      "Requirement already satisfied: pyparsing>=2.0.2 in /home/angelie/Documents/University/Thesis/1_THESIS/thesis_repo/thesis-bias-in-nlp/thesis_env/lib/python3.8/site-packages (from packaging>=20.0->spacy<3.1.0,>=3.0.0->de-core-news-sm==3.0.0) (2.4.7)\r\n",
      "Requirement already satisfied: smart-open<4.0.0,>=2.2.0 in /home/angelie/Documents/University/Thesis/1_THESIS/thesis_repo/thesis-bias-in-nlp/thesis_env/lib/python3.8/site-packages (from pathy->spacy<3.1.0,>=3.0.0->de-core-news-sm==3.0.0) (3.0.0)\r\n",
      "Requirement already satisfied: urllib3<1.27,>=1.21.1 in /home/angelie/Documents/University/Thesis/1_THESIS/thesis_repo/thesis-bias-in-nlp/thesis_env/lib/python3.8/site-packages (from requests<3.0.0,>=2.13.0->spacy<3.1.0,>=3.0.0->de-core-news-sm==3.0.0) (1.26.3)\r\n",
      "Requirement already satisfied: idna<3,>=2.5 in /home/angelie/Documents/University/Thesis/1_THESIS/thesis_repo/thesis-bias-in-nlp/thesis_env/lib/python3.8/site-packages (from requests<3.0.0,>=2.13.0->spacy<3.1.0,>=3.0.0->de-core-news-sm==3.0.0) (2.10)\r\n",
      "Requirement already satisfied: certifi>=2017.4.17 in /home/angelie/Documents/University/Thesis/1_THESIS/thesis_repo/thesis-bias-in-nlp/thesis_env/lib/python3.8/site-packages (from requests<3.0.0,>=2.13.0->spacy<3.1.0,>=3.0.0->de-core-news-sm==3.0.0) (2020.12.5)\r\n",
      "Requirement already satisfied: chardet<5,>=3.0.2 in /home/angelie/Documents/University/Thesis/1_THESIS/thesis_repo/thesis-bias-in-nlp/thesis_env/lib/python3.8/site-packages (from requests<3.0.0,>=2.13.0->spacy<3.1.0,>=3.0.0->de-core-news-sm==3.0.0) (4.0.0)\r\n",
      "Requirement already satisfied: MarkupSafe>=0.23 in /home/angelie/Documents/University/Thesis/1_THESIS/thesis_repo/thesis-bias-in-nlp/thesis_env/lib/python3.8/site-packages (from jinja2->spacy<3.1.0,>=3.0.0->de-core-news-sm==3.0.0) (1.1.1)\r\n",
      "Requirement already satisfied: click<7.2.0,>=7.1.1 in /home/angelie/Documents/University/Thesis/1_THESIS/thesis_repo/thesis-bias-in-nlp/thesis_env/lib/python3.8/site-packages (from typer<0.4.0,>=0.3.0->spacy<3.1.0,>=3.0.0->de-core-news-sm==3.0.0) (7.1.2)\r\n",
      "\u001B[38;5;2m✔ Download and installation successful\u001B[0m\r\n",
      "You can now load the package via spacy.load('de_core_news_sm')\r\n"
     ]
    },
    {
     "name": "stderr",
     "output_type": "stream",
     "text": [
      "[nltk_data] Downloading package punkt to /home/angelie/nltk_data...\n",
      "[nltk_data]   Package punkt is already up-to-date!\n"
     ]
    },
    {
     "ename": "ImportError",
     "evalue": "cannot import name 'lemmatize' from 'src.utils' (/home/angelie/Documents/University/Thesis/1_THESIS/thesis_repo/thesis-bias-in-nlp/src/utils.py)",
     "output_type": "error",
     "traceback": [
      "\u001B[0;31m---------------------------------------------------------------------------\u001B[0m",
      "\u001B[0;31mImportError\u001B[0m                               Traceback (most recent call last)",
      "\u001B[0;32m<ipython-input-186-c054e8a0890f>\u001B[0m in \u001B[0;36m<module>\u001B[0;34m\u001B[0m\n\u001B[1;32m      9\u001B[0m \u001B[0;32mimport\u001B[0m \u001B[0mnltk\u001B[0m\u001B[0;34m\u001B[0m\u001B[0;34m\u001B[0m\u001B[0m\n\u001B[1;32m     10\u001B[0m \u001B[0mnltk\u001B[0m\u001B[0;34m.\u001B[0m\u001B[0mdownload\u001B[0m\u001B[0;34m(\u001B[0m\u001B[0;34m'punkt'\u001B[0m\u001B[0;34m)\u001B[0m\u001B[0;34m\u001B[0m\u001B[0;34m\u001B[0m\u001B[0m\n\u001B[0;32m---> 11\u001B[0;31m \u001B[0;32mfrom\u001B[0m \u001B[0msrc\u001B[0m\u001B[0;34m.\u001B[0m\u001B[0mutils\u001B[0m \u001B[0;32mimport\u001B[0m \u001B[0mlemmatize\u001B[0m\u001B[0;34m\u001B[0m\u001B[0;34m\u001B[0m\u001B[0m\n\u001B[0m",
      "\u001B[0;31mImportError\u001B[0m: cannot import name 'lemmatize' from 'src.utils' (/home/angelie/Documents/University/Thesis/1_THESIS/thesis_repo/thesis-bias-in-nlp/src/utils.py)"
     ]
    }
   ],
   "source": [
    "!python3 -m pip install spacy\n",
    "!python3 -m spacy download de_core_news_sm\n",
    "# Non-Stopwords Barchart\n",
    "import spacy\n",
    "import numpy as np\n",
    "import matplotlib.pyplot as plt\n",
    "from nltk.corpus import stopwords\n",
    "from collections import  Counter\n",
    "import nltk\n",
    "nltk.download('punkt')\n",
    "from HanTa import HanoverTagger as ht"
   ],
   "metadata": {
    "collapsed": false,
    "pycharm": {
     "name": "#%%\n"
    }
   }
  },
  {
   "cell_type": "code",
   "execution_count": null,
   "outputs": [],
   "source": [
    "def lemmatize(tokenized_wordlist):\n",
    "    lemmatizer = ht.HanoverTagger(\"morphmodel_ger.pgz\")\n",
    "    lemmata = lemmatizer.tag_sent(\n",
    "        tokenized_wordlist, taglevel=1\n",
    "    )  # returns 3-tuple (word, lemma, POS-tag)\n",
    "    lemmata_only = [entry[1] for entry in lemmata]\n",
    "    return lemmata_only"
   ],
   "metadata": {
    "collapsed": false,
    "pycharm": {
     "name": "#%%\n"
    }
   }
  },
  {
   "cell_type": "code",
   "execution_count": null,
   "outputs": [],
   "source": [
    "translations = {\"Kind\": \"child\", \"Mensch\": \"human\", \"schlecht\": \"bad\", \"anderer\": \"other\",\n",
    "                \"Mitmensch\": \"fellow human being\", \"alt\": \"old\", \"Leute\": \"people\", \"Meinung\":\n",
    "                    \"opinion\", \"denken\": \"think\", \"lassen\": \"let\", \"sehen\": \"see\", \"gehen\": \"go\",\n",
    "                \"verkaufen\": \"sell\", \"Droge\": \"drug\", \"Nachbar\": \"neighbor\", \"sehen\": \"see\",\n",
    "                \"arbeiten\": \"work\", \"lachen\": \"laugh\", \"machen\": \"do\", \"Lehrerin\": \"teacher\",\n",
    "                \"Leben\": \"life\", \"spielen\": \"play\", \"Schule\": \"school\", \"kommen\": \"come\", \"Jahr\":\n",
    "                    \"year\", \"groß\": \"big\", \"Job\": \"job\", \"helfen\": \"help\", \"haben\": \"have\",\n",
    "                \"neu\": \"new\", \"gewinnen\": \"win\", \"freuen\": \"rejoice\", \"Person\": \"person\",\n",
    "                \"bringen\": \"bring\", \"gut\": \"good\", \"Geld\": \"money\", \"Prostituierte\": \"prostitute\",\n",
    "               \"Restaurant\": \"restaurant\", \"Kollege\": \"colleague\", \"Land\": \"land\", \"eigen\":\n",
    "                    \"own\", \"Schlange\": \"snake\", \"Bank\": \"bank\", \"Kamera\": \"camera\", \"Brille\": \"glasses\",\n",
    "                \"Arbeit\": \"work\", \"klein\": \"small\", \"Firma\": \"company\", \"Unternehmen\":\n",
    "                    \"business\", \"Gebiet\": \"area\", \"Erfolg\": \"success\", \"Welt\": \"world\",\n",
    "                \"Vortrag\": \"presentation\", \"erster\": \"first\", \"ganz\": \"whole\", \"Lachen\":\n",
    "                    \"laughter\", \"erfolgreich\": \"successful\", \"wichtig\": \"important\"}\n",
    "\n",
    "removelist = [\"Mensch\", \"Freund\", \"Frau\", \"Mann\", \"Kind\", \"Mitmensch\", \"Leute\", \"Person\"]"
   ],
   "metadata": {
    "collapsed": false,
    "pycharm": {
     "name": "#%%\n"
    }
   }
  },
  {
   "cell_type": "code",
   "execution_count": null,
   "outputs": [],
   "source": [
    "def plot_top_freq_words(texts, top_k_to_plot=None, describe_only=False, ax=None):\n",
    "    nlp = spacy.load(\"de_core_news_sm\")\n",
    "    texts['Text_parsed'] = texts.apply(nlp)\n",
    "    interesting_words = [token.text for text in texts['Text_parsed'] for token in text if any(token\n",
    "        .pos_ == c for c in [\"NOUN\", \"ADJ\"])]\n",
    "\n",
    "    interesting_words = lemmatize(interesting_words)\n",
    "    interesting_words = [word for word in interesting_words if word not in removelist]\n",
    "    add_translation = lambda word: word + \"\\n/ \" + translations[word]\n",
    "    counter = Counter(interesting_words)\n",
    "    most = counter.most_common()\n",
    "    x, y = [], []\n",
    "    slice = most if top_k_to_plot is None else most[:top_k_to_plot]\n",
    "    for word, count in slice:\n",
    "        #if word not in stop:\n",
    "        x.append(add_translation(word))\n",
    "        #x.append(word)\n",
    "        y.append(round(count/len(counter)*100, 1))\n",
    "    if not describe_only:\n",
    "        sns.barplot(x=y,y=x, palette=\"Spectral\", ax=ax)\n",
    "        plt.setp(ax.get_xticklabels(), fontsize=14)\n",
    "        plt.setp(ax.get_yticklabels(), fontsize=14)\n",
    "        ax.xaxis.set_ticks(np.arange(0, 4, 1))"
   ],
   "metadata": {
    "collapsed": false,
    "pycharm": {
     "name": "#%%\n"
    }
   }
  },
  {
   "cell_type": "code",
   "execution_count": null,
   "outputs": [],
   "source": [
    "fig, (ax1, ax2, ax3) = plt.subplots(1, 3, sharex=True)\n",
    "#fig, ((ax1, ax2), (ax3, ax4)) = plt.subplots(2, 2, sharex=True)\n",
    "fig.set_size_inches(14, 9.5)\n",
    "fig.suptitle(\"Relative frequencies of the top-15 nouns and adjectives [%]\", fontsize=20)\n",
    "\n",
    "x_neg = plot_top_freq_words(no_BOS_all.loc[no_BOS_all[0]==-1, 1], top_k_to_plot=15, ax=ax1)\n",
    "ax1.set_xlabel(\"negative\", fontsize=15)\n",
    "x_neu = plot_top_freq_words(no_BOS_all.loc[no_BOS_all[0]==0, 1], top_k_to_plot=15, ax=ax2)\n",
    "ax2.set_xlabel(\"neutral\", fontsize=15)\n",
    "x_pos = plot_top_freq_words(no_BOS_all.loc[no_BOS_all[0]==1, 1], top_k_to_plot=15, ax=ax3)\n",
    "ax3.set_xlabel(\"positive\", fontsize=15)"
   ],
   "metadata": {
    "collapsed": false,
    "pycharm": {
     "name": "#%%\n"
    }
   }
  },
  {
   "cell_type": "code",
   "execution_count": null,
   "outputs": [],
   "source": [
    "fig.tight_layout()\n",
    "plt.show()\n",
    "out_path = \"../plots\"\n",
    "os.makedirs(out_path, exist_ok=True)\n",
    "#fig.savefig(os.path.join(out_path, \"most_freq_words_cond.png\"))"
   ],
   "metadata": {
    "collapsed": false,
    "pycharm": {
     "name": "#%%\n"
    }
   }
  },
  {
   "cell_type": "code",
   "execution_count": null,
   "outputs": [],
   "source": [
    "stop=set(stopwords.words('german'))\n",
    "print(\"Word counts\")\n",
    "results = Counter()\n",
    "\n",
    "\n",
    "for words in no_BOS_all[1].str.lower().str.split():\n",
    "    non_stop = [w for w in words if w not in stop]\n",
    "    results.update(non_stop)\n",
    "\n",
    "print(results)\n",
    "print(results.items())\n",
    "\n",
    "print(\"\\nNumber of unique words\")\n",
    "print(len(results))"
   ],
   "metadata": {
    "collapsed": false,
    "pycharm": {
     "name": "#%%\n"
    }
   }
  },
  {
   "cell_type": "code",
   "execution_count": null,
   "outputs": [],
   "source": [
    "# Word cloud\n",
    "!python3 -m pip install wordcloud"
   ],
   "metadata": {
    "collapsed": false,
    "pycharm": {
     "name": "#%%\n"
    }
   }
  },
  {
   "cell_type": "code",
   "execution_count": null,
   "outputs": [],
   "source": [
    "from wordcloud import WordCloud\n",
    "import seaborn as sns\n",
    "def generate_word_cloud(counter, format='png', dpi=1200, path=None):\n",
    "    stop=set(stopwords.words('german'))\n",
    "\n",
    "    d = {}\n",
    "    for a, x in counter.items():\n",
    "        if a not in stop:\n",
    "            d[a] = x\n",
    "\n",
    "    wordcloud = WordCloud(background_color=\"white\", colormap='Dark2')\n",
    "    wordcloud.generate_from_frequencies(frequencies=d)\n",
    "    plt.figure()\n",
    "    plt.imshow(wordcloud, interpolation=\"bilinear\")\n",
    "    plt.axis(\"off\")\n",
    "\n",
    "    if path is not None:\n",
    "        plt.savefig(path, format=format, dpi=dpi)\n",
    "    plt.show()"
   ],
   "metadata": {
    "collapsed": false,
    "pycharm": {
     "name": "#%%\n"
    }
   }
  },
  {
   "cell_type": "code",
   "execution_count": null,
   "outputs": [],
   "source": [
    "\n",
    "results_neg = Counter()\n",
    "no_BOS_all.loc[no_BOS_all[0]==-1, 1].str.lower().str.split().apply(lemmatize).apply(results_neg\n",
    "                                                                                     .update)\n",
    "generate_word_cloud(results_neg, format='eps', dpi=1200, path=os.path.join(out_path,\n",
    "                                                   \"word_cloud_neg_sentences\"\n",
    "                                                                       \".eps\"))"
   ],
   "metadata": {
    "collapsed": false,
    "pycharm": {
     "name": "#%%\n"
    }
   }
  },
  {
   "cell_type": "code",
   "execution_count": null,
   "outputs": [],
   "source": [
    "results_neu = Counter()\n",
    "no_BOS_all.loc[no_BOS_all[0]==0, 1].str.lower().str.split().apply(lemmatize).apply(results_neu\n",
    "                                                                                   .update)\n",
    "generate_word_cloud(results_neu, path=os.path.join(out_path, \"word_cloud_neu_sentences\"\n",
    "                                                                       \".png\"))"
   ],
   "metadata": {
    "collapsed": false,
    "pycharm": {
     "name": "#%%\n"
    }
   }
  },
  {
   "cell_type": "code",
   "execution_count": null,
   "outputs": [],
   "source": [
    "results_pos = Counter()\n",
    "no_BOS_all.loc[no_BOS_all[0]==1, 1].str.lower().str.split().apply(lemmatize).apply(results_pos\n",
    "                                                                                   .update)\n",
    "generate_word_cloud(results_pos, path=os.path.join(out_path, \"word_cloud_pos_sentences\"\n",
    "                                                                       \".png\"))\n"
   ],
   "metadata": {
    "collapsed": false,
    "pycharm": {
     "name": "#%%\n"
    }
   }
  },
  {
   "cell_type": "code",
   "execution_count": null,
   "metadata": {},
   "outputs": [],
   "source": []
  },
  {
   "cell_type": "markdown",
   "source": [
    "## Some more checks per study condition"
   ],
   "metadata": {
    "collapsed": false,
    "pycharm": {
     "name": "#%% md\n"
    }
   }
  },
  {
   "cell_type": "code",
   "execution_count": null,
   "outputs": [],
   "source": [
    "(data[data['FA04'] == 'negative'][\"TIME_SUM\"]/60).describe()"
   ],
   "metadata": {
    "collapsed": false,
    "pycharm": {
     "name": "#%%\n"
    }
   }
  },
  {
   "cell_type": "code",
   "execution_count": null,
   "outputs": [],
   "source": [
    "(data[data['FA04'] == 'neutral'][\"TIME_SUM\"]/60).describe()"
   ],
   "metadata": {
    "collapsed": false,
    "pycharm": {
     "name": "#%%\n"
    }
   }
  },
  {
   "cell_type": "code",
   "execution_count": null,
   "outputs": [],
   "source": [
    "(data[data['FA04'] == 'positive'][\"TIME_SUM\"]/60).describe()"
   ],
   "metadata": {
    "collapsed": false,
    "pycharm": {
     "name": "#%%\n"
    }
   }
  },
  {
   "cell_type": "code",
   "execution_count": null,
   "outputs": [],
   "source": [
    "def get_cond_missing_stats(condition):\n",
    "    print(f\"{condition} sentences\")\n",
    "    sents = data.loc[data['FA04'] == condition, 'PR01_01' : 'NP10_01']\n",
    "    print(\"Count:\", len(sents))\n",
    "    print(\"Missings per participant:\", sents.isnull().sum(1))\n",
    "    print(\"Missings total:\", sents.isnull().sum().sum())\n",
    "    print()\n",
    "\n",
    "for cond in ['negative', 'neutral', 'positive']:\n",
    "    get_cond_missing_stats(cond)"
   ],
   "metadata": {
    "collapsed": false,
    "pycharm": {
     "name": "#%%\n"
    }
   }
  },
  {
   "source": [
    "# Combined data (prompt & no prompt)"
   ],
   "cell_type": "markdown",
   "metadata": {}
  },
  {
   "cell_type": "code",
   "execution_count": null,
   "metadata": {},
   "outputs": [],
   "source": [
    "combined_df = csv_ready_noprompt.append(csv_ready_prompt)\n",
    "combined_df"
   ]
  },
  {
   "cell_type": "code",
   "execution_count": null,
   "metadata": {},
   "outputs": [],
   "source": [
    "#dest = os.path.join(data_path, 'combined')\n",
    "#os.makedirs(dest, exist_ok=True)\n",
    "#combined_df.to_csv(os.path.join(dest, 'train.csv'), sep='\\t', header=False, index=False)\n",
    "#combined_df.to_csv(os.path.join(dest, 'test.csv'), sep='\\t', header=False, index=False)"
   ]
  },
  {
   "cell_type": "code",
   "execution_count": null,
   "metadata": {},
   "outputs": [],
   "source": []
  },
  {
   "cell_type": "code",
   "execution_count": null,
   "metadata": {},
   "outputs": [],
   "source": []
  }
 ]
}