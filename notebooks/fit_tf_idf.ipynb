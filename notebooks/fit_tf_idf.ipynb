{
 "cells": [
  {
   "cell_type": "markdown",
   "source": [
    "# Fitting TF-IDF on the subset of a German Wikipedia dump\n",
    "Download data from https://github.com/t-systems-on-site-services-gmbh/german-wikipedia-text-corpus"
   ],
   "metadata": {
    "collapsed": false,
    "pycharm": {
     "name": "#%% md\n"
    }
   }
  },
  {
   "cell_type": "code",
   "execution_count": null,
   "outputs": [],
   "source": [
    "import os\n",
    "import numpy as np\n",
    "import string, nltk\n",
    "from sklearn.feature_extraction.text import TfidfVectorizer\n",
    "from collections import defaultdict"
   ],
   "metadata": {
    "collapsed": false,
    "pycharm": {
     "name": "#%%\n"
    }
   }
  },
  {
   "cell_type": "code",
   "execution_count": 1,
   "metadata": {
    "collapsed": true
   },
   "outputs": [
    {
     "name": "stdout",
     "output_type": "stream",
     "text": [
      "17685867\n"
     ]
    }
   ],
   "source": [
    "folder = \"\" # specify location of dump\n",
    "wiki_dump_path = os.path.join(folder, \"wiki-all-shuf/wiki-all-shuf.txt\")\n",
    "wiki_file = open(wiki_dump_path, 'r')\n",
    "lines = wiki_file.readlines()\n",
    "print(len(lines))"
   ]
  },
  {
   "cell_type": "code",
   "execution_count": 2,
   "outputs": [],
   "source": [
    "def remove_punctuation(text):\n",
    "    regular_punct = list(string.punctuation)\n",
    "    for punc in regular_punct:\n",
    "        if punc in text:\n",
    "            text = text.replace(punc, \" \")\n",
    "    return text.strip()\n",
    "\n",
    "texts = lines[:3000000] # specify size of subset\n",
    "texts = [remove_punctuation(text) for text in texts]"
   ],
   "metadata": {
    "collapsed": false,
    "pycharm": {
     "name": "#%%\n"
    }
   }
  },
  {
   "cell_type": "code",
   "execution_count": 4,
   "outputs": [
    {
     "name": "stderr",
     "output_type": "stream",
     "text": [
      "/home/angelie/Documents/University/Thesis/1_THESIS/thesis_repo/thesis-bias-in-nlp/thesis_env/lib/python3.8/site-packages/sklearn/feature_extraction/text.py:489: UserWarning: The parameter 'token_pattern' will not be used since 'tokenizer' is not None'\n",
      "  warnings.warn(\"The parameter 'token_pattern' will not be used\"\n"
     ]
    },
    {
     "name": "stdout",
     "output_type": "stream",
     "text": [
      "TFIDF features 2000\n"
     ]
    }
   ],
   "source": [
    "tokenize = lambda text: nltk.tokenize.word_tokenize(text, language=\"german\")\n",
    "tfidf = TfidfVectorizer(analyzer='word', max_features=2000, tokenizer=tokenize,\n",
    "                        lowercase=True)\n",
    "tfidf.fit(texts)\n",
    "max_idf = max(tfidf.idf_)\n",
    "def dd():\n",
    "    return defaultdict(max_idf)\n",
    "word2weight = defaultdict(dd, [(w, tfidf.idf_[i]) for w, i in tfidf.vocabulary_.items()])\n",
    "print(f\"TFIDF features {len(tfidf.idf_)}\")"
   ],
   "metadata": {
    "collapsed": false,
    "pycharm": {
     "name": "#%%\n"
    }
   }
  },
  {
   "cell_type": "code",
   "execution_count": 10,
   "outputs": [],
   "source": [
    "dest_path = \"\"\n",
    "np.save(dest_path, dict(word2weight), allow_pickle=True)"
   ],
   "metadata": {
    "collapsed": false,
    "pycharm": {
     "name": "#%%\n"
    }
   }
  },
  {
   "cell_type": "code",
   "execution_count": 6,
   "outputs": [
    {
     "data": {
      "text/plain": "{'der': 501,\n 'ort': 1348,\n 'entstand': 618,\n 'vermutlich': 1764,\n 'im': 981,\n 'verlauf': 1757,\n 'vor': 1794,\n 'allem': 212,\n 'wenn': 1844,\n 'man': 1188,\n 'sieht': 1530,\n 'dass': 485,\n 'die': 516,\n 'anderen': 236,\n 'links': 1167,\n 'zwar': 1954,\n 'nichts': 1298,\n 'mit': 1229,\n 'aber': 189,\n 'doch': 532,\n 'auch': 272,\n 'wieder': 1866,\n 'russland': 1455,\n 'zu': 1933,\n 'tun': 1689,\n 'haben': 894,\n 'wurde': 1900,\n 'dort': 535,\n '–': 1992,\n 'papst': 1358,\n 'johannes': 1036,\n 'paul': 1365,\n 'ii': 979,\n 'am': 226,\n '3': 155,\n 'oktober': 1339,\n '1998': 122,\n 'in': 983,\n 'den': 496,\n 'jahren': 1014,\n 'bis': 408,\n 'entschied': 613,\n 'sich': 1522,\n 'für': 770,\n 'nächsten': 1319,\n 'durch': 544,\n 'bau': 320,\n 'eines': 573,\n 'und': 1706,\n 'sowie': 1557,\n 'einer': 572,\n 'dritten': 541,\n 'heute': 932,\n 'ist': 1005,\n 'dem': 495,\n 'namen': 1278,\n 'ein': 567,\n 'teil': 1651,\n 'von': 1793,\n 'us': 1729,\n 'beendete': 326,\n 'seine': 1505,\n 'karriere': 1058,\n 'als': 220,\n '26': 151,\n 'er': 626,\n 'bei': 336,\n 'kleinen': 1081,\n 'italien': 1007,\n 'einen': 571,\n 'das': 484,\n 'auf': 273,\n 'einem': 570,\n 'ende': 600,\n '1923': 42,\n 'verließ': 1760,\n 'england': 603,\n 'richtung': 1440,\n 'dieser': 525,\n 'zeit': 1920,\n 'bestand': 371,\n 'aus': 289,\n 'hatte': 906,\n 'etwa': 676,\n 'einwohner': 588,\n 'siehe': 1529,\n 'amt': 231,\n 'meinung': 1211,\n 'vergleich': 1749,\n 'zur': 1945,\n 'viel': 1784,\n 'k': 1048,\n 'enthält': 610,\n 'konnte': 1091,\n 'gezeigt': 850,\n 'werden': 1847,\n 'es': 672,\n 'keine': 1065,\n 'gibt': 852,\n '19': 18,\n 'jahr': 1012,\n '2001': 128,\n 'russischen': 1454,\n 'hauptstadt': 908,\n 'dies': 521,\n 'ihm': 970,\n 'übertragen': 1989,\n 'würde': 1905,\n '22': 147,\n 'dezember': 514,\n '1992': 116,\n 'eine': 569,\n 'französische': 742,\n 'somit': 1551,\n 'kann': 1054,\n 'überhaupt': 1985,\n 'nicht': 1297,\n 'rede': 1419,\n 'davon': 488,\n 'sein': 1504,\n 'fast': 697,\n 'alle': 210,\n 'des': 504,\n 'seien': 1503,\n 'autor': 303,\n 'ja': 1011,\n 'text': 1658,\n 'zeigen': 1917,\n 'da': 459,\n 'weiter': 1821,\n 'oben': 1327,\n 'diskussion': 530,\n 'jemand': 1031,\n 'nach': 1269,\n 'staaten': 1585,\n 'ich': 968,\n 'hier': 936,\n 'daten': 486,\n 'sie': 1525,\n 'sind': 1531,\n 'einzelne': 590,\n 'personen': 1368,\n 'genau': 820,\n 'wie': 1865,\n 'so': 1537,\n 'geben': 780,\n 'gute': 888,\n 'ab': 188,\n 'über': 1984,\n 'diese': 522,\n 'thema': 1662,\n 'wollte': 1894,\n 'mich': 1221,\n 'englischen': 606,\n 'wiki': 1870,\n 'seite': 1512,\n 'habe': 893,\n 'dann': 471,\n 'wesentlich': 1853,\n 'gefunden': 787,\n 'anschließend': 254,\n 'wird': 1877,\n 'umgebung': 1704,\n 'bisher': 410,\n 'konnten': 1092,\n 'jedoch': 1030,\n 'verbindung': 1739,\n 'zwischen': 1960,\n 'stand': 1591,\n 'weist': 1819,\n 'beiden': 338,\n 'seiten': 1513,\n 'jeweils': 1034,\n 'zwei': 1955,\n 'film': 709,\n 'vom': 1792,\n '10': 3,\n 'märz': 1258,\n '12': 7,\n 'mai': 1184,\n '2006': 133,\n 'anton': 258,\n 'brachte': 420,\n 'formel': 731,\n '1919': 38,\n '„': 1997,\n '“': 1996,\n '1920': 39,\n 'dagegen': 463,\n 'gegen': 790,\n 'zuletzt': 1940,\n 'war': 1807,\n 'präsident': 1399,\n 'aufgrund': 281,\n 'zum': 1941,\n 'u': 1697,\n 's': 1459,\n 'open': 1343,\n 'cup': 457,\n '2000': 127,\n 'lief': 1159,\n 'besser': 370,\n 'dabei': 460,\n 'gewann': 844,\n 'finale': 712,\n 'mehr': 1203,\n '2': 124,\n '1': 2,\n 'erste': 659,\n 'erfolg': 629,\n 'außerdem': 306,\n 'sollte': 1549,\n 'vielleicht': 1787,\n 'noch': 1304,\n '1957': 77,\n 'präsidenten': 1400,\n '1999': 123,\n 'gründung': 886,\n 'ersten': 660,\n 'of': 1332,\n 'erfolgte': 633,\n '1985': 108,\n '1986': 109,\n 'schule': 1486,\n 'offiziell': 1334,\n 'school': 1481,\n 'umbenannt': 1700,\n '55': 175,\n '44': 170,\n 'minuten': 1226,\n 'politisch': 1378,\n 'schloss': 1478,\n 'bewegung': 391,\n 'um': 1699,\n 'späteren': 1581,\n 'an': 232,\n 'mitglied': 1232,\n 'diesem': 523,\n 'gegründeten': 796,\n 'partei': 1363,\n 'viele': 1785,\n 'unter': 1716,\n 'anderem': 235,\n 'tochter': 1670,\n 'gott': 863,\n 'musik': 1250,\n 'natur': 1284,\n 'oder': 1331,\n 'bekam': 343,\n 'versucht': 1772,\n 'ihr': 973,\n 'verhältnis': 1752,\n 'öffentlich': 1976,\n 'machen': 1181,\n 'werde': 1846,\n 'darüber': 483,\n 'hinaus': 940,\n 'hat': 905,\n 'verschiedene': 1765,\n 'alexander': 207,\n 'ins': 991,\n 'englische': 605,\n 'seit': 1510,\n 'stark': 1595,\n 'stehen': 1604,\n 'nördlichen': 1323,\n 'gebiete': 782,\n 'is': 1003,\n 'a': 187,\n 'new': 1296,\n 'it': 1006,\n 'the': 1660,\n 'to': 1669,\n 'and': 233,\n 'was': 1810,\n 'also': 221,\n 'fall': 689,\n 'zugleich': 1939,\n 'november': 1312,\n '2011': 138,\n 'neben': 1286,\n 'rechten': 1416,\n 'kommen': 1087,\n 'rechte': 1415,\n 'frage': 736,\n 'laut': 1130,\n 'weiterer': 1824,\n 'john': 1037,\n 'd': 458,\n 'geschaffen': 834,\n 'zusammenhang': 1949,\n 'kein': 1064,\n 'züge': 1964,\n 'menschen': 1217,\n 'seinen': 1507,\n 'leben': 1133,\n 'sonst': 1555,\n 'wurden': 1901,\n 'obwohl': 1330,\n 'august': 288,\n '27': 152,\n 'waren': 1808,\n 'spd': 1563,\n 'nur': 1316,\n '24': 149,\n 'erhielt': 638,\n '25': 150,\n 'stimmen': 1616,\n '1975': 97,\n 'institut': 996,\n 'entwicklung': 625,\n 'neuer': 1293,\n 'legte': 1139,\n 'deutschland': 512,\n 'gilt': 853,\n 'steht': 1605,\n 'b': 309,\n 'genutzt': 823,\n 'mehreren': 1205,\n 'diesen': 524,\n 'burg': 435,\n '17': 13,\n 'juni': 1045,\n '1988': 111,\n 'schweizer': 1493,\n 'ca': 441,\n 'v': 1732,\n 'chr': 448,\n 'starken': 1596,\n 'bekannt': 344,\n 'gegensatz': 791,\n 'bildet': 404,\n 'beim': 339,\n 'überwiegend': 1990,\n 'definition': 493,\n 'enthalten': 609,\n 'weiteren': 1823,\n '1962': 83,\n 'alte': 223,\n 'inzwischen': 1002,\n 'möglich': 1260,\n '1969': 90,\n 'kam': 1050,\n '1974': 96,\n '1981': 104,\n 'turm': 1690,\n '1995': 119,\n 'folgte': 727,\n 'firma': 716,\n '1940': 59,\n 'britische': 426,\n 'großer': 873,\n 'blieb': 415,\n 'zunächst': 1944,\n 'späten': 1578,\n 'mittleren': 1239,\n 'grenze': 867,\n 'übernommen': 1987,\n 'soll': 1547,\n 'en': 599,\n 'neue': 1291,\n 'größte': 882,\n 'ungarn': 1707,\n 'pro': 1388,\n 'tag': 1642,\n '6': 176,\n 'millionen': 1224,\n '21': 146,\n '1959': 79,\n 'deutscher': 511,\n 'sollten': 1550,\n 'sommer': 1552,\n '2009': 136,\n 'einführung': 576,\n 'wirkung': 1880,\n 'stelle': 1607,\n 'ersetzt': 657,\n 'während': 1903,\n 'neu': 1290,\n 'nun': 1315,\n 'bezirk': 398,\n 'geht': 799,\n 'leistung': 1145,\n 'sondern': 1553,\n 'arbeit': 262,\n 'name': 1277,\n 'folgender': 725,\n 'robert': 1442,\n '1907': 26,\n '†': 1998,\n '9': 185,\n 'februar': 699,\n 'paris': 1360,\n 'saison': 1465,\n 'seinem': 1506,\n 'österreichischen': 1981,\n '2012': 139,\n '13': 8,\n '2013': 140,\n '14': 9,\n '2014': 141,\n '15': 10,\n '2016': 143,\n 'titel': 1668,\n 'erneut': 646,\n '1946': 65,\n 'gebiet': 781,\n 'ddr': 491,\n '1990': 113,\n 'einzelnen': 591,\n 'ost': 1353,\n 'gestellt': 843,\n 'gesamte': 832,\n 'eigene': 564,\n 'rund': 1451,\n 'beispielsweise': 341,\n 'weitere': 1822,\n 'hätte': 959,\n 'hinter': 942,\n 'besteht': 374,\n 'gründen': 884,\n 'erstmals': 663,\n 'co': 453,\n 'arbeiten': 263,\n 'möglicherweise': 1261,\n 'keinen': 1066,\n 'fällt': 763,\n 'großen': 872,\n 'führen': 764,\n 'damit': 468,\n 'letzte': 1153,\n 'dorf': 534,\n 'dessen': 506,\n 'ausschließlich': 299,\n 'westen': 1857,\n 'de': 492,\n 'el': 594,\n 'deutlich': 507,\n 'machte': 1183,\n '1968': 89,\n 'nahm': 1275,\n 'saint': 1464,\n 'ausstellung': 300,\n 'museum': 1249,\n 'art': 268,\n 'york': 1909,\n 'wolfgang': 1892,\n 'see': 1499,\n 'ihren': 976,\n 'sehr': 1501,\n 'entspricht': 617,\n 'no': 1303,\n 'gerne': 830,\n 'mal': 1186,\n 'ob': 1326,\n 'folgen': 722,\n 'preis': 1385,\n 'jahre': 1013,\n 'geld': 806,\n 'form': 730,\n '…': 1999,\n 'beginn': 331,\n '20': 125,\n 'jahrhunderts': 1017,\n 'später': 1579,\n 'eingeführt': 577,\n 'ebenso': 557,\n 'gesellschaft': 839,\n 'produktion': 1391,\n 'e': 552,\n 'ansonsten': 256,\n 'spricht': 1577,\n 'rahmen': 1409,\n 'absolvierte': 195,\n 'ausbildung': 290,\n 'öffentlichen': 1978,\n 'dienst': 518,\n 'jede': 1025,\n 'tal': 1645,\n 'heutigen': 934,\n 'gmbh': 861,\n 'bzw': 436,\n 'trat': 1681,\n 'bild': 401,\n 'öffentlichkeit': 1979,\n 'studium': 1622,\n '1976': 98,\n 'mitarbeiter': 1230,\n 'laufe': 1129,\n '1980': 102,\n 'leiter': 1147,\n 'andere': 234,\n 'wo': 1887,\n '1921': 40,\n 'neuen': 1292,\n 'gemeinde': 812,\n 'trägt': 1688,\n 'roten': 1448,\n 'orte': 1349,\n 'vereinigten': 1743,\n 'chor': 447,\n 'regel': 1420,\n 'mehrere': 1204,\n 'gleichzeitig': 860,\n 'gleiche': 857,\n 'ohne': 1338,\n 'ziel': 1930,\n 'hand': 901,\n 'nutzen': 1317,\n 'können': 1112,\n 'entwickelte': 624,\n 'insbesondere': 992,\n 'martin': 1197,\n 'gab': 772,\n 'kurz': 1105,\n 'darauf': 474,\n 'begann': 330,\n 'lehre': 1140,\n 'bereich': 352,\n 'wettbewerb': 1861,\n 'van': 1733,\n 'entwickelt': 623,\n 'musste': 1253,\n 'berg': 354,\n 'schreibt': 1483,\n 'kommt': 1089,\n 'ihrer': 977,\n 'kontakt': 1093,\n 'eingesetzt': 579,\n 'world': 1896,\n 'tour': 1676,\n 'deutsche': 509,\n 'berlin': 356,\n 'durchgeführt': 546,\n '1964': 85,\n 'trotz': 1684,\n 'weiterhin': 1826,\n 'ihres': 978,\n 'lebens': 1134,\n 'hälfte': 957,\n 'internationalen': 1000,\n 'funktion': 759,\n 'selbst': 1516,\n 'klar': 1076,\n 'immer': 982,\n 'gerade': 828,\n 'wäre': 1904,\n 'gar': 777,\n 'vorhanden': 1795,\n 'evangelischen': 683,\n 'theologie': 1664,\n 'geschichte': 835,\n 'halle': 895,\n 'hannover': 903,\n 'arbeitet': 264,\n 'daran': 473,\n 'komplett': 1090,\n '2017': 144,\n 'große': 871,\n 'schwarzen': 1490,\n 'angaben': 244,\n 'wiener': 1869,\n 'allerdings': 215,\n 'scheint': 1472,\n 'selben': 1515,\n 'erst': 658,\n 'sogar': 1540,\n 'gebäude': 786,\n 'italienischen': 1008,\n '1994': 118,\n 'schon': 1480,\n 'album': 206,\n 'kirchen': 1075,\n 'worden': 1895,\n 'dr': 537,\n 'land': 1121,\n '1949': 68,\n 'familienname': 694,\n 'ihre': 974,\n 'leitung': 1149,\n 'hatten': 907,\n 'tätig': 1694,\n 'verbunden': 1741,\n 'allgemeinen': 219,\n 'selten': 1517,\n 'insel': 993,\n 'betrachtet': 384,\n 'welche': 1830,\n 'länge': 1178,\n '8': 183,\n 'erhalten': 637,\n 'meisten': 1213,\n 'müssen': 1266,\n 'gehört': 801,\n 'kirche': 1074,\n 'leider': 1143,\n 'hinweis': 944,\n 'michael': 1222,\n 'finden': 714,\n 'gebracht': 785,\n '1987': 110,\n 'medien': 1200,\n 'zurück': 1946,\n 'bringen': 425,\n 'seiner': 1508,\n 'anders': 240,\n 'lassen': 1128,\n 'wer': 1845,\n 'ihn': 971,\n 'weiß': 1828,\n 'song': 1554,\n 'national': 1280,\n 'http': 956,\n 'wikipedia': 1871,\n 'literatur': 1169,\n 'bürgermeister': 439,\n 'einwohnern': 589,\n '1991': 115,\n 'dahin': 465,\n 'stadt': 1586,\n 'herrschaft': 926,\n 'karl': 1057,\n 'alles': 216,\n 'spieler': 1567,\n '1951': 71,\n 'regelmäßig': 1421,\n '1954': 74,\n 'jean': 1024,\n 'l': 1117,\n 'entdeckt': 607,\n 'tod': 1671,\n 'aufgaben': 276,\n '70': 181,\n 'lemma': 1150,\n 'aufgeführt': 277,\n '23': 148,\n 'san': 1467,\n 'mehrfach': 1206,\n 'fließt': 717,\n 'süden': 1635,\n 'nördlich': 1322,\n 'river': 1441,\n 'unterschiedliche': 1722,\n 'europa': 680,\n 'la': 1118,\n '1947': 66,\n '1952': 72,\n '1963': 84,\n 'halte': 897,\n 'nämlich': 1321,\n 'münster': 1265,\n 'eher': 563,\n '1927': 46,\n '28': 153,\n 'seines': 1509,\n 'keiner': 1067,\n 'ihnen': 972,\n 'krieg': 1100,\n 'april': 261,\n 'studierte': 1621,\n 'maria': 1193,\n 'i': 967,\n '1982': 105,\n '1938': 57,\n 'tritt': 1683,\n 'beträgt': 388,\n '5': 172,\n '4': 166,\n '000': 1,\n 'ausgezeichnet': 294,\n 'gehörten': 803,\n 'nachdem': 1270,\n 'zweiten': 1958,\n 'kamen': 1051,\n 'insgesamt': 995,\n 'vier': 1788,\n 'guten': 889,\n 'ebenfalls': 556,\n '1965': 86,\n 'mitte': 1235,\n 'hauptsächlich': 909,\n 'dienen': 517,\n '16': 12,\n '40': 167,\n 'ps': 1401,\n '1912': 31,\n '1960': 80,\n 'direktor': 529,\n 'findet': 715,\n 'bereits': 353,\n 'zuvor': 1953,\n 'lebten': 1137,\n 'gehören': 800,\n 'wohl': 1891,\n 'tagen': 1644,\n 'fiel': 708,\n 'september': 1518,\n 'al': 204,\n 'grundlage': 875,\n 'landes': 1122,\n 'rheinland': 1436,\n 'pfalz': 1370,\n 'herstellung': 928,\n 'teile': 1652,\n '1937': 56,\n 'welcher': 1831,\n 'gruppe': 877,\n '2008': 135,\n '2010': 137,\n 'dieses': 526,\n 'stück': 1627,\n 'hektar': 917,\n 'liegt': 1161,\n 'landkreis': 1123,\n '1925': 44,\n '1931': 50,\n '32': 159,\n 'united': 1710,\n 'platz': 1374,\n 'buch': 431,\n 'frauen': 746,\n 'peter': 1369,\n 'friedrich': 753,\n 'wilhelm': 1872,\n 'januar': 1019,\n 'juli': 1042,\n 'zweite': 1957,\n 'herzog': 930,\n 'schleswig': 1476,\n 'regierung': 1423,\n 'grund': 874,\n 'ludwig': 1174,\n 'verein': 1742,\n 'fand': 695,\n 'baden': 312,\n 'besonders': 369,\n 'ungefähr': 1708,\n 'traf': 1678,\n 'abschnitt': 194,\n 'h': 891,\n 'eben': 553,\n 'deutschen': 510,\n 'alfred': 208,\n '1909': 28,\n '1955': 75,\n 'fragen': 737,\n 'anschluss': 255,\n '1935': 54,\n '1936': 55,\n '1939': 58,\n 'frankreich': 740,\n 'mutter': 1255,\n 'city': 450,\n 'weltkrieges': 1835,\n 'weder': 1814,\n 'seither': 1514,\n 'straße': 1617,\n 'französischen': 743,\n 'heutige': 933,\n 'fällen': 762,\n '18': 14,\n 'osten': 1354,\n 'befindet': 329,\n 'norden': 1307,\n 'höchsten': 964,\n 'liga': 1163,\n 'fanden': 696,\n 'zeitweise': 1925,\n 'damals': 467,\n 'graf': 864,\n 'x': 1908,\n 'aufnahme': 283,\n 'walter': 1805,\n 'geworden': 848,\n 'ehemaliger': 562,\n 'weg': 1815,\n 'reicht': 1428,\n 'alten': 224,\n 'universität': 1712,\n 'geschlossen': 836,\n 'liegen': 1160,\n '1000': 5,\n '°': 1968,\n 'c': 440,\n '400': 168,\n '500': 174,\n 'olympischen': 1340,\n 'team': 1647,\n 'zusammen': 1947,\n 'hermann': 924,\n 'heraus': 920,\n 'jahrhundert': 1016,\n 'wobei': 1888,\n '1928': 47,\n 'bezeichnet': 393,\n 'heißt': 916,\n 'nacht': 1272,\n 'auftrag': 286,\n 'sollen': 1548,\n 'nieder': 1300,\n '1942': 61,\n 'carl': 442,\n 'park': 1361,\n '200': 126,\n 'n': 1268,\n 'kultur': 1103,\n '1997': 121,\n 'darum': 481,\n 'zuerst': 1935,\n 'beschrieben': 362,\n 'beispiel': 340,\n 'mannschaft': 1191,\n 'winter': 1875,\n '1956': 76,\n 'erhielten': 639,\n 'nationalen': 1282,\n '1958': 78,\n 'solche': 1544,\n 'versuch': 1771,\n 'denen': 497,\n 'auswahl': 302,\n 'meiner': 1210,\n 'paar': 1357,\n 'artikel': 270,\n 'quellen': 1406,\n 'drei': 538,\n 'bildete': 405,\n 'groß': 869,\n 'ortsteil': 1352,\n 'werke': 1849,\n 'nr': 1313,\n '30': 156,\n '1953': 73,\n 'ferner': 704,\n 'vorsitzender': 1797,\n 'le': 1131,\n 'ursprünglich': 1727,\n 'konzept': 1094,\n 'mittel': 1236,\n 'erreichen': 648,\n 'bezug': 399,\n 'organisation': 1346,\n 'unternehmen': 1719,\n 'etc': 675,\n 'ernst': 647,\n 'deutschlands': 513,\n 'nummer': 1314,\n 'folgenden': 724,\n 'zerstört': 1929,\n 'projekt': 1395,\n 'zusätzlich': 1952,\n 'historischen': 947,\n 'region': 1425,\n 'historische': 946,\n '1970er': 92,\n 'autoren': 304,\n '1972': 94,\n 'mitglieder': 1233,\n 'gattung': 778,\n 'innerhalb': 990,\n 'familie': 692,\n 'josef': 1038,\n 'bezieht': 396,\n 'falls': 690,\n 'erhoben': 640,\n 'übrigen': 1991,\n 'technik': 1649,\n 'z': 1910,\n 'danach': 469,\n 'startete': 1598,\n 'bischof': 409,\n 'wappen': 1806,\n 'dürfen': 549,\n '42': 169,\n '60': 177,\n 'millimeter': 1223,\n 'handelt': 902,\n 'denn': 499,\n 'versuchte': 1773,\n 'johann': 1035,\n 'f': 686,\n 'hohe': 951,\n 'raum': 1413,\n 'macht': 1182,\n 'rom': 1445,\n 'wissen': 1882,\n 'turnier': 1691,\n 'stattdessen': 1602,\n 'thomas': 1666,\n 'verheiratet': 1751,\n 'kinder': 1072,\n 'daher': 464,\n 'juden': 1040,\n 'stellt': 1609,\n 'schutz': 1488,\n 'werner': 1851,\n 'gehörte': 802,\n 'römischen': 1457,\n 'provinz': 1396,\n 'politischen': 1380,\n 'zeitschrift': 1923,\n 'deutsch': 508,\n 'älteste': 1974,\n 'welt': 1833,\n 'gemeinsam': 814,\n 'hans': 904,\n '2015': 142,\n 'wechselte': 1813,\n 'unterschiedlichen': 1723,\n 'deren': 502,\n 'meist': 1212,\n 'sinne': 1534,\n 'leitete': 1148,\n 'spätere': 1580,\n '1917': 36,\n 'arbeitete': 265,\n '35': 162,\n 'zweimal': 1956,\n '2003': 130,\n 'einfach': 574,\n 'entfernt': 608,\n 'weil': 1817,\n 'rand': 1410,\n 'östlichen': 1983,\n 'bietet': 400,\n 'durchaus': 545,\n 'eigenen': 565,\n 'wenig': 1840,\n 'daß': 490,\n 'erkennen': 642,\n 'sicht': 1524,\n 'bestehen': 373,\n 'weit': 1820,\n 'ehe': 558,\n 'gingen': 855,\n 'söhne': 1633,\n 'hervor': 929,\n 'zentrum': 1928,\n 'preußischen': 1387,\n 'vertreten': 1776,\n 'wegen': 1816,\n 'benannt': 350,\n 'führte': 766,\n 'rot': 1447,\n 'weißen': 1829,\n 'inneren': 989,\n 'weltkrieg': 1834,\n 'gut': 887,\n 'besitzt': 367,\n 'spielt': 1568,\n 'erster': 661,\n 'linie': 1164,\n 'gelegentlich': 808,\n 'gewählt': 849,\n 'stammen': 1589,\n 'frühjahr': 758,\n 'rolle': 1444,\n 'übernahm': 1986,\n '2002': 129,\n 'polizei': 1381,\n 'erklärte': 644,\n 'nähe': 1320,\n 'du': 543,\n 'mir': 1228,\n 'dafür': 462,\n 'markt': 1196,\n 'sowohl': 1560,\n 'schließlich': 1477,\n 'höhe': 965,\n 'verwendet': 1779,\n 'produziert': 1392,\n '’': 1994,\n 't': 1640,\n 'p': 1356,\n 'single': 1532,\n 'bundesliga': 432,\n 'spiel': 1564,\n 'einsatz': 587,\n 'einzigen': 593,\n 'benutzt': 351,\n '1971': 93,\n 'verlor': 1761,\n '11': 6,\n 'hamburg': 899,\n 'professor': 1393,\n 'hochschule': 949,\n 'berufen': 358,\n 'neues': 1294,\n 'elf': 596,\n '2005': 132,\n '2007': 134,\n 'folgten': 728,\n 'seitdem': 1511,\n 'hallo': 896,\n 'studien': 1620,\n 'henry': 918,\n 'beschreibt': 360,\n 'nutzung': 1318,\n 'reihe': 1429,\n 'lebte': 1136,\n ...}"
     },
     "execution_count": 6,
     "metadata": {},
     "output_type": "execute_result"
    }
   ],
   "source": [
    "tfidf.vocabulary_"
   ],
   "metadata": {
    "collapsed": false,
    "pycharm": {
     "name": "#%%\n"
    }
   }
  },
  {
   "cell_type": "code",
   "execution_count": 13,
   "outputs": [
    {
     "data": {
      "text/plain": "1.7413207683905632"
     },
     "execution_count": 13,
     "metadata": {},
     "output_type": "execute_result"
    }
   ],
   "source": [
    "np.save(os.path.join(dest_path, \"max_idf\"), max(tfidf.idf_), allow_pickle=True)"
   ],
   "metadata": {
    "collapsed": false,
    "pycharm": {
     "name": "#%%\n"
    }
   }
  },
  {
   "cell_type": "code",
   "execution_count": null,
   "outputs": [],
   "source": [],
   "metadata": {
    "collapsed": false,
    "pycharm": {
     "name": "#%%\n"
    }
   }
  }
 ],
 "metadata": {
  "kernelspec": {
   "name": "thesis_env",
   "language": "python",
   "display_name": "thesis_env"
  },
  "language_info": {
   "codemirror_mode": {
    "name": "ipython",
    "version": 2
   },
   "file_extension": ".py",
   "mimetype": "text/x-python",
   "name": "python",
   "nbconvert_exporter": "python",
   "pygments_lexer": "ipython2",
   "version": "2.7.6"
  }
 },
 "nbformat": 4,
 "nbformat_minor": 0
}