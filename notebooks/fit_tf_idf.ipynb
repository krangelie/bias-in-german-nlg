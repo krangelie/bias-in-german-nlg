{
 "cells": [
  {
   "cell_type": "markdown",
   "source": [
    "# Fitting TF-IDF on the subset of a German Wikipedia dump\n",
    "Download data from https://github.com/t-systems-on-site-services-gmbh/german-wikipedia-text-corpus"
   ],
   "metadata": {
    "collapsed": false,
    "pycharm": {
     "name": "#%% md\n"
    }
   }
  },
  {
   "cell_type": "code",
   "execution_count": null,
   "outputs": [],
   "source": [
    "import os\n",
    "import numpy as np\n",
    "import string, nltk\n",
    "from sklearn.feature_extraction.text import TfidfVectorizer\n",
    "from collections import defaultdict"
   ],
   "metadata": {
    "collapsed": false,
    "pycharm": {
     "name": "#%%\n"
    }
   }
  },
  {
   "cell_type": "code",
   "execution_count": 1,
   "metadata": {
    "collapsed": true
   },
   "outputs": [
    {
     "name": "stdout",
     "output_type": "stream",
     "text": [
      "17685867\n"
     ]
    }
   ],
   "source": [
    "folder = \"\" # specify location of dump\n",
    "wiki_dump_path = os.path.join(folder, \"wiki-all-shuf/wiki-all-shuf.txt\")\n",
    "wiki_file = open(wiki_dump_path, 'r')\n",
    "lines = wiki_file.readlines()\n",
    "print(len(lines))"
   ]
  },
  {
   "cell_type": "code",
   "execution_count": 2,
   "outputs": [],
   "source": [
    "def remove_punctuation(text):\n",
    "    regular_punct = list(string.punctuation)\n",
    "    for punc in regular_punct:\n",
    "        if punc in text:\n",
    "            text = text.replace(punc, \" \")\n",
    "    return text.strip()\n",
    "\n",
    "texts = lines[:3000000] # specify size of subset\n",
    "texts = [remove_punctuation(text) for text in texts]"
   ],
   "metadata": {
    "collapsed": false,
    "pycharm": {
     "name": "#%%\n"
    }
   }
  },
  {
   "cell_type": "code",
   "execution_count": 4,
   "outputs": [
    {
     "name": "stderr",
     "output_type": "stream",
     "text": [
      "/home/angelie/Documents/University/Thesis/1_THESIS/thesis_repo/thesis-bias-in-nlp/thesis_env/lib/python3.8/site-packages/sklearn/feature_extraction/text.py:489: UserWarning: The parameter 'token_pattern' will not be used since 'tokenizer' is not None'\n",
      "  warnings.warn(\"The parameter 'token_pattern' will not be used\"\n"
     ]
    },
    {
     "name": "stdout",
     "output_type": "stream",
     "text": [
      "TFIDF features 2000\n"
     ]
    }
   ],
   "source": [
    "tokenize = lambda text: nltk.tokenize.word_tokenize(text, language=\"german\")\n",
    "tfidf = TfidfVectorizer(analyzer='word', max_features=2000, tokenizer=tokenize,\n",
    "                        lowercase=True)\n",
    "tfidf.fit(texts)\n",
    "max_idf = max(tfidf.idf_)\n",
    "def dd():\n",
    "    return defaultdict(max_idf)\n",
    "word2weight = defaultdict(dd, [(w, tfidf.idf_[i]) for w, i in tfidf.vocabulary_.items()])\n",
    "print(f\"TFIDF features {len(tfidf.idf_)}\")"
   ],
   "metadata": {
    "collapsed": false,
    "pycharm": {
     "name": "#%%\n"
    }
   }
  },
  {
   "cell_type": "code",
   "execution_count": 10,
   "outputs": [],
   "source": [
    "dest_path = \"\"\n",
    "np.save(dest_path, dict(word2weight), allow_pickle=True)"
   ],
   "metadata": {
    "collapsed": false,
    "pycharm": {
     "name": "#%%\n"
    }
   }
  },
  {
   "cell_type": "code",
   "execution_count": 13,
   "outputs": [
    {
     "data": {
      "text/plain": "1.7413207683905632"
     },
     "execution_count": 13,
     "metadata": {},
     "output_type": "execute_result"
    }
   ],
   "source": [
    "np.save(os.path.join(dest_path, \"max_idf\"), max(tfidf.idf_), allow_pickle=True)"
   ],
   "metadata": {
    "collapsed": false,
    "pycharm": {
     "name": "#%%\n"
    }
   }
  },
  {
   "cell_type": "code",
   "execution_count": null,
   "outputs": [],
   "source": [],
   "metadata": {
    "collapsed": false,
    "pycharm": {
     "name": "#%%\n"
    }
   }
  }
 ],
 "metadata": {
  "kernelspec": {
   "name": "thesis_env",
   "language": "python",
   "display_name": "thesis_env"
  },
  "language_info": {
   "codemirror_mode": {
    "name": "ipython",
    "version": 2
   },
   "file_extension": ".py",
   "mimetype": "text/x-python",
   "name": "python",
   "nbconvert_exporter": "python",
   "pygments_lexer": "ipython2",
   "version": "2.7.6"
  }
 },
 "nbformat": 4,
 "nbformat_minor": 0
}