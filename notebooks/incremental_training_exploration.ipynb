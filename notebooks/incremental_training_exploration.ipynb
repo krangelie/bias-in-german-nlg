{
 "cells": [
  {
   "cell_type": "markdown",
   "source": [
    "# Aggregate metrics from training with incremental dataset sizes\n",
    "To get results:\n",
    "* Run `run.py` with configs `run_mode=classifier classifier_mode=incremental_train`\n",
    "* Hydra creates an output folder (with timestamp)\n",
    "* Subfolder `plots` contains the csv with all metrics\n",
    "* Copy-paste path into this notebook"
   ],
   "metadata": {
    "collapsed": false,
    "pycharm": {
     "name": "#%% md\n"
    }
   }
  },
  {
   "cell_type": "code",
   "execution_count": 5,
   "metadata": {
    "collapsed": true
   },
   "outputs": [
    {
     "data": {
      "text/plain": "    Unnamed: 0  id  step    metric\n0            0   0    90  0.597124\n1            1   0   181  0.744586\n2            2   0   272  0.716293\n3            3   0   363  0.716125\n4            4   0   454  0.752213\n5            5   0   545  0.755223\n6            6   0   636  0.767028\n7            7   0   727  0.766166\n8            8   0   818  0.766808\n9            9   0   909  0.778139\n10          10   1    90  0.601398\n11          11   1   181  0.753277\n12          12   1   272  0.757843\n13          13   1   363  0.751078\n14          14   1   454  0.745228\n15          15   1   545  0.765471\n16          16   1   636  0.753330\n17          17   1   727  0.763104\n18          18   1   818  0.768533\n19          19   1   909  0.765524\n20          20   2    90  0.597829\n21          21   2   181  0.746124\n22          22   2   272  0.730465\n23          23   2   363  0.736095\n24          24   2   454  0.735673\n25          25   2   545  0.740019\n26          26   2   636  0.770511\n27          27   2   727  0.760483\n28          28   2   818  0.768533\n29          29   2   909  0.768753\n30          30   3    90  0.583982\n31          31   3   181  0.716378\n32          32   3   272  0.713705\n33          33   3   363  0.722669\n34          34   3   454  0.727878\n35          35   3   545  0.728740\n36          36   3   636  0.762021\n37          37   3   727  0.752856\n38          38   3   818  0.779002\n39          39   3   909  0.773573\n40          40   4    90  0.619831\n41          41   4   181  0.734844\n42          42   4   272  0.727015\n43          43   4   363  0.733948\n44          44   4   454  0.767838\n45          45   4   545  0.758064\n46          46   4   636  0.772658\n47          47   4   727  0.751130\n48          48   4   818  0.769395\n49          49   4   909  0.767670",
      "text/html": "<div>\n<style scoped>\n    .dataframe tbody tr th:only-of-type {\n        vertical-align: middle;\n    }\n\n    .dataframe tbody tr th {\n        vertical-align: top;\n    }\n\n    .dataframe thead th {\n        text-align: right;\n    }\n</style>\n<table border=\"1\" class=\"dataframe\">\n  <thead>\n    <tr style=\"text-align: right;\">\n      <th></th>\n      <th>Unnamed: 0</th>\n      <th>id</th>\n      <th>step</th>\n      <th>metric</th>\n    </tr>\n  </thead>\n  <tbody>\n    <tr>\n      <th>0</th>\n      <td>0</td>\n      <td>0</td>\n      <td>90</td>\n      <td>0.597124</td>\n    </tr>\n    <tr>\n      <th>1</th>\n      <td>1</td>\n      <td>0</td>\n      <td>181</td>\n      <td>0.744586</td>\n    </tr>\n    <tr>\n      <th>2</th>\n      <td>2</td>\n      <td>0</td>\n      <td>272</td>\n      <td>0.716293</td>\n    </tr>\n    <tr>\n      <th>3</th>\n      <td>3</td>\n      <td>0</td>\n      <td>363</td>\n      <td>0.716125</td>\n    </tr>\n    <tr>\n      <th>4</th>\n      <td>4</td>\n      <td>0</td>\n      <td>454</td>\n      <td>0.752213</td>\n    </tr>\n    <tr>\n      <th>5</th>\n      <td>5</td>\n      <td>0</td>\n      <td>545</td>\n      <td>0.755223</td>\n    </tr>\n    <tr>\n      <th>6</th>\n      <td>6</td>\n      <td>0</td>\n      <td>636</td>\n      <td>0.767028</td>\n    </tr>\n    <tr>\n      <th>7</th>\n      <td>7</td>\n      <td>0</td>\n      <td>727</td>\n      <td>0.766166</td>\n    </tr>\n    <tr>\n      <th>8</th>\n      <td>8</td>\n      <td>0</td>\n      <td>818</td>\n      <td>0.766808</td>\n    </tr>\n    <tr>\n      <th>9</th>\n      <td>9</td>\n      <td>0</td>\n      <td>909</td>\n      <td>0.778139</td>\n    </tr>\n    <tr>\n      <th>10</th>\n      <td>10</td>\n      <td>1</td>\n      <td>90</td>\n      <td>0.601398</td>\n    </tr>\n    <tr>\n      <th>11</th>\n      <td>11</td>\n      <td>1</td>\n      <td>181</td>\n      <td>0.753277</td>\n    </tr>\n    <tr>\n      <th>12</th>\n      <td>12</td>\n      <td>1</td>\n      <td>272</td>\n      <td>0.757843</td>\n    </tr>\n    <tr>\n      <th>13</th>\n      <td>13</td>\n      <td>1</td>\n      <td>363</td>\n      <td>0.751078</td>\n    </tr>\n    <tr>\n      <th>14</th>\n      <td>14</td>\n      <td>1</td>\n      <td>454</td>\n      <td>0.745228</td>\n    </tr>\n    <tr>\n      <th>15</th>\n      <td>15</td>\n      <td>1</td>\n      <td>545</td>\n      <td>0.765471</td>\n    </tr>\n    <tr>\n      <th>16</th>\n      <td>16</td>\n      <td>1</td>\n      <td>636</td>\n      <td>0.753330</td>\n    </tr>\n    <tr>\n      <th>17</th>\n      <td>17</td>\n      <td>1</td>\n      <td>727</td>\n      <td>0.763104</td>\n    </tr>\n    <tr>\n      <th>18</th>\n      <td>18</td>\n      <td>1</td>\n      <td>818</td>\n      <td>0.768533</td>\n    </tr>\n    <tr>\n      <th>19</th>\n      <td>19</td>\n      <td>1</td>\n      <td>909</td>\n      <td>0.765524</td>\n    </tr>\n    <tr>\n      <th>20</th>\n      <td>20</td>\n      <td>2</td>\n      <td>90</td>\n      <td>0.597829</td>\n    </tr>\n    <tr>\n      <th>21</th>\n      <td>21</td>\n      <td>2</td>\n      <td>181</td>\n      <td>0.746124</td>\n    </tr>\n    <tr>\n      <th>22</th>\n      <td>22</td>\n      <td>2</td>\n      <td>272</td>\n      <td>0.730465</td>\n    </tr>\n    <tr>\n      <th>23</th>\n      <td>23</td>\n      <td>2</td>\n      <td>363</td>\n      <td>0.736095</td>\n    </tr>\n    <tr>\n      <th>24</th>\n      <td>24</td>\n      <td>2</td>\n      <td>454</td>\n      <td>0.735673</td>\n    </tr>\n    <tr>\n      <th>25</th>\n      <td>25</td>\n      <td>2</td>\n      <td>545</td>\n      <td>0.740019</td>\n    </tr>\n    <tr>\n      <th>26</th>\n      <td>26</td>\n      <td>2</td>\n      <td>636</td>\n      <td>0.770511</td>\n    </tr>\n    <tr>\n      <th>27</th>\n      <td>27</td>\n      <td>2</td>\n      <td>727</td>\n      <td>0.760483</td>\n    </tr>\n    <tr>\n      <th>28</th>\n      <td>28</td>\n      <td>2</td>\n      <td>818</td>\n      <td>0.768533</td>\n    </tr>\n    <tr>\n      <th>29</th>\n      <td>29</td>\n      <td>2</td>\n      <td>909</td>\n      <td>0.768753</td>\n    </tr>\n    <tr>\n      <th>30</th>\n      <td>30</td>\n      <td>3</td>\n      <td>90</td>\n      <td>0.583982</td>\n    </tr>\n    <tr>\n      <th>31</th>\n      <td>31</td>\n      <td>3</td>\n      <td>181</td>\n      <td>0.716378</td>\n    </tr>\n    <tr>\n      <th>32</th>\n      <td>32</td>\n      <td>3</td>\n      <td>272</td>\n      <td>0.713705</td>\n    </tr>\n    <tr>\n      <th>33</th>\n      <td>33</td>\n      <td>3</td>\n      <td>363</td>\n      <td>0.722669</td>\n    </tr>\n    <tr>\n      <th>34</th>\n      <td>34</td>\n      <td>3</td>\n      <td>454</td>\n      <td>0.727878</td>\n    </tr>\n    <tr>\n      <th>35</th>\n      <td>35</td>\n      <td>3</td>\n      <td>545</td>\n      <td>0.728740</td>\n    </tr>\n    <tr>\n      <th>36</th>\n      <td>36</td>\n      <td>3</td>\n      <td>636</td>\n      <td>0.762021</td>\n    </tr>\n    <tr>\n      <th>37</th>\n      <td>37</td>\n      <td>3</td>\n      <td>727</td>\n      <td>0.752856</td>\n    </tr>\n    <tr>\n      <th>38</th>\n      <td>38</td>\n      <td>3</td>\n      <td>818</td>\n      <td>0.779002</td>\n    </tr>\n    <tr>\n      <th>39</th>\n      <td>39</td>\n      <td>3</td>\n      <td>909</td>\n      <td>0.773573</td>\n    </tr>\n    <tr>\n      <th>40</th>\n      <td>40</td>\n      <td>4</td>\n      <td>90</td>\n      <td>0.619831</td>\n    </tr>\n    <tr>\n      <th>41</th>\n      <td>41</td>\n      <td>4</td>\n      <td>181</td>\n      <td>0.734844</td>\n    </tr>\n    <tr>\n      <th>42</th>\n      <td>42</td>\n      <td>4</td>\n      <td>272</td>\n      <td>0.727015</td>\n    </tr>\n    <tr>\n      <th>43</th>\n      <td>43</td>\n      <td>4</td>\n      <td>363</td>\n      <td>0.733948</td>\n    </tr>\n    <tr>\n      <th>44</th>\n      <td>44</td>\n      <td>4</td>\n      <td>454</td>\n      <td>0.767838</td>\n    </tr>\n    <tr>\n      <th>45</th>\n      <td>45</td>\n      <td>4</td>\n      <td>545</td>\n      <td>0.758064</td>\n    </tr>\n    <tr>\n      <th>46</th>\n      <td>46</td>\n      <td>4</td>\n      <td>636</td>\n      <td>0.772658</td>\n    </tr>\n    <tr>\n      <th>47</th>\n      <td>47</td>\n      <td>4</td>\n      <td>727</td>\n      <td>0.751130</td>\n    </tr>\n    <tr>\n      <th>48</th>\n      <td>48</td>\n      <td>4</td>\n      <td>818</td>\n      <td>0.769395</td>\n    </tr>\n    <tr>\n      <th>49</th>\n      <td>49</td>\n      <td>4</td>\n      <td>909</td>\n      <td>0.767670</td>\n    </tr>\n  </tbody>\n</table>\n</div>"
     },
     "execution_count": 5,
     "metadata": {},
     "output_type": "execute_result"
    }
   ],
   "source": [
    "import os\n",
    "import pandas as pd\n",
    "import seaborn as sns\n",
    "import matplotlib.pyplot as plt\n",
    "\n",
    "results_path = \"\" # specify\n",
    "\n",
    "data = pd.read_csv(os.path.join(results_path, \"incr_train_data.csv\"))"
   ]
  },
  {
   "cell_type": "code",
   "execution_count": null,
   "outputs": [],
   "source": [
    "plot = sns.lineplot(data=data, x=\"step\", y=\"metric\", palette=\"coolwarm\")\n",
    "#plt.title(\"Classification quality by amount of training data\", fontsize=15)\n",
    "plot.set_xlabel(\"# Training cases\", fontsize=15)\n",
    "plot.set_ylabel(\"Accuracy\", fontsize=15)\n",
    "plt.tick_params(labelsize=14)\n",
    "plt.tight_layout()\n",
    "plt.savefig(os.path.join(results_path, \"incr_train_curve.jpg\"))\n",
    "plt.show()"
   ],
   "metadata": {
    "collapsed": false,
    "pycharm": {
     "name": "#%%\n"
    }
   }
  },
  {
   "cell_type": "code",
   "execution_count": 3,
   "outputs": [],
   "source": [],
   "metadata": {
    "collapsed": false,
    "pycharm": {
     "name": "#%%\n"
    }
   }
  }
 ],
 "metadata": {
  "kernelspec": {
   "name": "thesis_env",
   "language": "python",
   "display_name": "thesis_env"
  },
  "language_info": {
   "codemirror_mode": {
    "name": "ipython",
    "version": 2
   },
   "file_extension": ".py",
   "mimetype": "text/x-python",
   "name": "python",
   "nbconvert_exporter": "python",
   "pygments_lexer": "ipython2",
   "version": "2.7.6"
  }
 },
 "nbformat": 4,
 "nbformat_minor": 0
}