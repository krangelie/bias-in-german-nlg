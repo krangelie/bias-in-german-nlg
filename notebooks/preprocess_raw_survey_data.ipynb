{
 "metadata": {
  "language_info": {
   "codemirror_mode": {
    "name": "ipython",
    "version": 3
   },
   "file_extension": ".py",
   "mimetype": "text/x-python",
   "name": "python",
   "nbconvert_exporter": "python",
   "pygments_lexer": "ipython3",
   "version": "3.8.5"
  },
  "orig_nbformat": 2,
  "kernelspec": {
   "name": "thesis_env",
   "language": "python",
   "display_name": "thesis_env"
  }
 },
 "nbformat": 4,
 "nbformat_minor": 2,
 "cells": [
  {
   "cell_type": "markdown",
   "metadata": {
    "pycharm": {
     "name": "#%% md\n"
    }
   },
   "source": [
    "# Prepare raw survey data for annotation"
   ]
  },
  {
   "cell_type": "code",
   "execution_count": 1,
   "outputs": [],
   "source": [
    "import os\n",
    "\n",
    "import pandas as pd \n",
    "import matplotlib.pyplot as plt\n",
    "import spacy"
   ],
   "metadata": {
    "collapsed": false,
    "pycharm": {
     "name": "#%%\n"
    }
   }
  },
  {
   "cell_type": "code",
   "execution_count": 2,
   "metadata": {},
   "outputs": [],
   "source": [
    "data_path = \"../data/raw_study_data\"\n",
    "study_timestamp = \"2021-03-18_08-40\"\n",
    "study_data = f\"data_regard_{study_timestamp}.csv\""
   ]
  },
  {
   "cell_type": "code",
   "execution_count": 3,
   "metadata": {},
   "outputs": [
    {
     "data": {
      "text/plain": "      SERIAL  REF    QUESTNNR       MODE              STARTED          SC01  \\\nCASE                                                                          \n198      NaN  NaN          RG  interview  2021-03-03 09:14:28           NaN   \n200      NaN  NaN  person_img  interview  2021-03-03 09:14:52  Not answered   \n202      NaN  NaN  person_img  interview  2021-03-03 09:16:02            Ja   \n209      NaN  NaN  person_img  interview  2021-03-03 09:48:26  Not answered   \n212      NaN  NaN  person_img  interview  2021-03-03 09:50:00            Ja   \n\n     SC08_01                                               GE02  RN01_CP  \\\nCASE                                                                       \n198      NaN                                                NaN      0.0   \n200      NaN                                                NaN      NaN   \n202      NaN  Ja ich spreche Deutsch auf muttersprachlichem ...      NaN   \n209      NaN                                                NaN      NaN   \n212      NaN  Ja ich spreche Deutsch auf muttersprachlichem ...      NaN   \n\n        RN01  ...  MAILSENT             LASTDATA  FINISHED  Q_VIEWER  \\\nCASE          ...                                                      \n198   female  ...       NaN  2021-03-03 09:14:28         0         0   \n200      NaN  ...       NaN  2021-03-03 09:14:56         0         0   \n202      NaN  ...       NaN  2021-03-03 09:17:20         0         0   \n209      NaN  ...       NaN  2021-03-03 09:48:32         0         0   \n212      NaN  ...       NaN  2021-03-03 10:10:20         1         0   \n\n      LASTPAGE  MAXPAGE  MISSING  MISSREL  TIME_RSI  DEG_TIME  \nCASE                                                           \n198          0        0      NaN      NaN       NaN       100  \n200          2        2    100.0    100.0      3.00       263  \n202          9       10     75.0     73.0      2.44       315  \n209          2        2    100.0    100.0      3.00       144  \n212         26       26      4.0      1.0      0.61         1  \n\n[5 rows x 106 columns]",
      "text/html": "<div>\n<style scoped>\n    .dataframe tbody tr th:only-of-type {\n        vertical-align: middle;\n    }\n\n    .dataframe tbody tr th {\n        vertical-align: top;\n    }\n\n    .dataframe thead th {\n        text-align: right;\n    }\n</style>\n<table border=\"1\" class=\"dataframe\">\n  <thead>\n    <tr style=\"text-align: right;\">\n      <th></th>\n      <th>SERIAL</th>\n      <th>REF</th>\n      <th>QUESTNNR</th>\n      <th>MODE</th>\n      <th>STARTED</th>\n      <th>SC01</th>\n      <th>SC08_01</th>\n      <th>GE02</th>\n      <th>RN01_CP</th>\n      <th>RN01</th>\n      <th>...</th>\n      <th>MAILSENT</th>\n      <th>LASTDATA</th>\n      <th>FINISHED</th>\n      <th>Q_VIEWER</th>\n      <th>LASTPAGE</th>\n      <th>MAXPAGE</th>\n      <th>MISSING</th>\n      <th>MISSREL</th>\n      <th>TIME_RSI</th>\n      <th>DEG_TIME</th>\n    </tr>\n    <tr>\n      <th>CASE</th>\n      <th></th>\n      <th></th>\n      <th></th>\n      <th></th>\n      <th></th>\n      <th></th>\n      <th></th>\n      <th></th>\n      <th></th>\n      <th></th>\n      <th></th>\n      <th></th>\n      <th></th>\n      <th></th>\n      <th></th>\n      <th></th>\n      <th></th>\n      <th></th>\n      <th></th>\n      <th></th>\n      <th></th>\n    </tr>\n  </thead>\n  <tbody>\n    <tr>\n      <th>198</th>\n      <td>NaN</td>\n      <td>NaN</td>\n      <td>RG</td>\n      <td>interview</td>\n      <td>2021-03-03 09:14:28</td>\n      <td>NaN</td>\n      <td>NaN</td>\n      <td>NaN</td>\n      <td>0.0</td>\n      <td>female</td>\n      <td>...</td>\n      <td>NaN</td>\n      <td>2021-03-03 09:14:28</td>\n      <td>0</td>\n      <td>0</td>\n      <td>0</td>\n      <td>0</td>\n      <td>NaN</td>\n      <td>NaN</td>\n      <td>NaN</td>\n      <td>100</td>\n    </tr>\n    <tr>\n      <th>200</th>\n      <td>NaN</td>\n      <td>NaN</td>\n      <td>person_img</td>\n      <td>interview</td>\n      <td>2021-03-03 09:14:52</td>\n      <td>Not answered</td>\n      <td>NaN</td>\n      <td>NaN</td>\n      <td>NaN</td>\n      <td>NaN</td>\n      <td>...</td>\n      <td>NaN</td>\n      <td>2021-03-03 09:14:56</td>\n      <td>0</td>\n      <td>0</td>\n      <td>2</td>\n      <td>2</td>\n      <td>100.0</td>\n      <td>100.0</td>\n      <td>3.00</td>\n      <td>263</td>\n    </tr>\n    <tr>\n      <th>202</th>\n      <td>NaN</td>\n      <td>NaN</td>\n      <td>person_img</td>\n      <td>interview</td>\n      <td>2021-03-03 09:16:02</td>\n      <td>Ja</td>\n      <td>NaN</td>\n      <td>Ja ich spreche Deutsch auf muttersprachlichem ...</td>\n      <td>NaN</td>\n      <td>NaN</td>\n      <td>...</td>\n      <td>NaN</td>\n      <td>2021-03-03 09:17:20</td>\n      <td>0</td>\n      <td>0</td>\n      <td>9</td>\n      <td>10</td>\n      <td>75.0</td>\n      <td>73.0</td>\n      <td>2.44</td>\n      <td>315</td>\n    </tr>\n    <tr>\n      <th>209</th>\n      <td>NaN</td>\n      <td>NaN</td>\n      <td>person_img</td>\n      <td>interview</td>\n      <td>2021-03-03 09:48:26</td>\n      <td>Not answered</td>\n      <td>NaN</td>\n      <td>NaN</td>\n      <td>NaN</td>\n      <td>NaN</td>\n      <td>...</td>\n      <td>NaN</td>\n      <td>2021-03-03 09:48:32</td>\n      <td>0</td>\n      <td>0</td>\n      <td>2</td>\n      <td>2</td>\n      <td>100.0</td>\n      <td>100.0</td>\n      <td>3.00</td>\n      <td>144</td>\n    </tr>\n    <tr>\n      <th>212</th>\n      <td>NaN</td>\n      <td>NaN</td>\n      <td>person_img</td>\n      <td>interview</td>\n      <td>2021-03-03 09:50:00</td>\n      <td>Ja</td>\n      <td>NaN</td>\n      <td>Ja ich spreche Deutsch auf muttersprachlichem ...</td>\n      <td>NaN</td>\n      <td>NaN</td>\n      <td>...</td>\n      <td>NaN</td>\n      <td>2021-03-03 10:10:20</td>\n      <td>1</td>\n      <td>0</td>\n      <td>26</td>\n      <td>26</td>\n      <td>4.0</td>\n      <td>1.0</td>\n      <td>0.61</td>\n      <td>1</td>\n    </tr>\n  </tbody>\n</table>\n<p>5 rows × 106 columns</p>\n</div>"
     },
     "execution_count": 3,
     "metadata": {},
     "output_type": "execute_result"
    }
   ],
   "source": [
    "data = pd.read_csv(os.path.join(data_path, study_data), index_col=0, encoding='iso-8859-1')\n",
    "data.head()"
   ]
  },
  {
   "cell_type": "code",
   "execution_count": 4,
   "metadata": {},
   "outputs": [],
   "source": [
    "def filter_valid(df):\n",
    "    df = df[df['SC01'] == 'Ja']  # SC01 = Consent\n",
    "    df = df[df['GE02'].str.startswith('Ja')]  # GE01 = German skills\n",
    "    df = df.loc[df.loc[:,'PR01_01' : 'NP10_01'].isnull().sum(1) < 20, :]  # at least one sentence\n",
    "    df = df.drop(['MAILSENT', 'Q_VIEWER', 'MISSING', 'MISSREL', 'TIME_RSI', 'DEG_TIME', 'SERIAL', 'REF'], axis=1)\n",
    "    df = df.loc[:,~df.columns.str.startswith('TIME')]\n",
    "    df = df[df['MODE'] != 'admin']\n",
    "    return df\n",
    "data = filter_valid(data)"
   ]
  },
  {
   "cell_type": "code",
   "execution_count": 5,
   "metadata": {},
   "outputs": [],
   "source": [
    "sent_cols = data.loc[:,'PR01_01' : 'NP10_01'].columns\n",
    "noprompt_cols = data.loc[:, 'NP01_01' : 'NP10_01'].columns\n",
    "prompt_cols =  data.loc[:, 'PR01_01' : 'PR02_01'].columns\n"
   ]
  },
  {
   "cell_type": "code",
   "execution_count": 6,
   "metadata": {},
   "outputs": [],
   "source": [
    "variable_table = f\"variables_regard_{study_timestamp}.csv\"\n",
    "variables = pd.read_csv(os.path.join(data_path, variable_table), index_col=0, encoding='iso-8859-1')"
   ]
  },
  {
   "cell_type": "code",
   "execution_count": 7,
   "metadata": {},
   "outputs": [],
   "source": [
    "def prepare_prompt_dict(variables, cols):\n",
    "    prompt_list = [p.split(': ')[1].replace('Die Person', 'XYZ') for p in variables.loc[cols, 'LABEL']]\n",
    "    prompt_dict = dict(zip(cols, prompt_list))\n",
    "    return prompt_dict\n",
    "\n",
    "def remove_prompt_duplicate(text, prompt_dict=None):\n",
    "    # Some participants copied the prompt text into their response\n",
    "    if prompt_dict is None:\n",
    "        if 'Die Person' or 'XYZ' in text:\n",
    "            text = text.replace('Die Person', '')\n",
    "            text = text.replace('XYZ', '')\n",
    "    else:\n",
    "        for val in prompt_dict.values():\n",
    "            if text.startswith('XYZ') and not val.startswith('XYZ'):\n",
    "                val = val.replace('XYZ', 'Die Person')\n",
    "            if val in text:\n",
    "                text = text.replace(val, '')  \n",
    "    return text\n",
    "\n",
    "\n",
    "def get_label_col(df):\n",
    "    label_dict = {'neutral' : 0, 'positive' : 1, 'negative' : -1}\n",
    "    return df['FA04'].apply(lambda label : label_dict[label])\n",
    "\n",
    "\n",
    "def add_BOS_to_reponse(df, cols, prompt_dict=None, case=None):\n",
    "    texts = pd.DataFrame(columns=cols)\n",
    "    for col in cols:\n",
    "        if prompt_dict is None:\n",
    "            texts[col] = data[col].apply(lambda text :  'XYZ ' + remove_prompt_duplicate(str(text), prompt_dict) if str(text) != 'nan' else None)\n",
    "        else:\n",
    "            texts[col] = df[col].apply(lambda text : prompt_dict[col] + ' ' + remove_prompt_duplicate(str(text), prompt_dict) if str(text) != 'nan' else None)\n",
    "   \n",
    "    \n",
    "    texts['label'] = get_label_col(df)\n",
    "    texts['case'] = df.index\n",
    "    return texts\n",
    "\n"
   ]
  },
  {
   "cell_type": "code",
   "execution_count": 8,
   "metadata": {
    "tags": []
   },
   "outputs": [],
   "source": [
    "def csv_ready(completed_texts):\n",
    "    # Prepare output file\n",
    "    texts = []\n",
    "    labels = []\n",
    "    case = []\n",
    "    for _, row in completed_texts.iterrows():\n",
    "        texts_of_single_case = row[~row.isnull()].tolist()[:-2] # because last two indices of row are label & case\n",
    "        texts += texts_of_single_case\n",
    "        labels += [row['label']] * len(texts_of_single_case) \n",
    "        case += [row['case']] * len(texts_of_single_case)\n",
    "\n",
    "    csv_ready = pd.DataFrame(zip(case, labels, texts), columns=['case', 'label', 'text'])\n",
    "    return csv_ready\n",
    "\n",
    "prompt_dict = prepare_prompt_dict(variables, prompt_cols)\n",
    "prompted_texts = add_BOS_to_reponse(data, prompt_cols, prompt_dict)\n",
    "unprompted_texts = add_BOS_to_reponse(data, noprompt_cols)\n",
    "\n",
    "csv_ready_prompt = csv_ready(prompted_texts)\n",
    "csv_ready_noprompt = csv_ready(unprompted_texts)\n",
    "csv_ready_all = pd.concat([csv_ready_prompt, csv_ready_noprompt]).reset_index()\n"
   ]
  },
  {
   "cell_type": "code",
   "execution_count": 9,
   "metadata": {},
   "outputs": [
    {
     "data": {
      "text/plain": "array([ 0, -1,  1])"
     },
     "execution_count": 9,
     "metadata": {},
     "output_type": "execute_result"
    }
   ],
   "source": [
    "csv_ready_all['label'].unique()"
   ]
  },
  {
   "cell_type": "code",
   "execution_count": 10,
   "metadata": {},
   "outputs": [
    {
     "data": {
      "text/plain": "                                                   text\n0     Die Person arbeitete als Ballfänger bei einem ...\n1     Die Person verdiente Geld indem die anstrengen...\n2     Die Person war sehr bekannt dafür häufig herzl...\n3     Die Person wurde beschrieben als ruhiger Zeitg...\n4     Die Person hatte eine Stelle angefangen als Ba...\n...                                                 ...\n1153               Die Person ist ein Dudelsackspieler.\n1154                Die Person arbeitet als Sekretärin.\n1155                 Die Person ist müde und erschöpft.\n1156  Die Person folgt dem Kurs der kommunistischen ...\n1157               Die Person sieht sehr skeptisch aus.\n\n[1158 rows x 1 columns]",
      "text/html": "<div>\n<style scoped>\n    .dataframe tbody tr th:only-of-type {\n        vertical-align: middle;\n    }\n\n    .dataframe tbody tr th {\n        vertical-align: top;\n    }\n\n    .dataframe thead th {\n        text-align: right;\n    }\n</style>\n<table border=\"1\" class=\"dataframe\">\n  <thead>\n    <tr style=\"text-align: right;\">\n      <th></th>\n      <th>text</th>\n    </tr>\n  </thead>\n  <tbody>\n    <tr>\n      <th>0</th>\n      <td>Die Person arbeitete als Ballfänger bei einem ...</td>\n    </tr>\n    <tr>\n      <th>1</th>\n      <td>Die Person verdiente Geld indem die anstrengen...</td>\n    </tr>\n    <tr>\n      <th>2</th>\n      <td>Die Person war sehr bekannt dafür häufig herzl...</td>\n    </tr>\n    <tr>\n      <th>3</th>\n      <td>Die Person wurde beschrieben als ruhiger Zeitg...</td>\n    </tr>\n    <tr>\n      <th>4</th>\n      <td>Die Person hatte eine Stelle angefangen als Ba...</td>\n    </tr>\n    <tr>\n      <th>...</th>\n      <td>...</td>\n    </tr>\n    <tr>\n      <th>1153</th>\n      <td>Die Person ist ein Dudelsackspieler.</td>\n    </tr>\n    <tr>\n      <th>1154</th>\n      <td>Die Person arbeitet als Sekretärin.</td>\n    </tr>\n    <tr>\n      <th>1155</th>\n      <td>Die Person ist müde und erschöpft.</td>\n    </tr>\n    <tr>\n      <th>1156</th>\n      <td>Die Person folgt dem Kurs der kommunistischen ...</td>\n    </tr>\n    <tr>\n      <th>1157</th>\n      <td>Die Person sieht sehr skeptisch aus.</td>\n    </tr>\n  </tbody>\n</table>\n<p>1158 rows × 1 columns</p>\n</div>"
     },
     "execution_count": 10,
     "metadata": {},
     "output_type": "execute_result"
    }
   ],
   "source": [
    "csv_ready_all_person = pd.DataFrame(csv_ready_all.apply(lambda text: text['text'].replace('XYZ', 'Die Person'), axis=1),\n",
    "                        columns=['text'], index=csv_ready_all.index)\n",
    "csv_ready_all_person"
   ]
  },
  {
   "cell_type": "code",
   "execution_count": 12,
   "metadata": {
    "pycharm": {
     "name": "#%%\n"
    }
   },
   "outputs": [],
   "source": [
    "#dest = os.path.join(data_path, 'for_annotation')\n",
    "#os.makedirs(dest, exist_ok=True)\n",
    "#csv_ready_all.to_csv(os.path.join(dest, 'all_with_label.csv'), sep=',', header=True, index=True)\n",
    "#csv_ready_all_person.to_csv(os.path.join(dest, 'all_without_label.csv'), sep=',', header=True,\n",
    "# index=True)\n",
    "\n",
    "\n"
   ]
  }
 ]
}